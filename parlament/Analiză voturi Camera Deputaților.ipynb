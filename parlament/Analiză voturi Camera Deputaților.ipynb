{
 "cells": [
  {
   "cell_type": "markdown",
   "metadata": {},
   "source": [
    "# Ce e acest articol?\n",
    "\n",
    "Am încercat să îmi dau seama eu cu cine votez... [hâc](https://ro.wikisource.org/wiki/O_scrisoare_pierdut%C4%83#Scena_VIII)!\n",
    "\n",
    "Am găsit date despre voturile Camerei Deputaților din februarie 2017 încoace, [pe Parlament Transparent](https://parlament.openpolitics.ro/export/).\n",
    "\n",
    "Datele din Senat sunt disponibile pe [site-ul Senatului](https://www.senat.ro/Voturiplen.aspx), dar nu le-a aranjat nimeni (încă?) pentru a le putea procesa cu ușurință. Poate o să le aranjez eu mai încolo, folosind un scraper.\n",
    "\n",
    "Prin aceste date, am vrut să văd ce susțin partidele și cât de similare sunt.\n",
    "Putem obține astfel o analiză mai obiectivă, ce ia în considerare voturile efectuate, și nu propaganda electorală.\n",
    "\n",
    "Tot nu cred că această analiză e absolut obiectivă, deoarece unele partide ar putea vota pentru imagine când ar ști că votul lor nu ar avea efect. De asemenea, un partid se comportă într-un fel când e la putere, și altfel când e în opoziție.\n",
    "\n",
    "Constat că lipsesc datele grupării \"PRO Europa\", ceea ce înseamnă că datele despre apartenență sunt mai vechi. Nu am ajuns să le actualizez. Oricum, cu excepția dlui. [Balint Liviu](http://www.cdep.ro/pls/parlam/structura2015.mp?idm=19&cam=2&leg=2016), care a fost și prin PMP, ceilalți din PRO Europa au fost doar în PSD sau ALDE.\n",
    "\n",
    "Vă invit să îmi analizați această analiză și să-mi ziceți ce idei mai aveți. Sper să vă folosească aceste date pentru a decide și a vota!\n",
    "\n",
    "© 2019 Dan Gheorghe Haiduc - Licență [CC BY-SA 4.0](https://creativecommons.org/licenses/by-sa/4.0/)<br />\n",
    "Distribuirea și modificarea sunt permise numai cu condiția atribuirii autorului.<br />"
   ]
  },
  {
   "cell_type": "markdown",
   "metadata": {},
   "source": [
    "## Schimbare: vineri, 2019-11-01\n",
    "\n",
    "Metoda calculării votului normalizat (comparabil între partide) era cam ciudată (abținerile erau considerate diferite de lipsa unui vot sau de absențe). Ca urmare, apăreau diferențe artificiale irelevante dintre partide.\n",
    "\n",
    "Am decis să iau ca vot normalizat procentul de membri ai partidului (prezenți sau nu) care au votat \"da\". Astfel, se schimbă toată analiza ce urmează.\n",
    "\n",
    "[Vezi în Constituție](http://www.cdep.ro/pls/dic/site2015.page?den=act2_1&par1=3#t3c1s3sba76) diferența dintre \"votul majorității membrilor\" în cazul legilor organice (prezenți sau absenți) și \"votul majorității membrilor prezenți\" pentru legi ordinare (ce are putere chiar dacă ar fi un singur parlamentar prezent, de exemplu).\n",
    "\n",
    "Sper că această abordare arată o imagine mai corectă. Cred acest lucru deoarece numărul voturilor de \"da\" este cel cu efect, și chiar dacă membrii prezenți votează \"da\", absența multora înseamnă că partidul nu e chiar pe poziția \"da\".\n",
    "\n",
    "Totuși, să luăm ca exemplu [acest vot](http://www.cdep.ro/pls/steno/evot2015.nominal?idv=20342), unde sunt absenți 32 de membri PNL, 7 USR, 5 UDMR, și 6 PMP.\n",
    "\n",
    "Pe lângă cei 97 de prezenți ce nu au votat \"da\", dacă acești absenți s-ar fi prezentat și votat, ar fi ajuns la 147, și ar fi depășit cele 136 de voturi \"da\", iar această lege ordinară nu ar fi fost adoptată.\n",
    "\n",
    "În ce măsură credeți că absențele au fost intenționate, într-un joc politic? O analiză ce ar estima acest lucru ar fi foarte sofisticată; iar cea pe care o citiți nu ia în considerare absențele ca vot \"pro\"."
   ]
  },
  {
   "cell_type": "markdown",
   "metadata": {},
   "source": [
    "# Încărcare date"
   ]
  },
  {
   "cell_type": "code",
   "execution_count": 1,
   "metadata": {},
   "outputs": [
    {
     "name": "stdout",
     "output_type": "stream",
     "text": [
      "File ‘membri_grupuri.csv’ already there; not retrieving.\n",
      "\n",
      "File ‘voturi.csv’ already there; not retrieving.\n",
      "\n"
     ]
    }
   ],
   "source": [
    "%matplotlib inline\n",
    "\n",
    "import numpy as np\n",
    "import pandas as pd\n",
    "pd.options.display.max_rows = 100\n",
    "\n",
    "import matplotlib.pyplot as plt\n",
    "plt.rcParams['figure.figsize'] = [6, 6]\n",
    "\n",
    "import seaborn as sns\n",
    "sns.set()\n",
    "\n",
    "from scipy.optimize import minimize\n",
    "\n",
    "# Date obtinute de la Parlament Transparent, Popescu, Marina și Chiru, Mihail.\n",
    "# https://parlament.openpolitics.ro/export/\n",
    "# Datele pot fi reutilizate sub licență CC-BY-SA-4.0 sau CC-BY-SA-3.0-RO\n",
    "# Datele se refera doar la Camera Deputatilor (nu si Senat).\n",
    "\n",
    "!wget -nc https://parlament.openpolitics.ro/export/membri_grupuri.csv\n",
    "!wget -nc https://parlament.openpolitics.ro/export/voturi.csv"
   ]
  },
  {
   "cell_type": "code",
   "execution_count": 2,
   "metadata": {},
   "outputs": [
    {
     "data": {
      "text/html": [
       "<div>\n",
       "<style scoped>\n",
       "    .dataframe tbody tr th:only-of-type {\n",
       "        vertical-align: middle;\n",
       "    }\n",
       "\n",
       "    .dataframe tbody tr th {\n",
       "        vertical-align: top;\n",
       "    }\n",
       "\n",
       "    .dataframe thead th {\n",
       "        text-align: right;\n",
       "    }\n",
       "</style>\n",
       "<table border=\"1\" class=\"dataframe\">\n",
       "  <thead>\n",
       "    <tr style=\"text-align: right;\">\n",
       "      <th></th>\n",
       "      <th>data</th>\n",
       "      <th>cod cdep</th>\n",
       "      <th>nume</th>\n",
       "      <th>vot</th>\n",
       "      <th>vot grup</th>\n",
       "      <th>partid</th>\n",
       "    </tr>\n",
       "  </thead>\n",
       "  <tbody>\n",
       "    <tr>\n",
       "      <th>0</th>\n",
       "      <td>2017-02-14</td>\n",
       "      <td>16105</td>\n",
       "      <td>Antoneta Ioniţă</td>\n",
       "      <td>da</td>\n",
       "      <td>da</td>\n",
       "      <td>PNL</td>\n",
       "    </tr>\n",
       "    <tr>\n",
       "      <th>1</th>\n",
       "      <td>2017-02-14</td>\n",
       "      <td>16106</td>\n",
       "      <td>Antoneta Ioniţă</td>\n",
       "      <td>da</td>\n",
       "      <td>da</td>\n",
       "      <td>PNL</td>\n",
       "    </tr>\n",
       "    <tr>\n",
       "      <th>2</th>\n",
       "      <td>2017-02-14</td>\n",
       "      <td>16107</td>\n",
       "      <td>Antoneta Ioniţă</td>\n",
       "      <td>da</td>\n",
       "      <td>da</td>\n",
       "      <td>PNL</td>\n",
       "    </tr>\n",
       "    <tr>\n",
       "      <th>3</th>\n",
       "      <td>2017-02-14</td>\n",
       "      <td>16108</td>\n",
       "      <td>Antoneta Ioniţă</td>\n",
       "      <td>nu</td>\n",
       "      <td>nu</td>\n",
       "      <td>PNL</td>\n",
       "    </tr>\n",
       "    <tr>\n",
       "      <th>4</th>\n",
       "      <td>2017-02-14</td>\n",
       "      <td>16109</td>\n",
       "      <td>Antoneta Ioniţă</td>\n",
       "      <td>da</td>\n",
       "      <td>da</td>\n",
       "      <td>PNL</td>\n",
       "    </tr>\n",
       "    <tr>\n",
       "      <th>...</th>\n",
       "      <td>...</td>\n",
       "      <td>...</td>\n",
       "      <td>...</td>\n",
       "      <td>...</td>\n",
       "      <td>...</td>\n",
       "      <td>...</td>\n",
       "    </tr>\n",
       "    <tr>\n",
       "      <th>415760</th>\n",
       "      <td>2019-10-22</td>\n",
       "      <td>22897</td>\n",
       "      <td>Andrian Ampleev</td>\n",
       "      <td>da</td>\n",
       "      <td>da</td>\n",
       "      <td>Minorități</td>\n",
       "    </tr>\n",
       "    <tr>\n",
       "      <th>415761</th>\n",
       "      <td>2019-10-22</td>\n",
       "      <td>22898</td>\n",
       "      <td>Andrian Ampleev</td>\n",
       "      <td>da</td>\n",
       "      <td>da</td>\n",
       "      <td>Minorități</td>\n",
       "    </tr>\n",
       "    <tr>\n",
       "      <th>415762</th>\n",
       "      <td>2019-10-22</td>\n",
       "      <td>22899</td>\n",
       "      <td>Andrian Ampleev</td>\n",
       "      <td>da</td>\n",
       "      <td>da</td>\n",
       "      <td>Minorități</td>\n",
       "    </tr>\n",
       "    <tr>\n",
       "      <th>415763</th>\n",
       "      <td>2019-10-22</td>\n",
       "      <td>22900</td>\n",
       "      <td>Andrian Ampleev</td>\n",
       "      <td>da</td>\n",
       "      <td>da</td>\n",
       "      <td>Minorități</td>\n",
       "    </tr>\n",
       "    <tr>\n",
       "      <th>415764</th>\n",
       "      <td>2019-10-22</td>\n",
       "      <td>22901</td>\n",
       "      <td>Andrian Ampleev</td>\n",
       "      <td>da</td>\n",
       "      <td>da</td>\n",
       "      <td>Minorități</td>\n",
       "    </tr>\n",
       "  </tbody>\n",
       "</table>\n",
       "<p>415765 rows × 6 columns</p>\n",
       "</div>"
      ],
      "text/plain": [
       "              data  cod cdep             nume vot vot grup      partid\n",
       "0       2017-02-14     16105  Antoneta Ioniţă  da       da         PNL\n",
       "1       2017-02-14     16106  Antoneta Ioniţă  da       da         PNL\n",
       "2       2017-02-14     16107  Antoneta Ioniţă  da       da         PNL\n",
       "3       2017-02-14     16108  Antoneta Ioniţă  nu       nu         PNL\n",
       "4       2017-02-14     16109  Antoneta Ioniţă  da       da         PNL\n",
       "...            ...       ...              ...  ..      ...         ...\n",
       "415760  2019-10-22     22897  Andrian Ampleev  da       da  Minorități\n",
       "415761  2019-10-22     22898  Andrian Ampleev  da       da  Minorități\n",
       "415762  2019-10-22     22899  Andrian Ampleev  da       da  Minorități\n",
       "415763  2019-10-22     22900  Andrian Ampleev  da       da  Minorități\n",
       "415764  2019-10-22     22901  Andrian Ampleev  da       da  Minorități\n",
       "\n",
       "[415765 rows x 6 columns]"
      ]
     },
     "execution_count": 2,
     "metadata": {},
     "output_type": "execute_result"
    }
   ],
   "source": [
    "# Ordonare obiectivă: putere (PSD) -> opoziție (partide nesimilare cu PSD)\n",
    "coloane_partide = ['PSD', 'Minorități', 'ALDE', 'UDMR', 'Neafiliați', 'PNL', 'USR', 'PMP']\n",
    "descriere_partide = [\n",
    "    'Grupul parlamentar al Partidului Social Democrat',\n",
    "    'Grupul parlamentar al minorităţilor naţionale',\n",
    "    'Grupul parlamentar ALDE (Alianţa liberalilor şi democraţilor)',\n",
    "    'Grupul parlamentar al Uniunii Democrate Maghiare din România',\n",
    "    'Deputati neafiliati',\n",
    "    'Grupul parlamentar al Partidului Naţional Liberal',\n",
    "    'Grupul parlamentar al Uniunii Salvaţi România',\n",
    "    'Grupul parlamentar al Partidului Mişcarea Populară',\n",
    "]\n",
    "\n",
    "\n",
    "membri = pd.read_csv('membri_grupuri.csv')\n",
    "\n",
    "for partid, abrev in zip(descriere_partide, coloane_partide):\n",
    "    membri = membri.replace(partid, abrev)\n",
    "\n",
    "voturi = pd.read_csv('voturi.csv')\n",
    "voturi_cu_partide = voturi.merge(membri[['nume', 'partid']])\n",
    "voturi_cu_partide['partid'].fillna('niciunul curent', inplace=True)\n",
    "voturi_cu_partide"
   ]
  },
  {
   "cell_type": "markdown",
   "metadata": {},
   "source": [
    "# Top partide după voturi rebele\n",
    "\n",
    "Această analiză a fost făcută deja aici, până la 5 iulie 2018: https://parlament.openpolitics.ro/statistici/vot-rebel\n",
    "\n",
    "Observ că rata \"rebeliunii\" e destul de mică, și nu consider că ar avea vreo influență în votul meu. Decid să nu caut detalii aici. Dar dacă îmi trimiteți cod pe tavă și mă rugați să îl includ, o să o fac."
   ]
  },
  {
   "cell_type": "markdown",
   "metadata": {},
   "source": [
    "# Procesare: voturi în funcție de partide"
   ]
  },
  {
   "cell_type": "code",
   "execution_count": 3,
   "metadata": {},
   "outputs": [
    {
     "data": {
      "text/html": [
       "<div>\n",
       "<style scoped>\n",
       "    .dataframe tbody tr th:only-of-type {\n",
       "        vertical-align: middle;\n",
       "    }\n",
       "\n",
       "    .dataframe tbody tr th {\n",
       "        vertical-align: top;\n",
       "    }\n",
       "\n",
       "    .dataframe thead tr th {\n",
       "        text-align: left;\n",
       "    }\n",
       "\n",
       "    .dataframe thead tr:last-of-type th {\n",
       "        text-align: right;\n",
       "    }\n",
       "</style>\n",
       "<table border=\"1\" class=\"dataframe\">\n",
       "  <thead>\n",
       "    <tr>\n",
       "      <th>partid</th>\n",
       "      <th colspan=\"4\" halign=\"left\">ALDE</th>\n",
       "      <th colspan=\"4\" halign=\"left\">Minorități</th>\n",
       "      <th colspan=\"2\" halign=\"left\">Neafiliați</th>\n",
       "      <th>...</th>\n",
       "      <th colspan=\"2\" halign=\"left\">PSD</th>\n",
       "      <th colspan=\"4\" halign=\"left\">UDMR</th>\n",
       "      <th colspan=\"4\" halign=\"left\">USR</th>\n",
       "    </tr>\n",
       "    <tr>\n",
       "      <th>vot</th>\n",
       "      <th>abținere</th>\n",
       "      <th>da</th>\n",
       "      <th>nu</th>\n",
       "      <th>—</th>\n",
       "      <th>abținere</th>\n",
       "      <th>da</th>\n",
       "      <th>nu</th>\n",
       "      <th>—</th>\n",
       "      <th>abținere</th>\n",
       "      <th>da</th>\n",
       "      <th>...</th>\n",
       "      <th>nu</th>\n",
       "      <th>—</th>\n",
       "      <th>abținere</th>\n",
       "      <th>da</th>\n",
       "      <th>nu</th>\n",
       "      <th>—</th>\n",
       "      <th>abținere</th>\n",
       "      <th>da</th>\n",
       "      <th>nu</th>\n",
       "      <th>—</th>\n",
       "    </tr>\n",
       "    <tr>\n",
       "      <th>cod cdep</th>\n",
       "      <th></th>\n",
       "      <th></th>\n",
       "      <th></th>\n",
       "      <th></th>\n",
       "      <th></th>\n",
       "      <th></th>\n",
       "      <th></th>\n",
       "      <th></th>\n",
       "      <th></th>\n",
       "      <th></th>\n",
       "      <th></th>\n",
       "      <th></th>\n",
       "      <th></th>\n",
       "      <th></th>\n",
       "      <th></th>\n",
       "      <th></th>\n",
       "      <th></th>\n",
       "      <th></th>\n",
       "      <th></th>\n",
       "      <th></th>\n",
       "      <th></th>\n",
       "    </tr>\n",
       "  </thead>\n",
       "  <tbody>\n",
       "    <tr>\n",
       "      <th>16105</th>\n",
       "      <td>0.0</td>\n",
       "      <td>13.0</td>\n",
       "      <td>2.0</td>\n",
       "      <td>0.0</td>\n",
       "      <td>0.0</td>\n",
       "      <td>14.0</td>\n",
       "      <td>0.0</td>\n",
       "      <td>0.0</td>\n",
       "      <td>0.0</td>\n",
       "      <td>20.0</td>\n",
       "      <td>...</td>\n",
       "      <td>4.0</td>\n",
       "      <td>0.0</td>\n",
       "      <td>0.0</td>\n",
       "      <td>21.0</td>\n",
       "      <td>0.0</td>\n",
       "      <td>0.0</td>\n",
       "      <td>0.0</td>\n",
       "      <td>23.0</td>\n",
       "      <td>0.0</td>\n",
       "      <td>1.0</td>\n",
       "    </tr>\n",
       "    <tr>\n",
       "      <th>16106</th>\n",
       "      <td>0.0</td>\n",
       "      <td>13.0</td>\n",
       "      <td>2.0</td>\n",
       "      <td>0.0</td>\n",
       "      <td>1.0</td>\n",
       "      <td>13.0</td>\n",
       "      <td>0.0</td>\n",
       "      <td>0.0</td>\n",
       "      <td>0.0</td>\n",
       "      <td>20.0</td>\n",
       "      <td>...</td>\n",
       "      <td>4.0</td>\n",
       "      <td>0.0</td>\n",
       "      <td>0.0</td>\n",
       "      <td>21.0</td>\n",
       "      <td>0.0</td>\n",
       "      <td>0.0</td>\n",
       "      <td>0.0</td>\n",
       "      <td>23.0</td>\n",
       "      <td>1.0</td>\n",
       "      <td>0.0</td>\n",
       "    </tr>\n",
       "    <tr>\n",
       "      <th>16107</th>\n",
       "      <td>1.0</td>\n",
       "      <td>14.0</td>\n",
       "      <td>0.0</td>\n",
       "      <td>0.0</td>\n",
       "      <td>0.0</td>\n",
       "      <td>14.0</td>\n",
       "      <td>0.0</td>\n",
       "      <td>0.0</td>\n",
       "      <td>0.0</td>\n",
       "      <td>20.0</td>\n",
       "      <td>...</td>\n",
       "      <td>0.0</td>\n",
       "      <td>0.0</td>\n",
       "      <td>0.0</td>\n",
       "      <td>21.0</td>\n",
       "      <td>0.0</td>\n",
       "      <td>0.0</td>\n",
       "      <td>0.0</td>\n",
       "      <td>24.0</td>\n",
       "      <td>0.0</td>\n",
       "      <td>0.0</td>\n",
       "    </tr>\n",
       "    <tr>\n",
       "      <th>16108</th>\n",
       "      <td>0.0</td>\n",
       "      <td>10.0</td>\n",
       "      <td>5.0</td>\n",
       "      <td>0.0</td>\n",
       "      <td>0.0</td>\n",
       "      <td>13.0</td>\n",
       "      <td>1.0</td>\n",
       "      <td>0.0</td>\n",
       "      <td>0.0</td>\n",
       "      <td>20.0</td>\n",
       "      <td>...</td>\n",
       "      <td>4.0</td>\n",
       "      <td>0.0</td>\n",
       "      <td>0.0</td>\n",
       "      <td>21.0</td>\n",
       "      <td>0.0</td>\n",
       "      <td>0.0</td>\n",
       "      <td>0.0</td>\n",
       "      <td>24.0</td>\n",
       "      <td>0.0</td>\n",
       "      <td>0.0</td>\n",
       "    </tr>\n",
       "    <tr>\n",
       "      <th>16109</th>\n",
       "      <td>0.0</td>\n",
       "      <td>15.0</td>\n",
       "      <td>0.0</td>\n",
       "      <td>0.0</td>\n",
       "      <td>0.0</td>\n",
       "      <td>14.0</td>\n",
       "      <td>0.0</td>\n",
       "      <td>0.0</td>\n",
       "      <td>0.0</td>\n",
       "      <td>20.0</td>\n",
       "      <td>...</td>\n",
       "      <td>2.0</td>\n",
       "      <td>0.0</td>\n",
       "      <td>0.0</td>\n",
       "      <td>21.0</td>\n",
       "      <td>0.0</td>\n",
       "      <td>0.0</td>\n",
       "      <td>0.0</td>\n",
       "      <td>24.0</td>\n",
       "      <td>0.0</td>\n",
       "      <td>0.0</td>\n",
       "    </tr>\n",
       "    <tr>\n",
       "      <th>...</th>\n",
       "      <td>...</td>\n",
       "      <td>...</td>\n",
       "      <td>...</td>\n",
       "      <td>...</td>\n",
       "      <td>...</td>\n",
       "      <td>...</td>\n",
       "      <td>...</td>\n",
       "      <td>...</td>\n",
       "      <td>...</td>\n",
       "      <td>...</td>\n",
       "      <td>...</td>\n",
       "      <td>...</td>\n",
       "      <td>...</td>\n",
       "      <td>...</td>\n",
       "      <td>...</td>\n",
       "      <td>...</td>\n",
       "      <td>...</td>\n",
       "      <td>...</td>\n",
       "      <td>...</td>\n",
       "      <td>...</td>\n",
       "      <td>...</td>\n",
       "    </tr>\n",
       "    <tr>\n",
       "      <th>22897</th>\n",
       "      <td>0.0</td>\n",
       "      <td>14.0</td>\n",
       "      <td>0.0</td>\n",
       "      <td>0.0</td>\n",
       "      <td>0.0</td>\n",
       "      <td>12.0</td>\n",
       "      <td>0.0</td>\n",
       "      <td>0.0</td>\n",
       "      <td>0.0</td>\n",
       "      <td>12.0</td>\n",
       "      <td>...</td>\n",
       "      <td>0.0</td>\n",
       "      <td>0.0</td>\n",
       "      <td>0.0</td>\n",
       "      <td>16.0</td>\n",
       "      <td>0.0</td>\n",
       "      <td>0.0</td>\n",
       "      <td>0.0</td>\n",
       "      <td>25.0</td>\n",
       "      <td>0.0</td>\n",
       "      <td>0.0</td>\n",
       "    </tr>\n",
       "    <tr>\n",
       "      <th>22898</th>\n",
       "      <td>0.0</td>\n",
       "      <td>15.0</td>\n",
       "      <td>0.0</td>\n",
       "      <td>0.0</td>\n",
       "      <td>0.0</td>\n",
       "      <td>13.0</td>\n",
       "      <td>0.0</td>\n",
       "      <td>0.0</td>\n",
       "      <td>1.0</td>\n",
       "      <td>11.0</td>\n",
       "      <td>...</td>\n",
       "      <td>0.0</td>\n",
       "      <td>0.0</td>\n",
       "      <td>0.0</td>\n",
       "      <td>17.0</td>\n",
       "      <td>0.0</td>\n",
       "      <td>0.0</td>\n",
       "      <td>0.0</td>\n",
       "      <td>25.0</td>\n",
       "      <td>0.0</td>\n",
       "      <td>0.0</td>\n",
       "    </tr>\n",
       "    <tr>\n",
       "      <th>22899</th>\n",
       "      <td>0.0</td>\n",
       "      <td>14.0</td>\n",
       "      <td>0.0</td>\n",
       "      <td>0.0</td>\n",
       "      <td>1.0</td>\n",
       "      <td>13.0</td>\n",
       "      <td>0.0</td>\n",
       "      <td>0.0</td>\n",
       "      <td>0.0</td>\n",
       "      <td>12.0</td>\n",
       "      <td>...</td>\n",
       "      <td>0.0</td>\n",
       "      <td>0.0</td>\n",
       "      <td>0.0</td>\n",
       "      <td>17.0</td>\n",
       "      <td>0.0</td>\n",
       "      <td>0.0</td>\n",
       "      <td>0.0</td>\n",
       "      <td>25.0</td>\n",
       "      <td>0.0</td>\n",
       "      <td>0.0</td>\n",
       "    </tr>\n",
       "    <tr>\n",
       "      <th>22900</th>\n",
       "      <td>0.0</td>\n",
       "      <td>15.0</td>\n",
       "      <td>0.0</td>\n",
       "      <td>0.0</td>\n",
       "      <td>0.0</td>\n",
       "      <td>14.0</td>\n",
       "      <td>0.0</td>\n",
       "      <td>0.0</td>\n",
       "      <td>0.0</td>\n",
       "      <td>12.0</td>\n",
       "      <td>...</td>\n",
       "      <td>0.0</td>\n",
       "      <td>0.0</td>\n",
       "      <td>0.0</td>\n",
       "      <td>17.0</td>\n",
       "      <td>0.0</td>\n",
       "      <td>0.0</td>\n",
       "      <td>0.0</td>\n",
       "      <td>25.0</td>\n",
       "      <td>0.0</td>\n",
       "      <td>0.0</td>\n",
       "    </tr>\n",
       "    <tr>\n",
       "      <th>22901</th>\n",
       "      <td>9.0</td>\n",
       "      <td>4.0</td>\n",
       "      <td>0.0</td>\n",
       "      <td>0.0</td>\n",
       "      <td>3.0</td>\n",
       "      <td>11.0</td>\n",
       "      <td>0.0</td>\n",
       "      <td>0.0</td>\n",
       "      <td>0.0</td>\n",
       "      <td>9.0</td>\n",
       "      <td>...</td>\n",
       "      <td>1.0</td>\n",
       "      <td>0.0</td>\n",
       "      <td>0.0</td>\n",
       "      <td>16.0</td>\n",
       "      <td>0.0</td>\n",
       "      <td>0.0</td>\n",
       "      <td>0.0</td>\n",
       "      <td>0.0</td>\n",
       "      <td>25.0</td>\n",
       "      <td>0.0</td>\n",
       "    </tr>\n",
       "  </tbody>\n",
       "</table>\n",
       "<p>1601 rows × 32 columns</p>\n",
       "</div>"
      ],
      "text/plain": [
       "partid       ALDE                 Minorități                 Neafiliați        \\\n",
       "vot      abținere    da   nu    —   abținere    da   nu    —   abținere    da   \n",
       "cod cdep                                                                        \n",
       "16105         0.0  13.0  2.0  0.0        0.0  14.0  0.0  0.0        0.0  20.0   \n",
       "16106         0.0  13.0  2.0  0.0        1.0  13.0  0.0  0.0        0.0  20.0   \n",
       "16107         1.0  14.0  0.0  0.0        0.0  14.0  0.0  0.0        0.0  20.0   \n",
       "16108         0.0  10.0  5.0  0.0        0.0  13.0  1.0  0.0        0.0  20.0   \n",
       "16109         0.0  15.0  0.0  0.0        0.0  14.0  0.0  0.0        0.0  20.0   \n",
       "...           ...   ...  ...  ...        ...   ...  ...  ...        ...   ...   \n",
       "22897         0.0  14.0  0.0  0.0        0.0  12.0  0.0  0.0        0.0  12.0   \n",
       "22898         0.0  15.0  0.0  0.0        0.0  13.0  0.0  0.0        1.0  11.0   \n",
       "22899         0.0  14.0  0.0  0.0        1.0  13.0  0.0  0.0        0.0  12.0   \n",
       "22900         0.0  15.0  0.0  0.0        0.0  14.0  0.0  0.0        0.0  12.0   \n",
       "22901         9.0   4.0  0.0  0.0        3.0  11.0  0.0  0.0        0.0   9.0   \n",
       "\n",
       "partid    ...  PSD          UDMR                      USR                   \n",
       "vot       ...   nu    — abținere    da   nu    — abținere    da    nu    —  \n",
       "cod cdep  ...                                                               \n",
       "16105     ...  4.0  0.0      0.0  21.0  0.0  0.0      0.0  23.0   0.0  1.0  \n",
       "16106     ...  4.0  0.0      0.0  21.0  0.0  0.0      0.0  23.0   1.0  0.0  \n",
       "16107     ...  0.0  0.0      0.0  21.0  0.0  0.0      0.0  24.0   0.0  0.0  \n",
       "16108     ...  4.0  0.0      0.0  21.0  0.0  0.0      0.0  24.0   0.0  0.0  \n",
       "16109     ...  2.0  0.0      0.0  21.0  0.0  0.0      0.0  24.0   0.0  0.0  \n",
       "...       ...  ...  ...      ...   ...  ...  ...      ...   ...   ...  ...  \n",
       "22897     ...  0.0  0.0      0.0  16.0  0.0  0.0      0.0  25.0   0.0  0.0  \n",
       "22898     ...  0.0  0.0      0.0  17.0  0.0  0.0      0.0  25.0   0.0  0.0  \n",
       "22899     ...  0.0  0.0      0.0  17.0  0.0  0.0      0.0  25.0   0.0  0.0  \n",
       "22900     ...  0.0  0.0      0.0  17.0  0.0  0.0      0.0  25.0   0.0  0.0  \n",
       "22901     ...  1.0  0.0      0.0  16.0  0.0  0.0      0.0   0.0  25.0  0.0  \n",
       "\n",
       "[1601 rows x 32 columns]"
      ]
     },
     "execution_count": 3,
     "metadata": {},
     "output_type": "execute_result"
    }
   ],
   "source": [
    "grupate = voturi_cu_partide.groupby(['cod cdep', 'vot', 'partid'], as_index=False).count().sort_values(['cod cdep', 'vot', 'partid'])\n",
    "grupate = grupate.pivot_table(index='cod cdep', columns=['partid', 'vot'], values=['data'])['data'].fillna(0)\n",
    "grupate"
   ]
  },
  {
   "cell_type": "markdown",
   "metadata": {},
   "source": [
    "# Subiecte de vot: top abțineri"
   ]
  },
  {
   "cell_type": "code",
   "execution_count": 4,
   "metadata": {},
   "outputs": [
    {
     "data": {
      "text/markdown": [
       "### Top voturi de \"abținere\""
      ],
      "text/plain": [
       "<IPython.core.display.Markdown object>"
      ]
     },
     "metadata": {},
     "output_type": "display_data"
    },
    {
     "data": {
      "text/markdown": [
       "[Vot 22468](http://www.cdep.ro/pls/steno/evot2015.nominal?idv=22468): scor 174.000 în vederea alegerii decanilor prin vot, nu cum e acum, prin numire de către rector"
      ],
      "text/plain": [
       "<IPython.core.display.Markdown object>"
      ]
     },
     "metadata": {},
     "output_type": "display_data"
    },
    {
     "data": {
      "text/markdown": [
       "[Vot 22764](http://www.cdep.ro/pls/steno/evot2015.nominal?idv=22764): scor 105.000 în vederea modificării ordinii de vot pentru a-l vacanta pe Octavian Goga, deputat PSD ce trebuie demis, înainte de a-i permite să voteze pentru o moțiune de cenzură."
      ],
      "text/plain": [
       "<IPython.core.display.Markdown object>"
      ]
     },
     "metadata": {},
     "output_type": "display_data"
    },
    {
     "data": {
      "text/markdown": [
       "[Vot 20644](http://www.cdep.ro/pls/steno/evot2015.nominal?idv=20644): scor 104.000  "
      ],
      "text/plain": [
       "<IPython.core.display.Markdown object>"
      ]
     },
     "metadata": {},
     "output_type": "display_data"
    },
    {
     "data": {
      "text/markdown": [
       "[Vot 22380](http://www.cdep.ro/pls/steno/evot2015.nominal?idv=22380): scor 101.000 în vederea modificării Legii fondului funciar 18/1991 a.î. să permită cereri de reconstituire a dreptului la proprietate oricând"
      ],
      "text/plain": [
       "<IPython.core.display.Markdown object>"
      ]
     },
     "metadata": {},
     "output_type": "display_data"
    },
    {
     "data": {
      "text/markdown": [
       "[Vot 20642](http://www.cdep.ro/pls/steno/evot2015.nominal?idv=20642): scor 101.000  "
      ],
      "text/plain": [
       "<IPython.core.display.Markdown object>"
      ]
     },
     "metadata": {},
     "output_type": "display_data"
    },
    {
     "data": {
      "text/markdown": [
       "[Vot 22078](http://www.cdep.ro/pls/steno/evot2015.nominal?idv=22078): scor 95.000  "
      ],
      "text/plain": [
       "<IPython.core.display.Markdown object>"
      ]
     },
     "metadata": {},
     "output_type": "display_data"
    },
    {
     "data": {
      "text/markdown": [
       "[Vot 16287](http://www.cdep.ro/pls/steno/evot2015.nominal?idv=16287): scor 94.000  "
      ],
      "text/plain": [
       "<IPython.core.display.Markdown object>"
      ]
     },
     "metadata": {},
     "output_type": "display_data"
    },
    {
     "data": {
      "text/markdown": [
       "[Vot 20524](http://www.cdep.ro/pls/steno/evot2015.nominal?idv=20524): scor 94.000  "
      ],
      "text/plain": [
       "<IPython.core.display.Markdown object>"
      ]
     },
     "metadata": {},
     "output_type": "display_data"
    },
    {
     "data": {
      "text/markdown": [
       "[Vot 22732](http://www.cdep.ro/pls/steno/evot2015.nominal?idv=22732): scor 94.000 în vederea unor schimbări în legătură cu comisiile permanente a CDEP; dar nu am înțeles ce după ce am citit [modificarea propusă](http://www.cdep.ro/pls/proiecte/docs/2019/ph045_pl573.pdf)"
      ],
      "text/plain": [
       "<IPython.core.display.Markdown object>"
      ]
     },
     "metadata": {},
     "output_type": "display_data"
    },
    {
     "data": {
      "text/markdown": [
       "[Vot 16539](http://www.cdep.ro/pls/steno/evot2015.nominal?idv=16539): scor 93.000  "
      ],
      "text/plain": [
       "<IPython.core.display.Markdown object>"
      ]
     },
     "metadata": {},
     "output_type": "display_data"
    },
    {
     "data": {
      "text/markdown": [
       "### Top absențe"
      ],
      "text/plain": [
       "<IPython.core.display.Markdown object>"
      ]
     },
     "metadata": {},
     "output_type": "display_data"
    },
    {
     "data": {
      "text/markdown": [
       "[Vot 22437](http://www.cdep.ro/pls/steno/evot2015.nominal?idv=22437): scor 216.000  "
      ],
      "text/plain": [
       "<IPython.core.display.Markdown object>"
      ]
     },
     "metadata": {},
     "output_type": "display_data"
    },
    {
     "data": {
      "text/markdown": [
       "[Vot 17426](http://www.cdep.ro/pls/steno/evot2015.nominal?idv=17426): scor 206.000  "
      ],
      "text/plain": [
       "<IPython.core.display.Markdown object>"
      ]
     },
     "metadata": {},
     "output_type": "display_data"
    },
    {
     "data": {
      "text/markdown": [
       "[Vot 20203](http://www.cdep.ro/pls/steno/evot2015.nominal?idv=20203): scor 189.000  "
      ],
      "text/plain": [
       "<IPython.core.display.Markdown object>"
      ]
     },
     "metadata": {},
     "output_type": "display_data"
    },
    {
     "data": {
      "text/markdown": [
       "[Vot 22291](http://www.cdep.ro/pls/steno/evot2015.nominal?idv=22291): scor 186.000  "
      ],
      "text/plain": [
       "<IPython.core.display.Markdown object>"
      ]
     },
     "metadata": {},
     "output_type": "display_data"
    },
    {
     "data": {
      "text/markdown": [
       "[Vot 22300](http://www.cdep.ro/pls/steno/evot2015.nominal?idv=22300): scor 186.000  "
      ],
      "text/plain": [
       "<IPython.core.display.Markdown object>"
      ]
     },
     "metadata": {},
     "output_type": "display_data"
    },
    {
     "data": {
      "text/markdown": [
       "[Vot 19182](http://www.cdep.ro/pls/steno/evot2015.nominal?idv=19182): scor 185.000  "
      ],
      "text/plain": [
       "<IPython.core.display.Markdown object>"
      ]
     },
     "metadata": {},
     "output_type": "display_data"
    },
    {
     "data": {
      "text/markdown": [
       "[Vot 22299](http://www.cdep.ro/pls/steno/evot2015.nominal?idv=22299): scor 183.000  "
      ],
      "text/plain": [
       "<IPython.core.display.Markdown object>"
      ]
     },
     "metadata": {},
     "output_type": "display_data"
    },
    {
     "data": {
      "text/markdown": [
       "[Vot 22763](http://www.cdep.ro/pls/steno/evot2015.nominal?idv=22763): scor 166.000 în vederea vacantării lui Octavian Goga, deputat PSD condamnat penal"
      ],
      "text/plain": [
       "<IPython.core.display.Markdown object>"
      ]
     },
     "metadata": {},
     "output_type": "display_data"
    },
    {
     "data": {
      "text/markdown": [
       "[Vot 22120](http://www.cdep.ro/pls/steno/evot2015.nominal?idv=22120): scor 159.000  "
      ],
      "text/plain": [
       "<IPython.core.display.Markdown object>"
      ]
     },
     "metadata": {},
     "output_type": "display_data"
    },
    {
     "data": {
      "text/markdown": [
       "[Vot 22094](http://www.cdep.ro/pls/steno/evot2015.nominal?idv=22094): scor 154.000  "
      ],
      "text/plain": [
       "<IPython.core.display.Markdown object>"
      ]
     },
     "metadata": {},
     "output_type": "display_data"
    }
   ],
   "source": [
    "vot = 'abținere' # poți alege și: 'da', 'nu', '—'\n",
    "\n",
    "from IPython.core.display import display, HTML, Markdown\n",
    "\n",
    "# Atenție! Comentariile sunt subiective și reprezintă doar interpretarea mea.\n",
    "comentarii_voturi = {\n",
    "    ## Voturi specifice PSD:\n",
    "    20603: 'transpunerii unei legi UE împotriva spălării banilor, cu o excepție neconstituțională pentru minorități',\n",
    "    20604: 'reglementării operațiunilor petroliere pe următorii 45 de ani, pe repede-nainte, în lipsa datelor',\n",
    "    21110: 'stabilirii prin lege a unor criterii de performanță a funcționarilor publici',\n",
    "    21325: 'centralizării administrației ariilor naturale protejate, și eliminării ONG-urilor ce se ocupau de ele (încercarea nr. 1)',\n",
    "    22586: 'centralizării administrației ariilor naturale protejate, și eliminării ONG-urilor ce se ocupau de ele (încercarea nr. 2)',\n",
    "    22235: 'respingerea scutirii de impozit local pentru persoane persecutate politic, din cauza abrogării legii la care face referire',\n",
    "    22364: 'unei schimbări neconstituționale ale Codului de Procedură Penală',\n",
    "    22468: 'alegerii decanilor prin vot, nu cum e acum, prin numire de către rector',\n",
    "    22763: 'vacantării lui Octavian Goga, deputat PSD condamnat penal',\n",
    "    22380: 'modificării Legii fondului funciar 18/1991 a.î. să permită cereri de reconstituire a dreptului la proprietate oricând',\n",
    "    22732: 'unor schimbări în legătură cu comisiile permanente a CDEP; dar nu am înțeles ce după ce am citit [modificarea propusă](http://www.cdep.ro/pls/proiecte/docs/2019/ph045_pl573.pdf)',\n",
    "    22764: 'modificării ordinii de vot pentru a-l vacanta pe Octavian Goga, deputat PSD ce trebuie demis, înainte de a-i permite să voteze pentru o moțiune de cenzură.',\n",
    "    22079: 'anchetei despre neutralitatea Consiliul Național al Audiovizualului în 2018-2019',\n",
    "    20403: 'anchetei despre reprimarea protestului pașnic din 10 august 2018',\n",
    "    22463: 'înfiinţării Agenţiei pentru Calitatea şi Marketingul Produselor Agroalimentare - pentru că [13000 de agenții deja existente nu sunt destule](http://www.cdep.ro/pls/steno/steno2015.stenograma?ids=8064&idm=15).',\n",
    "    20071: 'obligării la a încerca medierea, în caz contrar pierzând dreptul la judecată (prima încercare)',\n",
    "    22363: 'obligării la a încerca medierea, în caz contrar pierzând dreptul la judecată (din nou; dar a devenit [lege](http://legislatie.just.ro/Public/DetaliiDocument/216614))',\n",
    "    22460: 'abilitării Guvernului de a emite ordonanțe cât timp Parlamentul e în vacanță (până în septembrie)',\n",
    "    22587: 'eliminării necesității autorizațiilor de mediu la 5 sau 10 ani, înlocuire cu viză anuală (fără inspecții?)',\n",
    "    20717: 'rămânerii la vot într-un singur tur pentru alegerile locale, și nu două tururi. [PSD a câștigat multe primării printr-un singur tur](https://ro.wikipedia.org/wiki/Alegeri_locale_%C3%AEn_Rom%C3%A2nia,_2016).',\n",
    "    ## Voturi specifice ALDE:\n",
    "    20402: 'evaluării eficienței combaterii pestei porcine africane',\n",
    "    20342: 'deblocării vânzărilor de lemne? (nu prea am înțeles)',\n",
    "    22362: 'obligării BNR să readucă aurul în țară. Interesant! [Stenograma dezbaterii dinainte de vot e aici.](http://www.cdep.ro/pls/steno/steno2015.stenograma?ids=8056&idm=6).',\n",
    "    ## Voturi specifice Minorități\n",
    "    16498: 'Control buget de stat 2016 - nici un reprezentant Minorități nu a votat',\n",
    "    16894: 'Contra punerii în valoare cetăților dacice din Munții Orăștiei (au invocat sinecuri)',\n",
    "    16887: 'respingerii declarării de rezervații arheologice',\n",
    "    16490: 'permiterii în continuare a libertății religioase, chiar și nerecunoscute de Guvern (Legea 489/2006)',\n",
    "    16696: 'pentru păstrarea auditului de siguranță rutieră la infrastructură nouă',\n",
    "    16694: 'contra înființării Institutului de Studii Avansate pentru Cultura şi Civilizaţia Levantului în subordinea Senatului',\n",
    "    21028: 'înființării unei agenții de sistem dual (PNL, USR zic că ar fi doar pentru sinecuri)',\n",
    "    20417: 'anchetei privind interceptări ilegale cerute de Dragnea',\n",
    "    ## Voturi specifice UDMR:\n",
    "    17001: 'transmiterii de infrastuctură portuară din domeniul național în domeniul județului Tulcea, în scop turistic',\n",
    "    17000: 'reglementării auditului financiar conform UE',\n",
    "    16997: 'stimulării ocupării de locuri de muncă',\n",
    "    22871: 'simplificării extinderilor cimitirelor',\n",
    "    20418: 'implementarea unei legi UE privind distribuţia de asigurări',\n",
    "    22365: 'unei legi PSD-ALDE anticorupție, cu dedicație pentru Dragnea (a doua încercare)',\n",
    "    20136: 'unei legi PSD-ALDE anticorupție, cu dedicație pentru Dragnea (cu timp insuficient pentru dezbatere)',\n",
    "    20343: 'contra monopolului artificial creat de \"zone unitare\" ale furnizorilor locali de energie termică',\n",
    "    22472: 'pentru evaluări cu \"Foarte Bine\", \"Bine\" etc. la sport, în loc de note până la 10, pentru combaterea absenteismului la sport în școli',\n",
    "    19094: 'respingerii autonomiei Ținutului Secuiesc',\n",
    "    19235: 'redefinirii mai largi a terorismului',\n",
    "    20416: 'modificării componenței comisiilor permanente ale CDEP',\n",
    "    22590: 'unor modificări complexe asupra legilor electorale pentru facilitarea diasporei (nu am putut citi [legea](http://legislatie.just.ro/Public/DetaliiDocument/216577), e mare.)',\n",
    "    17289: 'respingerii reducerii pragului de 20% pentru folosirea limbilor materne minoritare în administrația publică locală, la 10% din populație, printre altele',\n",
    "    19452: 'restructurării Agenţiei Naționale pentru Arii Naturale Protejate pentru evitarea personalității juridice redundante la nivel local. UDMR vrea și birocrație locală, nu doar centrală.',\n",
    "    18786: 'contra unor schimbări de organizare despre Centenarul României. Stenograma dezbaterii dinaintea votului lipsește de pe pagina [proiectului de lege](http://www.cdep.ro/pls/proiecte/upl_pck2015.proiect?idp=16603)! [Am găsit-o aici](http://www.cdep.ro/pls/steno/steno2015.stenograma?ids=7884&idm=9&idl=1).',\n",
    "    19318: 'ceva cu reglementarea fondurilor europene; mi-e greu de înțeles ce se întâmplă aici',\n",
    "    20722: 'pentru extra zile de vacanță',\n",
    "    20998: 'pentru prelungirea învățământului obligatoriu de la 10 clase la 11',\n",
    "    18628: 'contra înființării punctelor de control vamal sanitar-veterinar sub ANSVSA și certificate ORNISS (secrete de stat) pentru șefii acestora',\n",
    "    18840: 'folosirea cu prioritate de fonduri europene, unde acestea sunt eligibile',\n",
    "    17367: 'abținere de la aprobarea contului de execuție al Camerei Deputaților pentru 2016 (ce înseamnă această abținere???)',\n",
    "    22528: 'abținere de la modificarea contravențiilor silvice, pe motiv că sunt unele lacune (amenzi prea mici)',\n",
    "    21116: 'nu susține referendumuri locale în același timp cu cel național pentru revizuirea Constituției',\n",
    "    16468: 'respingerii internetului gratuit în clădirile administrației publice, **teraselor, barurilor, și altor unități de alimentație publică, precum și obligarea furnizării de 500MB lunar de internet pe mobil**',\n",
    "    22523: 'reglementării tratamentului așezărilor informale d.p.d.v. urbanistic',\n",
    "    20129: 'aprobării OUG privind OUG privind regimul străinilor rezidenți pe termen lung, după o scrisoare de la UE în care atenționează România cu implementarea legii UE',\n",
    "    ## Voturi specifice PNL:\n",
    "    20598: 'autorizării Ministerului Finanțelor Publice de a vinde certificate de emisii de gaze cu efect de seră, UDMR propune Ministerului Mediului',\n",
    "    20647: 'înființării Gărzii Forestiere',\n",
    "    20656: 'permiterii detașării a mai multor cadre didactice',\n",
    "    16217: 'respingerii prelungirii termenului de răspuns al ANPC în cazul serviciilor financiare',\n",
    "    16292: 'respingerii publicării datelor de interes public de către instituțiile publice locale sau județene',\n",
    "    20500: 'adaptării legii apelor la legislația europeană, cu unele neajunsuri [reclamate de PNL](http://www.cdep.ro/pls/steno/steno2015.stenograma?ids=7970&idm=12)',\n",
    "    16625: 'respingerii condiționării la persoane în dificultate a ajutoarelor de încălzire de la primării. Aici înțeleg eu greșit [legea](http://legislatie.just.ro/Public/DetaliiDocument/209205), sau toată lumea a votat pe dos (pentru a permite primăriilor să acorde ajutoare în continuare și persoanelor ce nu au nevoie de ajutor?)',\n",
    "    17198: 'respingerii adăugării cursurilor de prim ajutor în programa școlară, prin Legea Învățământului (și nu prin planuri-cadru cum se stabilește programa școlară în mod normal)',\n",
    "    21032: 'abilitării Institutului de Cercetare \"Cantacuzino\" să certifice vaccinuri produse în România (n. aut: votul PNL mă face să cred că partidul are interesul de a importa vaccinuri)',\n",
    "    ## Voturi specifice USR sau PMP:\n",
    "    20649: 'desființării transportului public București de la Ministerul Transportului (cu consecința de a o înmâna consiliului local)',\n",
    "    16116: 'respingerii separării alocației pentru copii în venitul minim garantat (această propunere e o dublură a ce s-a întâmplat deja)',\n",
    "    16138: 'respingerii unei soluții parțiale pentru invocarea malpraxisului de către succesorii pacienților decedați; o altă soluție (completă) nu a fost implementată încă',\n",
    "    16141: 'respingerii centralizării achizițiilor pentru medicină școlară',\n",
    "    16143: 'respingerii asistării cabinetelor de medicină școlară din bugetul de stat sau local',\n",
    "    16144: 'respingerii autonomiei CNAS făcând referire la o numerotare veche a Legii 95/2006 a sănătății',\n",
    "    16222: 'respingerii unui fond pentru sprijinirea cetățenilor români în situații grave în străinătate',\n",
    "    18586: 'nu susține înzestrarea și responsabilizarea în locul primarilor unui \"resort al aparatului de specialitate al primarului\" cu terenuri proprietatea UAT-urilor, precum nici concesionarea terenurilor UAT de către proprietarii construcțiilor de pe acele terenuri (??? complicat)',\n",
    "    19232: 'nu susține legea privind obligații de securitate ale furnizorilor de servicii digitale esențiale pentru societate',\n",
    "    22896: 'nu susține OUG privind scutirea de impozit a entităților nerezidente sau juridice rezidente ce organizează Turneul final al Campionatului European de Fotbal 2020',\n",
    "    22240: 'pentru contribuții în plus la CAS din partea a mari contribuabili',\n",
    "    16346: 'contra prelungirii termenului de dezbatere PLx 10/2017 (reformare DIICOT) și PLx 12/2017 (clarificări legea educației)',\n",
    "    16297: 'eliminării scutirii de detenție cu 30 de zile pentru fiecare lucrare științifică sau invenție brevetată (prevăzute în [Legea nr. 254/2013 art. 96 (1) f)](http://legislatie.just.ro/Public/DetaliiDocument/150699#id_artA830_ttl) ) - această lege a fost oricum schimbată ulterior la 20 de zile scutite în total, oricare ar fi numărul de lucrări publicate sau brevetate.',\n",
    "    20318: 'despre recepția unor lucrări la Palatul Parlamentului',\n",
    "    16605: 'pentru un nou cadru legal al adopției, simplificat, dar care nu e în acord cu acorduri internaționale. [Acum situația s-a îmbunătățit (la capătul documentului e un grafic).](www.copii.ro/anpdca-content/uploads/2017/07/Statistica-adoptii-2017-pentru-site-la-31-mai.docx)',\n",
    "    19412: 'voturi contra schimbării Codului de procedură civilă (în favoarea PSD? e o lege complexă și nu îmi pot da seama ușor; USR motivează că nu a fost suficient timp pentru dezbateri).',\n",
    "    16151: 'respingerii abrogării unei legi deja abrogate (despre sesizări disciplinare ale șefilor sau demnitarilor)',\n",
    "    16153: 'respingerii scăderii TVA la 9% pentru aparatură medicală, din cauza schimbării Codului Fiscal între timp',\n",
    "    16154: 'respingerii reducerii TVA la 9% pentru livrări de bunuri sau servicii pentru diagnostice medicale, după ce obiectul legii (Codul fiscal) a fost înlocuit',\n",
    "    16158: 'respingerii înființării unor structuri organizatorice ale administrației locale ce ar administra cabinete medicale școlare',\n",
    "    16194: 'respingerii unei OUG dublate ce permite Guvernului să stabilească prețul maximal al medicamentelor',\n",
    "    16209: 'respingerii obligării la licență pentru exportul de lemn în stare brută',\n",
    "    16216: 'respingerii de a considera Teatrului Evreiesc de Stat pentru spor de activitate de importanță națională, după ce legea referită ca bază a fost înlocuită',\n",
    "    16280: 'instituirii zilei naționale a pădurilor',\n",
    "    16497: 'păstrării dreptului de antenă a candidaților electorali independenți la 5 minute pe întreaga campanie, și nu mărirea acestora la 30',\n",
    "    20645: 'explicitării turnurilor de turbini eoliene drept clădiri, cf. Codului Fiscal',\n",
    "    22277: 'nu susține OUG pentru prorogarea unor termene, [în special cel referitor la salariul minim????](http://www.cdep.ro/pls/steno/steno2015.stenograma?ids=8050&idm=14,014) Dacă poate cineva să îmi explice, aș aprecia enorm.',\n",
    "    22275: 'contra unei legi prelungiri de acreditări privind transplante și bănci de organe, unde [un om condamnat pentru trafic de ovocite a fost autorul acestor acreditări](http://www.cdep.ro/pls/steno/steno2015.stenograma?ids=8050&idm=12)',\n",
    "    20128: 'împotriva OUG ce permite extinderea angajărilor la primării',\n",
    "    20131: 'Nu sprijină exonerarea celor ce au beneficiat fraudulos de ajutoare de urgență privind venitul minim garantat',\n",
    "    16569: 'respingerii fixării probelor de bacalaureat în lege, în locul metodologiei Ministerului Educației Naționale',\n",
    "    22194: 'pentru păstrarea necesității avizului de însoțire a mărfii vegetale în transportul rutier',\n",
    "    20650: 'pentru expirarea unei legi ce menține un monopol de stat privind inspecția unor utilaje sub presiune, de ridicat, sau consumatoare de combustibil',\n",
    "    16788: 'contra măririi salariilor unor bugetari, burselor studenților și gratuității transportului feroviar pentru studenți',\n",
    "    16854: 'adăugării mai multor orașe (Târgu Mureș, Slatina, Turnu Măgurele, Râmnicu Vâlcea) la pensie anticipată parțială din cauza poluării',\n",
    "    17262: 'anchetei despre pensionarea şi reangajarea aceloraşi persoane în MAI',\n",
    "    \n",
    "    ## Voturi multi-partid (caracteristice spațiului ideologic de la sfârșitul paginii)\n",
    "    20120: 'readucerii pe ordinea de zi a voturilor amânate de PSD',\n",
    "    16855: 'înființării de centre de excelență *cu personalitate juridică* pentru elevi ([acuzată de a crea sinecuri](http://www.cdep.ro/pls/steno/steno2015.stenograma?ids=7791&idm=6))',\n",
    "    18985: 'înlesnirii detașării profesorilor, pentru a preda la o altă școală fără să fi făcut concurs pentru ea',\n",
    "    16313: 'circului pentru achiziția operei de Brâncuși \"Cumințenia Pământului\"',\n",
    "    16117: 'respingerii creșterii duratei concediului paternal de la 10 zile la 15',\n",
    "    16127: 'respingerii recunoașterii reciproce a cotizației dintre sistemul public și privat de pensii pentru pensionare anticipată',\n",
    "    21084: 'permutării a doi membri PSD în comisiile permanente ale CDEP',\n",
    "    21085: 'aprobării bugetului CDEP pentru anul 2019; au crescut cheltuielile cu 15% (salarii, pensii speciale)',\n",
    "    21087: 'împăcării unor legi despre achiziții publice',\n",
    "    21092: 'scoaterii normativelor de cost pentru investiții din fonduri publice (pentru unii, cec în alb, pentru alții, deblocarea investițiilor)',\n",
    "}\n",
    "\n",
    "def detalii_vot(cod_cdep, rand):\n",
    "    scor = rand[0]\n",
    "    pozitie = ''\n",
    "    \n",
    "    comentariu = f\"{comentarii_voturi.get(cod_cdep, '')}\"\n",
    "    if comentariu:\n",
    "        pozitie = rand.get('pozitie', '')\n",
    "        if not pozitie:\n",
    "            pozitie = 'în vederea'\n",
    "    \n",
    "    display(Markdown(f\"[Vot {cod_cdep}](http://www.cdep.ro/pls/steno/evot2015.nominal?idv={cod_cdep}): scor {scor:.3f} {pozitie} {comentariu}\"))\n",
    "\n",
    "def link_cdep(df, nr_top=10, titlu=None):\n",
    "    if isinstance(df, pd.Series):\n",
    "        df = pd.DataFrame(df)\n",
    "    \n",
    "    if titlu:\n",
    "        display(Markdown(f\"### {titlu}\"))\n",
    "    top = df.sort_values(by=df.columns[0], ascending=False).head(nr_top)\n",
    "    \n",
    "    for cod, rand in top.iterrows():\n",
    "        detalii_vot(cod, rand)\n",
    "    \n",
    "link_cdep(grupate.loc[:, (slice(None), vot)].sum(axis=1), titlu=f'Top voturi de \"{vot}\"')\n",
    "link_cdep(321-grupate.loc[:, :].sum(axis=1), titlu=f'Top absențe')"
   ]
  },
  {
   "cell_type": "markdown",
   "metadata": {},
   "source": [
    "# Subiecte de vot caracteristice partidelor\n",
    "\n",
    "Pentru fiecare partid, o să vedem top 10 subiecte de vot ce diferențiază acel partid de altele.\n",
    "\n",
    "Notă: pentru cei neafiliați nu putem vota. Prin urmare, nu o să analizez activitatea acestora."
   ]
  },
  {
   "cell_type": "code",
   "execution_count": 5,
   "metadata": {
    "scrolled": true
   },
   "outputs": [
    {
     "data": {
      "text/markdown": [
       "### Voturi specifice PSD:"
      ],
      "text/plain": [
       "<IPython.core.display.Markdown object>"
      ]
     },
     "metadata": {},
     "output_type": "display_data"
    },
    {
     "data": {
      "text/markdown": [
       "[Vot 22362](http://www.cdep.ro/pls/steno/evot2015.nominal?idv=22362): scor 0.699 pro obligării BNR să readucă aurul în țară. Interesant! [Stenograma dezbaterii dinainte de vot e aici.](http://www.cdep.ro/pls/steno/steno2015.stenograma?ids=8056&idm=6)."
      ],
      "text/plain": [
       "<IPython.core.display.Markdown object>"
      ]
     },
     "metadata": {},
     "output_type": "display_data"
    },
    {
     "data": {
      "text/markdown": [
       "[Vot 22763](http://www.cdep.ro/pls/steno/evot2015.nominal?idv=22763): scor 0.639 contra vacantării lui Octavian Goga, deputat PSD condamnat penal"
      ],
      "text/plain": [
       "<IPython.core.display.Markdown object>"
      ]
     },
     "metadata": {},
     "output_type": "display_data"
    },
    {
     "data": {
      "text/markdown": [
       "[Vot 22363](http://www.cdep.ro/pls/steno/evot2015.nominal?idv=22363): scor 0.638 pro obligării la a încerca medierea, în caz contrar pierzând dreptul la judecată (din nou; dar a devenit [lege](http://legislatie.just.ro/Public/DetaliiDocument/216614))"
      ],
      "text/plain": [
       "<IPython.core.display.Markdown object>"
      ]
     },
     "metadata": {},
     "output_type": "display_data"
    },
    {
     "data": {
      "text/markdown": [
       "[Vot 22764](http://www.cdep.ro/pls/steno/evot2015.nominal?idv=22764): scor 0.635 contra modificării ordinii de vot pentru a-l vacanta pe Octavian Goga, deputat PSD ce trebuie demis, înainte de a-i permite să voteze pentru o moțiune de cenzură."
      ],
      "text/plain": [
       "<IPython.core.display.Markdown object>"
      ]
     },
     "metadata": {},
     "output_type": "display_data"
    },
    {
     "data": {
      "text/markdown": [
       "[Vot 22365](http://www.cdep.ro/pls/steno/evot2015.nominal?idv=22365): scor 0.604 pro unei legi PSD-ALDE anticorupție, cu dedicație pentru Dragnea (a doua încercare)"
      ],
      "text/plain": [
       "<IPython.core.display.Markdown object>"
      ]
     },
     "metadata": {},
     "output_type": "display_data"
    },
    {
     "data": {
      "text/markdown": [
       "[Vot 20604](http://www.cdep.ro/pls/steno/evot2015.nominal?idv=20604): scor 0.603 pro reglementării operațiunilor petroliere pe următorii 45 de ani, pe repede-nainte, în lipsa datelor"
      ],
      "text/plain": [
       "<IPython.core.display.Markdown object>"
      ]
     },
     "metadata": {},
     "output_type": "display_data"
    },
    {
     "data": {
      "text/markdown": [
       "[Vot 20136](http://www.cdep.ro/pls/steno/evot2015.nominal?idv=20136): scor 0.600 pro unei legi PSD-ALDE anticorupție, cu dedicație pentru Dragnea (cu timp insuficient pentru dezbatere)"
      ],
      "text/plain": [
       "<IPython.core.display.Markdown object>"
      ]
     },
     "metadata": {},
     "output_type": "display_data"
    },
    {
     "data": {
      "text/markdown": [
       "[Vot 21110](http://www.cdep.ro/pls/steno/evot2015.nominal?idv=21110): scor 0.594 pro stabilirii prin lege a unor criterii de performanță a funcționarilor publici"
      ],
      "text/plain": [
       "<IPython.core.display.Markdown object>"
      ]
     },
     "metadata": {},
     "output_type": "display_data"
    },
    {
     "data": {
      "text/markdown": [
       "[Vot 20603](http://www.cdep.ro/pls/steno/evot2015.nominal?idv=20603): scor 0.587 pro transpunerii unei legi UE împotriva spălării banilor, cu o excepție neconstituțională pentru minorități"
      ],
      "text/plain": [
       "<IPython.core.display.Markdown object>"
      ]
     },
     "metadata": {},
     "output_type": "display_data"
    },
    {
     "data": {
      "text/markdown": [
       "[Vot 22364](http://www.cdep.ro/pls/steno/evot2015.nominal?idv=22364): scor 0.583 pro unei schimbări neconstituționale ale Codului de Procedură Penală"
      ],
      "text/plain": [
       "<IPython.core.display.Markdown object>"
      ]
     },
     "metadata": {},
     "output_type": "display_data"
    },
    {
     "data": {
      "text/markdown": [
       "### Voturi specifice Minorități:"
      ],
      "text/plain": [
       "<IPython.core.display.Markdown object>"
      ]
     },
     "metadata": {},
     "output_type": "display_data"
    },
    {
     "data": {
      "text/markdown": [
       "[Vot 16490](http://www.cdep.ro/pls/steno/evot2015.nominal?idv=16490): scor 0.674 contra permiterii în continuare a libertății religioase, chiar și nerecunoscute de Guvern (Legea 489/2006)"
      ],
      "text/plain": [
       "<IPython.core.display.Markdown object>"
      ]
     },
     "metadata": {},
     "output_type": "display_data"
    },
    {
     "data": {
      "text/markdown": [
       "[Vot 21028](http://www.cdep.ro/pls/steno/evot2015.nominal?idv=21028): scor 0.634 pro înființării unei agenții de sistem dual (PNL, USR zic că ar fi doar pentru sinecuri)"
      ],
      "text/plain": [
       "<IPython.core.display.Markdown object>"
      ]
     },
     "metadata": {},
     "output_type": "display_data"
    },
    {
     "data": {
      "text/markdown": [
       "[Vot 21325](http://www.cdep.ro/pls/steno/evot2015.nominal?idv=21325): scor 0.556 pro centralizării administrației ariilor naturale protejate, și eliminării ONG-urilor ce se ocupau de ele (încercarea nr. 1)"
      ],
      "text/plain": [
       "<IPython.core.display.Markdown object>"
      ]
     },
     "metadata": {},
     "output_type": "display_data"
    },
    {
     "data": {
      "text/markdown": [
       "[Vot 22235](http://www.cdep.ro/pls/steno/evot2015.nominal?idv=22235): scor 0.548 pro respingerea scutirii de impozit local pentru persoane persecutate politic, din cauza abrogării legii la care face referire"
      ],
      "text/plain": [
       "<IPython.core.display.Markdown object>"
      ]
     },
     "metadata": {},
     "output_type": "display_data"
    },
    {
     "data": {
      "text/markdown": [
       "[Vot 21052](http://www.cdep.ro/pls/steno/evot2015.nominal?idv=21052): scor 0.525  "
      ],
      "text/plain": [
       "<IPython.core.display.Markdown object>"
      ]
     },
     "metadata": {},
     "output_type": "display_data"
    },
    {
     "data": {
      "text/markdown": [
       "[Vot 22463](http://www.cdep.ro/pls/steno/evot2015.nominal?idv=22463): scor 0.521 pro înfiinţării Agenţiei pentru Calitatea şi Marketingul Produselor Agroalimentare - pentru că [13000 de agenții deja existente nu sunt destule](http://www.cdep.ro/pls/steno/steno2015.stenograma?ids=8064&idm=15)."
      ],
      "text/plain": [
       "<IPython.core.display.Markdown object>"
      ]
     },
     "metadata": {},
     "output_type": "display_data"
    },
    {
     "data": {
      "text/markdown": [
       "[Vot 21082](http://www.cdep.ro/pls/steno/evot2015.nominal?idv=21082): scor 0.517  "
      ],
      "text/plain": [
       "<IPython.core.display.Markdown object>"
      ]
     },
     "metadata": {},
     "output_type": "display_data"
    },
    {
     "data": {
      "text/markdown": [
       "[Vot 22226](http://www.cdep.ro/pls/steno/evot2015.nominal?idv=22226): scor 0.509  "
      ],
      "text/plain": [
       "<IPython.core.display.Markdown object>"
      ]
     },
     "metadata": {},
     "output_type": "display_data"
    },
    {
     "data": {
      "text/markdown": [
       "[Vot 22078](http://www.cdep.ro/pls/steno/evot2015.nominal?idv=22078): scor 0.505  "
      ],
      "text/plain": [
       "<IPython.core.display.Markdown object>"
      ]
     },
     "metadata": {},
     "output_type": "display_data"
    },
    {
     "data": {
      "text/markdown": [
       "[Vot 21096](http://www.cdep.ro/pls/steno/evot2015.nominal?idv=21096): scor 0.505  "
      ],
      "text/plain": [
       "<IPython.core.display.Markdown object>"
      ]
     },
     "metadata": {},
     "output_type": "display_data"
    },
    {
     "data": {
      "text/markdown": [
       "### Voturi specifice ALDE:"
      ],
      "text/plain": [
       "<IPython.core.display.Markdown object>"
      ]
     },
     "metadata": {},
     "output_type": "display_data"
    },
    {
     "data": {
      "text/markdown": [
       "[Vot 20604](http://www.cdep.ro/pls/steno/evot2015.nominal?idv=20604): scor 0.639 pro reglementării operațiunilor petroliere pe următorii 45 de ani, pe repede-nainte, în lipsa datelor"
      ],
      "text/plain": [
       "<IPython.core.display.Markdown object>"
      ]
     },
     "metadata": {},
     "output_type": "display_data"
    },
    {
     "data": {
      "text/markdown": [
       "[Vot 22362](http://www.cdep.ro/pls/steno/evot2015.nominal?idv=22362): scor 0.594 pro obligării BNR să readucă aurul în țară. Interesant! [Stenograma dezbaterii dinainte de vot e aici.](http://www.cdep.ro/pls/steno/steno2015.stenograma?ids=8056&idm=6)."
      ],
      "text/plain": [
       "<IPython.core.display.Markdown object>"
      ]
     },
     "metadata": {},
     "output_type": "display_data"
    },
    {
     "data": {
      "text/markdown": [
       "[Vot 21082](http://www.cdep.ro/pls/steno/evot2015.nominal?idv=21082): scor 0.579  "
      ],
      "text/plain": [
       "<IPython.core.display.Markdown object>"
      ]
     },
     "metadata": {},
     "output_type": "display_data"
    },
    {
     "data": {
      "text/markdown": [
       "[Vot 20603](http://www.cdep.ro/pls/steno/evot2015.nominal?idv=20603): scor 0.578 pro transpunerii unei legi UE împotriva spălării banilor, cu o excepție neconstituțională pentru minorități"
      ],
      "text/plain": [
       "<IPython.core.display.Markdown object>"
      ]
     },
     "metadata": {},
     "output_type": "display_data"
    },
    {
     "data": {
      "text/markdown": [
       "[Vot 22381](http://www.cdep.ro/pls/steno/evot2015.nominal?idv=22381): scor 0.559  "
      ],
      "text/plain": [
       "<IPython.core.display.Markdown object>"
      ]
     },
     "metadata": {},
     "output_type": "display_data"
    },
    {
     "data": {
      "text/markdown": [
       "[Vot 21100](http://www.cdep.ro/pls/steno/evot2015.nominal?idv=21100): scor 0.559  "
      ],
      "text/plain": [
       "<IPython.core.display.Markdown object>"
      ]
     },
     "metadata": {},
     "output_type": "display_data"
    },
    {
     "data": {
      "text/markdown": [
       "[Vot 20602](http://www.cdep.ro/pls/steno/evot2015.nominal?idv=20602): scor 0.558  "
      ],
      "text/plain": [
       "<IPython.core.display.Markdown object>"
      ]
     },
     "metadata": {},
     "output_type": "display_data"
    },
    {
     "data": {
      "text/markdown": [
       "[Vot 22363](http://www.cdep.ro/pls/steno/evot2015.nominal?idv=22363): scor 0.548 pro obligării la a încerca medierea, în caz contrar pierzând dreptul la judecată (din nou; dar a devenit [lege](http://legislatie.just.ro/Public/DetaliiDocument/216614))"
      ],
      "text/plain": [
       "<IPython.core.display.Markdown object>"
      ]
     },
     "metadata": {},
     "output_type": "display_data"
    },
    {
     "data": {
      "text/markdown": [
       "[Vot 22364](http://www.cdep.ro/pls/steno/evot2015.nominal?idv=22364): scor 0.538 pro unei schimbări neconstituționale ale Codului de Procedură Penală"
      ],
      "text/plain": [
       "<IPython.core.display.Markdown object>"
      ]
     },
     "metadata": {},
     "output_type": "display_data"
    },
    {
     "data": {
      "text/markdown": [
       "[Vot 22380](http://www.cdep.ro/pls/steno/evot2015.nominal?idv=22380): scor 0.535 pro modificării Legii fondului funciar 18/1991 a.î. să permită cereri de reconstituire a dreptului la proprietate oricând"
      ],
      "text/plain": [
       "<IPython.core.display.Markdown object>"
      ]
     },
     "metadata": {},
     "output_type": "display_data"
    },
    {
     "data": {
      "text/markdown": [
       "### Voturi specifice UDMR:"
      ],
      "text/plain": [
       "<IPython.core.display.Markdown object>"
      ]
     },
     "metadata": {},
     "output_type": "display_data"
    },
    {
     "data": {
      "text/markdown": [
       "[Vot 17001](http://www.cdep.ro/pls/steno/evot2015.nominal?idv=17001): scor 0.723 contra transmiterii de infrastuctură portuară din domeniul național în domeniul județului Tulcea, în scop turistic"
      ],
      "text/plain": [
       "<IPython.core.display.Markdown object>"
      ]
     },
     "metadata": {},
     "output_type": "display_data"
    },
    {
     "data": {
      "text/markdown": [
       "[Vot 16997](http://www.cdep.ro/pls/steno/evot2015.nominal?idv=16997): scor 0.720 contra stimulării ocupării de locuri de muncă"
      ],
      "text/plain": [
       "<IPython.core.display.Markdown object>"
      ]
     },
     "metadata": {},
     "output_type": "display_data"
    },
    {
     "data": {
      "text/markdown": [
       "[Vot 17000](http://www.cdep.ro/pls/steno/evot2015.nominal?idv=17000): scor 0.715 contra reglementării auditului financiar conform UE"
      ],
      "text/plain": [
       "<IPython.core.display.Markdown object>"
      ]
     },
     "metadata": {},
     "output_type": "display_data"
    },
    {
     "data": {
      "text/markdown": [
       "[Vot 20418](http://www.cdep.ro/pls/steno/evot2015.nominal?idv=20418): scor 0.708 contra implementarea unei legi UE privind distribuţia de asigurări"
      ],
      "text/plain": [
       "<IPython.core.display.Markdown object>"
      ]
     },
     "metadata": {},
     "output_type": "display_data"
    },
    {
     "data": {
      "text/markdown": [
       "[Vot 17289](http://www.cdep.ro/pls/steno/evot2015.nominal?idv=17289): scor 0.707 contra respingerii reducerii pragului de 20% pentru folosirea limbilor materne minoritare în administrația publică locală, la 10% din populație, printre altele"
      ],
      "text/plain": [
       "<IPython.core.display.Markdown object>"
      ]
     },
     "metadata": {},
     "output_type": "display_data"
    },
    {
     "data": {
      "text/markdown": [
       "[Vot 19452](http://www.cdep.ro/pls/steno/evot2015.nominal?idv=19452): scor 0.688 contra restructurării Agenţiei Naționale pentru Arii Naturale Protejate pentru evitarea personalității juridice redundante la nivel local. UDMR vrea și birocrație locală, nu doar centrală."
      ],
      "text/plain": [
       "<IPython.core.display.Markdown object>"
      ]
     },
     "metadata": {},
     "output_type": "display_data"
    },
    {
     "data": {
      "text/markdown": [
       "[Vot 20416](http://www.cdep.ro/pls/steno/evot2015.nominal?idv=20416): scor 0.681 contra modificării componenței comisiilor permanente ale CDEP"
      ],
      "text/plain": [
       "<IPython.core.display.Markdown object>"
      ]
     },
     "metadata": {},
     "output_type": "display_data"
    },
    {
     "data": {
      "text/markdown": [
       "[Vot 16468](http://www.cdep.ro/pls/steno/evot2015.nominal?idv=16468): scor 0.678 contra respingerii internetului gratuit în clădirile administrației publice, **teraselor, barurilor, și altor unități de alimentație publică, precum și obligarea furnizării de 500MB lunar de internet pe mobil**"
      ],
      "text/plain": [
       "<IPython.core.display.Markdown object>"
      ]
     },
     "metadata": {},
     "output_type": "display_data"
    },
    {
     "data": {
      "text/markdown": [
       "[Vot 22523](http://www.cdep.ro/pls/steno/evot2015.nominal?idv=22523): scor 0.677 contra reglementării tratamentului așezărilor informale d.p.d.v. urbanistic"
      ],
      "text/plain": [
       "<IPython.core.display.Markdown object>"
      ]
     },
     "metadata": {},
     "output_type": "display_data"
    },
    {
     "data": {
      "text/markdown": [
       "[Vot 20129](http://www.cdep.ro/pls/steno/evot2015.nominal?idv=20129): scor 0.666 contra aprobării OUG privind OUG privind regimul străinilor rezidenți pe termen lung, după o scrisoare de la UE în care atenționează România cu implementarea legii UE"
      ],
      "text/plain": [
       "<IPython.core.display.Markdown object>"
      ]
     },
     "metadata": {},
     "output_type": "display_data"
    },
    {
     "data": {
      "text/markdown": [
       "### Voturi specifice Neafiliați:"
      ],
      "text/plain": [
       "<IPython.core.display.Markdown object>"
      ]
     },
     "metadata": {},
     "output_type": "display_data"
    },
    {
     "data": {
      "text/markdown": [
       "[Vot 22309](http://www.cdep.ro/pls/steno/evot2015.nominal?idv=22309): scor 0.625  "
      ],
      "text/plain": [
       "<IPython.core.display.Markdown object>"
      ]
     },
     "metadata": {},
     "output_type": "display_data"
    },
    {
     "data": {
      "text/markdown": [
       "[Vot 22162](http://www.cdep.ro/pls/steno/evot2015.nominal?idv=22162): scor 0.613  "
      ],
      "text/plain": [
       "<IPython.core.display.Markdown object>"
      ]
     },
     "metadata": {},
     "output_type": "display_data"
    },
    {
     "data": {
      "text/markdown": [
       "[Vot 22151](http://www.cdep.ro/pls/steno/evot2015.nominal?idv=22151): scor 0.613  "
      ],
      "text/plain": [
       "<IPython.core.display.Markdown object>"
      ]
     },
     "metadata": {},
     "output_type": "display_data"
    },
    {
     "data": {
      "text/markdown": [
       "[Vot 21329](http://www.cdep.ro/pls/steno/evot2015.nominal?idv=21329): scor 0.580  "
      ],
      "text/plain": [
       "<IPython.core.display.Markdown object>"
      ]
     },
     "metadata": {},
     "output_type": "display_data"
    },
    {
     "data": {
      "text/markdown": [
       "[Vot 22155](http://www.cdep.ro/pls/steno/evot2015.nominal?idv=22155): scor 0.575  "
      ],
      "text/plain": [
       "<IPython.core.display.Markdown object>"
      ]
     },
     "metadata": {},
     "output_type": "display_data"
    },
    {
     "data": {
      "text/markdown": [
       "[Vot 21323](http://www.cdep.ro/pls/steno/evot2015.nominal?idv=21323): scor 0.563  "
      ],
      "text/plain": [
       "<IPython.core.display.Markdown object>"
      ]
     },
     "metadata": {},
     "output_type": "display_data"
    },
    {
     "data": {
      "text/markdown": [
       "[Vot 21338](http://www.cdep.ro/pls/steno/evot2015.nominal?idv=21338): scor 0.563  "
      ],
      "text/plain": [
       "<IPython.core.display.Markdown object>"
      ]
     },
     "metadata": {},
     "output_type": "display_data"
    },
    {
     "data": {
      "text/markdown": [
       "[Vot 22306](http://www.cdep.ro/pls/steno/evot2015.nominal?idv=22306): scor 0.553  "
      ],
      "text/plain": [
       "<IPython.core.display.Markdown object>"
      ]
     },
     "metadata": {},
     "output_type": "display_data"
    },
    {
     "data": {
      "text/markdown": [
       "[Vot 22529](http://www.cdep.ro/pls/steno/evot2015.nominal?idv=22529): scor 0.550  "
      ],
      "text/plain": [
       "<IPython.core.display.Markdown object>"
      ]
     },
     "metadata": {},
     "output_type": "display_data"
    },
    {
     "data": {
      "text/markdown": [
       "[Vot 21330](http://www.cdep.ro/pls/steno/evot2015.nominal?idv=21330): scor 0.543  "
      ],
      "text/plain": [
       "<IPython.core.display.Markdown object>"
      ]
     },
     "metadata": {},
     "output_type": "display_data"
    },
    {
     "data": {
      "text/markdown": [
       "### Voturi specifice PNL:"
      ],
      "text/plain": [
       "<IPython.core.display.Markdown object>"
      ]
     },
     "metadata": {},
     "output_type": "display_data"
    },
    {
     "data": {
      "text/markdown": [
       "[Vot 20598](http://www.cdep.ro/pls/steno/evot2015.nominal?idv=20598): scor 0.743 contra autorizării Ministerului Finanțelor Publice de a vinde certificate de emisii de gaze cu efect de seră, UDMR propune Ministerului Mediului"
      ],
      "text/plain": [
       "<IPython.core.display.Markdown object>"
      ]
     },
     "metadata": {},
     "output_type": "display_data"
    },
    {
     "data": {
      "text/markdown": [
       "[Vot 20647](http://www.cdep.ro/pls/steno/evot2015.nominal?idv=20647): scor 0.708 contra înființării Gărzii Forestiere"
      ],
      "text/plain": [
       "<IPython.core.display.Markdown object>"
      ]
     },
     "metadata": {},
     "output_type": "display_data"
    },
    {
     "data": {
      "text/markdown": [
       "[Vot 20656](http://www.cdep.ro/pls/steno/evot2015.nominal?idv=20656): scor 0.702 contra permiterii detașării a mai multor cadre didactice"
      ],
      "text/plain": [
       "<IPython.core.display.Markdown object>"
      ]
     },
     "metadata": {},
     "output_type": "display_data"
    },
    {
     "data": {
      "text/markdown": [
       "[Vot 16217](http://www.cdep.ro/pls/steno/evot2015.nominal?idv=16217): scor 0.700 contra respingerii prelungirii termenului de răspuns al ANPC în cazul serviciilor financiare"
      ],
      "text/plain": [
       "<IPython.core.display.Markdown object>"
      ]
     },
     "metadata": {},
     "output_type": "display_data"
    },
    {
     "data": {
      "text/markdown": [
       "[Vot 16292](http://www.cdep.ro/pls/steno/evot2015.nominal?idv=16292): scor 0.693 contra respingerii publicării datelor de interes public de către instituțiile publice locale sau județene"
      ],
      "text/plain": [
       "<IPython.core.display.Markdown object>"
      ]
     },
     "metadata": {},
     "output_type": "display_data"
    },
    {
     "data": {
      "text/markdown": [
       "[Vot 20500](http://www.cdep.ro/pls/steno/evot2015.nominal?idv=20500): scor 0.693 contra adaptării legii apelor la legislația europeană, cu unele neajunsuri [reclamate de PNL](http://www.cdep.ro/pls/steno/steno2015.stenograma?ids=7970&idm=12)"
      ],
      "text/plain": [
       "<IPython.core.display.Markdown object>"
      ]
     },
     "metadata": {},
     "output_type": "display_data"
    },
    {
     "data": {
      "text/markdown": [
       "[Vot 16625](http://www.cdep.ro/pls/steno/evot2015.nominal?idv=16625): scor 0.686 contra respingerii condiționării la persoane în dificultate a ajutoarelor de încălzire de la primării. Aici înțeleg eu greșit [legea](http://legislatie.just.ro/Public/DetaliiDocument/209205), sau toată lumea a votat pe dos (pentru a permite primăriilor să acorde ajutoare în continuare și persoanelor ce nu au nevoie de ajutor?)"
      ],
      "text/plain": [
       "<IPython.core.display.Markdown object>"
      ]
     },
     "metadata": {},
     "output_type": "display_data"
    },
    {
     "data": {
      "text/markdown": [
       "[Vot 22528](http://www.cdep.ro/pls/steno/evot2015.nominal?idv=22528): scor 0.684 contra abținere de la modificarea contravențiilor silvice, pe motiv că sunt unele lacune (amenzi prea mici)"
      ],
      "text/plain": [
       "<IPython.core.display.Markdown object>"
      ]
     },
     "metadata": {},
     "output_type": "display_data"
    },
    {
     "data": {
      "text/markdown": [
       "[Vot 20998](http://www.cdep.ro/pls/steno/evot2015.nominal?idv=20998): scor 0.681 contra pentru prelungirea învățământului obligatoriu de la 10 clase la 11"
      ],
      "text/plain": [
       "<IPython.core.display.Markdown object>"
      ]
     },
     "metadata": {},
     "output_type": "display_data"
    },
    {
     "data": {
      "text/markdown": [
       "[Vot 17198](http://www.cdep.ro/pls/steno/evot2015.nominal?idv=17198): scor 0.680 contra respingerii adăugării cursurilor de prim ajutor în programa școlară, prin Legea Învățământului (și nu prin planuri-cadru cum se stabilește programa școlară în mod normal)"
      ],
      "text/plain": [
       "<IPython.core.display.Markdown object>"
      ]
     },
     "metadata": {},
     "output_type": "display_data"
    },
    {
     "data": {
      "text/markdown": [
       "### Voturi specifice USR:"
      ],
      "text/plain": [
       "<IPython.core.display.Markdown object>"
      ]
     },
     "metadata": {},
     "output_type": "display_data"
    },
    {
     "data": {
      "text/markdown": [
       "[Vot 16216](http://www.cdep.ro/pls/steno/evot2015.nominal?idv=16216): scor 0.762 contra respingerii de a considera Teatrului Evreiesc de Stat pentru spor de activitate de importanță națională, după ce legea referită ca bază a fost înlocuită"
      ],
      "text/plain": [
       "<IPython.core.display.Markdown object>"
      ]
     },
     "metadata": {},
     "output_type": "display_data"
    },
    {
     "data": {
      "text/markdown": [
       "[Vot 16154](http://www.cdep.ro/pls/steno/evot2015.nominal?idv=16154): scor 0.756 contra respingerii reducerii TVA la 9% pentru livrări de bunuri sau servicii pentru diagnostice medicale, după ce obiectul legii (Codul fiscal) a fost înlocuit"
      ],
      "text/plain": [
       "<IPython.core.display.Markdown object>"
      ]
     },
     "metadata": {},
     "output_type": "display_data"
    },
    {
     "data": {
      "text/markdown": [
       "[Vot 16569](http://www.cdep.ro/pls/steno/evot2015.nominal?idv=16569): scor 0.749 contra respingerii fixării probelor de bacalaureat în lege, în locul metodologiei Ministerului Educației Naționale"
      ],
      "text/plain": [
       "<IPython.core.display.Markdown object>"
      ]
     },
     "metadata": {},
     "output_type": "display_data"
    },
    {
     "data": {
      "text/markdown": [
       "[Vot 16209](http://www.cdep.ro/pls/steno/evot2015.nominal?idv=16209): scor 0.747 contra respingerii obligării la licență pentru exportul de lemn în stare brută"
      ],
      "text/plain": [
       "<IPython.core.display.Markdown object>"
      ]
     },
     "metadata": {},
     "output_type": "display_data"
    },
    {
     "data": {
      "text/markdown": [
       "[Vot 16194](http://www.cdep.ro/pls/steno/evot2015.nominal?idv=16194): scor 0.741 contra respingerii unei OUG dublate ce permite Guvernului să stabilească prețul maximal al medicamentelor"
      ],
      "text/plain": [
       "<IPython.core.display.Markdown object>"
      ]
     },
     "metadata": {},
     "output_type": "display_data"
    },
    {
     "data": {
      "text/markdown": [
       "[Vot 16153](http://www.cdep.ro/pls/steno/evot2015.nominal?idv=16153): scor 0.737 contra respingerii scăderii TVA la 9% pentru aparatură medicală, din cauza schimbării Codului Fiscal între timp"
      ],
      "text/plain": [
       "<IPython.core.display.Markdown object>"
      ]
     },
     "metadata": {},
     "output_type": "display_data"
    },
    {
     "data": {
      "text/markdown": [
       "[Vot 16280](http://www.cdep.ro/pls/steno/evot2015.nominal?idv=16280): scor 0.732 contra instituirii zilei naționale a pădurilor"
      ],
      "text/plain": [
       "<IPython.core.display.Markdown object>"
      ]
     },
     "metadata": {},
     "output_type": "display_data"
    },
    {
     "data": {
      "text/markdown": [
       "[Vot 16497](http://www.cdep.ro/pls/steno/evot2015.nominal?idv=16497): scor 0.722 contra păstrării dreptului de antenă a candidaților electorali independenți la 5 minute pe întreaga campanie, și nu mărirea acestora la 30"
      ],
      "text/plain": [
       "<IPython.core.display.Markdown object>"
      ]
     },
     "metadata": {},
     "output_type": "display_data"
    },
    {
     "data": {
      "text/markdown": [
       "[Vot 20645](http://www.cdep.ro/pls/steno/evot2015.nominal?idv=20645): scor 0.715 contra explicitării turnurilor de turbini eoliene drept clădiri, cf. Codului Fiscal"
      ],
      "text/plain": [
       "<IPython.core.display.Markdown object>"
      ]
     },
     "metadata": {},
     "output_type": "display_data"
    },
    {
     "data": {
      "text/markdown": [
       "[Vot 16854](http://www.cdep.ro/pls/steno/evot2015.nominal?idv=16854): scor 0.710 contra adăugării mai multor orașe (Târgu Mureș, Slatina, Turnu Măgurele, Râmnicu Vâlcea) la pensie anticipată parțială din cauza poluării"
      ],
      "text/plain": [
       "<IPython.core.display.Markdown object>"
      ]
     },
     "metadata": {},
     "output_type": "display_data"
    },
    {
     "data": {
      "text/markdown": [
       "### Voturi specifice PMP:"
      ],
      "text/plain": [
       "<IPython.core.display.Markdown object>"
      ]
     },
     "metadata": {},
     "output_type": "display_data"
    },
    {
     "data": {
      "text/markdown": [
       "[Vot 20649](http://www.cdep.ro/pls/steno/evot2015.nominal?idv=20649): scor 0.789 contra desființării transportului public București de la Ministerul Transportului (cu consecința de a o înmâna consiliului local)"
      ],
      "text/plain": [
       "<IPython.core.display.Markdown object>"
      ]
     },
     "metadata": {},
     "output_type": "display_data"
    },
    {
     "data": {
      "text/markdown": [
       "[Vot 16141](http://www.cdep.ro/pls/steno/evot2015.nominal?idv=16141): scor 0.777 contra respingerii centralizării achizițiilor pentru medicină școlară"
      ],
      "text/plain": [
       "<IPython.core.display.Markdown object>"
      ]
     },
     "metadata": {},
     "output_type": "display_data"
    },
    {
     "data": {
      "text/markdown": [
       "[Vot 16143](http://www.cdep.ro/pls/steno/evot2015.nominal?idv=16143): scor 0.775 contra respingerii asistării cabinetelor de medicină școlară din bugetul de stat sau local"
      ],
      "text/plain": [
       "<IPython.core.display.Markdown object>"
      ]
     },
     "metadata": {},
     "output_type": "display_data"
    },
    {
     "data": {
      "text/markdown": [
       "[Vot 16138](http://www.cdep.ro/pls/steno/evot2015.nominal?idv=16138): scor 0.772 contra respingerii unei soluții parțiale pentru invocarea malpraxisului de către succesorii pacienților decedați; o altă soluție (completă) nu a fost implementată încă"
      ],
      "text/plain": [
       "<IPython.core.display.Markdown object>"
      ]
     },
     "metadata": {},
     "output_type": "display_data"
    },
    {
     "data": {
      "text/markdown": [
       "[Vot 16144](http://www.cdep.ro/pls/steno/evot2015.nominal?idv=16144): scor 0.770 contra respingerii autonomiei CNAS făcând referire la o numerotare veche a Legii 95/2006 a sănătății"
      ],
      "text/plain": [
       "<IPython.core.display.Markdown object>"
      ]
     },
     "metadata": {},
     "output_type": "display_data"
    },
    {
     "data": {
      "text/markdown": [
       "[Vot 16158](http://www.cdep.ro/pls/steno/evot2015.nominal?idv=16158): scor 0.769 contra respingerii înființării unor structuri organizatorice ale administrației locale ce ar administra cabinete medicale școlare"
      ],
      "text/plain": [
       "<IPython.core.display.Markdown object>"
      ]
     },
     "metadata": {},
     "output_type": "display_data"
    },
    {
     "data": {
      "text/markdown": [
       "[Vot 16297](http://www.cdep.ro/pls/steno/evot2015.nominal?idv=16297): scor 0.769 contra eliminării scutirii de detenție cu 30 de zile pentru fiecare lucrare științifică sau invenție brevetată (prevăzute în [Legea nr. 254/2013 art. 96 (1) f)](http://legislatie.just.ro/Public/DetaliiDocument/150699#id_artA830_ttl) ) - această lege a fost oricum schimbată ulterior la 20 de zile scutite în total, oricare ar fi numărul de lucrări publicate sau brevetate."
      ],
      "text/plain": [
       "<IPython.core.display.Markdown object>"
      ]
     },
     "metadata": {},
     "output_type": "display_data"
    },
    {
     "data": {
      "text/markdown": [
       "[Vot 16151](http://www.cdep.ro/pls/steno/evot2015.nominal?idv=16151): scor 0.763 contra respingerii abrogării unei legi deja abrogate (despre sesizări disciplinare ale șefilor sau demnitarilor)"
      ],
      "text/plain": [
       "<IPython.core.display.Markdown object>"
      ]
     },
     "metadata": {},
     "output_type": "display_data"
    },
    {
     "data": {
      "text/markdown": [
       "[Vot 16222](http://www.cdep.ro/pls/steno/evot2015.nominal?idv=16222): scor 0.759 contra respingerii unui fond pentru sprijinirea cetățenilor români în situații grave în străinătate"
      ],
      "text/plain": [
       "<IPython.core.display.Markdown object>"
      ]
     },
     "metadata": {},
     "output_type": "display_data"
    },
    {
     "data": {
      "text/markdown": [
       "[Vot 16116](http://www.cdep.ro/pls/steno/evot2015.nominal?idv=16116): scor 0.758 contra respingerii separării alocației pentru copii în venitul minim garantat (această propunere e o dublură a ce s-a întâmplat deja)"
      ],
      "text/plain": [
       "<IPython.core.display.Markdown object>"
      ]
     },
     "metadata": {},
     "output_type": "display_data"
    }
   ],
   "source": [
    "def normalize():\n",
    "    vot_relativ = pd.DataFrame(index=grupate.index, columns=coloane_partide)\n",
    "    total_membri = grupate[:].max().max(level='partid')\n",
    "    \n",
    "    for p in coloane_partide:\n",
    "        vot_relativ.loc[:, p] = grupate.loc[:, (p,'da')] / total_membri[p]\n",
    "    return vot_relativ\n",
    "\n",
    "# Pondere de 1 pentru partidul în vedere, și -1 pentru medie\n",
    "normalizat = normalize()\n",
    "\n",
    "medie = normalizat.mean(axis=1)\n",
    "\n",
    "for partid in coloane_partide:\n",
    "    pozitie = normalizat[partid] - medie\n",
    "    scor = abs(pozitie)\n",
    "    pozitie = np.sign(pozitie/scor).replace({-1: 'contra', 1: 'pro'})\n",
    "    scor.name = 'scor'\n",
    "    pozitie.name = 'pozitie'\n",
    "    \n",
    "    \n",
    "    link_cdep(\n",
    "        pd.concat([scor, pozitie], axis=1).sort_values(by=scor.name, ascending=False), \n",
    "        nr_top=10, \n",
    "        titlu=f\"Voturi specifice {partid}:\"\n",
    "    )"
   ]
  },
  {
   "cell_type": "markdown",
   "metadata": {},
   "source": [
    "# Similaritate între voturile partidelor\n",
    "\n",
    "Ce partide votează similar pentru aceleași subiecte?"
   ]
  },
  {
   "cell_type": "code",
   "execution_count": 6,
   "metadata": {},
   "outputs": [],
   "source": [
    "def diferente(p1, p2):\n",
    "    vot_relativ = normalize()\n",
    "    return abs(vot_relativ[p1] - vot_relativ[p2])\n",
    "\n",
    "def sim(p1, p2):\n",
    "    return 1-(diferente(p1, p2)/2).mean()\n",
    "\n",
    "sim_mat = pd.DataFrame(0, index=coloane_partide, columns=coloane_partide)\n",
    "for p1 in coloane_partide:\n",
    "    for p2 in coloane_partide:\n",
    "        if not sim_mat.loc[p1, p2]:\n",
    "            s = sim(p1, p2)\n",
    "            sim_mat.loc[p1, p2] = s\n",
    "            sim_mat.loc[p2, p1] = s"
   ]
  },
  {
   "cell_type": "code",
   "execution_count": 7,
   "metadata": {},
   "outputs": [
    {
     "data": {
      "text/plain": [
       "Text(0.5, 1, 'Similaritate între voturile partidelor')"
      ]
     },
     "execution_count": 7,
     "metadata": {},
     "output_type": "execute_result"
    },
    {
     "data": {
      "image/png": "[encoded data removed]",
      "text/plain": [
       "<Figure size 432x288 with 2 Axes>"
      ]
     },
     "metadata": {
      "needs_background": "light"
     },
     "output_type": "display_data"
    }
   ],
   "source": [
    "ax = sns.heatmap(sim_mat, square=True)\n",
    "\n",
    "# https://stackoverflow.com/questions/56942670/matplotlib-seaborn-first-and-last-row-cut-in-half-of-heatmap-plot\n",
    "bottom, top = ax.get_ylim()\n",
    "ax.set_ylim(bottom + 0.5, top - 0.5)\n",
    "ax.set_title('Similaritate între voturile partidelor')"
   ]
  },
  {
   "cell_type": "code",
   "execution_count": 8,
   "metadata": {},
   "outputs": [
    {
     "data": {
      "text/html": [
       "<div>\n",
       "<style scoped>\n",
       "    .dataframe tbody tr th:only-of-type {\n",
       "        vertical-align: middle;\n",
       "    }\n",
       "\n",
       "    .dataframe tbody tr th {\n",
       "        vertical-align: top;\n",
       "    }\n",
       "\n",
       "    .dataframe thead th {\n",
       "        text-align: right;\n",
       "    }\n",
       "</style>\n",
       "<table border=\"1\" class=\"dataframe\">\n",
       "  <thead>\n",
       "    <tr style=\"text-align: right;\">\n",
       "      <th></th>\n",
       "      <th>PSD</th>\n",
       "      <th>Minorități</th>\n",
       "      <th>ALDE</th>\n",
       "      <th>UDMR</th>\n",
       "      <th>Neafiliați</th>\n",
       "      <th>PNL</th>\n",
       "      <th>USR</th>\n",
       "      <th>PMP</th>\n",
       "    </tr>\n",
       "  </thead>\n",
       "  <tbody>\n",
       "    <tr>\n",
       "      <th>PSD</th>\n",
       "      <td>1.000000</td>\n",
       "      <td>0.937844</td>\n",
       "      <td>0.928327</td>\n",
       "      <td>0.925807</td>\n",
       "      <td>0.894936</td>\n",
       "      <td>0.855735</td>\n",
       "      <td>0.843809</td>\n",
       "      <td>0.805041</td>\n",
       "    </tr>\n",
       "    <tr>\n",
       "      <th>Minorități</th>\n",
       "      <td>0.937844</td>\n",
       "      <td>1.000000</td>\n",
       "      <td>0.920128</td>\n",
       "      <td>0.912374</td>\n",
       "      <td>0.902873</td>\n",
       "      <td>0.870790</td>\n",
       "      <td>0.853351</td>\n",
       "      <td>0.826085</td>\n",
       "    </tr>\n",
       "    <tr>\n",
       "      <th>ALDE</th>\n",
       "      <td>0.928327</td>\n",
       "      <td>0.920128</td>\n",
       "      <td>1.000000</td>\n",
       "      <td>0.911603</td>\n",
       "      <td>0.909565</td>\n",
       "      <td>0.868766</td>\n",
       "      <td>0.842637</td>\n",
       "      <td>0.849273</td>\n",
       "    </tr>\n",
       "    <tr>\n",
       "      <th>UDMR</th>\n",
       "      <td>0.925807</td>\n",
       "      <td>0.912374</td>\n",
       "      <td>0.911603</td>\n",
       "      <td>1.000000</td>\n",
       "      <td>0.896929</td>\n",
       "      <td>0.863439</td>\n",
       "      <td>0.847528</td>\n",
       "      <td>0.824236</td>\n",
       "    </tr>\n",
       "    <tr>\n",
       "      <th>Neafiliați</th>\n",
       "      <td>0.894936</td>\n",
       "      <td>0.902873</td>\n",
       "      <td>0.909565</td>\n",
       "      <td>0.896929</td>\n",
       "      <td>1.000000</td>\n",
       "      <td>0.875373</td>\n",
       "      <td>0.869981</td>\n",
       "      <td>0.863350</td>\n",
       "    </tr>\n",
       "    <tr>\n",
       "      <th>PNL</th>\n",
       "      <td>0.855735</td>\n",
       "      <td>0.870790</td>\n",
       "      <td>0.868766</td>\n",
       "      <td>0.863439</td>\n",
       "      <td>0.875373</td>\n",
       "      <td>1.000000</td>\n",
       "      <td>0.893486</td>\n",
       "      <td>0.888035</td>\n",
       "    </tr>\n",
       "    <tr>\n",
       "      <th>USR</th>\n",
       "      <td>0.843809</td>\n",
       "      <td>0.853351</td>\n",
       "      <td>0.842637</td>\n",
       "      <td>0.847528</td>\n",
       "      <td>0.869981</td>\n",
       "      <td>0.893486</td>\n",
       "      <td>1.000000</td>\n",
       "      <td>0.876874</td>\n",
       "    </tr>\n",
       "    <tr>\n",
       "      <th>PMP</th>\n",
       "      <td>0.805041</td>\n",
       "      <td>0.826085</td>\n",
       "      <td>0.849273</td>\n",
       "      <td>0.824236</td>\n",
       "      <td>0.863350</td>\n",
       "      <td>0.888035</td>\n",
       "      <td>0.876874</td>\n",
       "      <td>1.000000</td>\n",
       "    </tr>\n",
       "  </tbody>\n",
       "</table>\n",
       "</div>"
      ],
      "text/plain": [
       "                 PSD  Minorități      ALDE      UDMR  Neafiliați       PNL  \\\n",
       "PSD         1.000000    0.937844  0.928327  0.925807    0.894936  0.855735   \n",
       "Minorități  0.937844    1.000000  0.920128  0.912374    0.902873  0.870790   \n",
       "ALDE        0.928327    0.920128  1.000000  0.911603    0.909565  0.868766   \n",
       "UDMR        0.925807    0.912374  0.911603  1.000000    0.896929  0.863439   \n",
       "Neafiliați  0.894936    0.902873  0.909565  0.896929    1.000000  0.875373   \n",
       "PNL         0.855735    0.870790  0.868766  0.863439    0.875373  1.000000   \n",
       "USR         0.843809    0.853351  0.842637  0.847528    0.869981  0.893486   \n",
       "PMP         0.805041    0.826085  0.849273  0.824236    0.863350  0.888035   \n",
       "\n",
       "                 USR       PMP  \n",
       "PSD         0.843809  0.805041  \n",
       "Minorități  0.853351  0.826085  \n",
       "ALDE        0.842637  0.849273  \n",
       "UDMR        0.847528  0.824236  \n",
       "Neafiliați  0.869981  0.863350  \n",
       "PNL         0.893486  0.888035  \n",
       "USR         1.000000  0.876874  \n",
       "PMP         0.876874  1.000000  "
      ]
     },
     "execution_count": 8,
     "metadata": {},
     "output_type": "execute_result"
    }
   ],
   "source": [
    "sim_mat"
   ]
  },
  {
   "cell_type": "markdown",
   "metadata": {},
   "source": [
    "# Ce înseamnă toate acestea?\n",
    "* Partidele sunt destul de similare (de exemplu, cele mai diferite partide, PSD și PMP, au votat similar la 80% din voturi).\n",
    "* Avem de unde alege (există diferențe în acele 20% rămase).\n",
    "* Urmăriți acest blog pentru partea a 2-a!"
   ]
  },
  {
   "cell_type": "code",
   "execution_count": 35,
   "metadata": {},
   "outputs": [],
   "source": [
    "def distanta(x1, y1, x2, y2):\n",
    "    return np.sqrt((x2-x1)**2 + (y2-y1)**2)\n",
    "\n",
    "class PartideLocalizate:\n",
    "    def __init__(self, sim_mat):\n",
    "        self.distante = 1-sim_mat\n",
    "        \n",
    "        def rnd():\n",
    "            return np.random.random(len(coloane_partide))*.00001\n",
    "        \n",
    "        self.xs = pd.Series(rnd(), index=coloane_partide, name='xs')\n",
    "        self.ys = pd.Series(rnd(), index=coloane_partide, name='ys')\n",
    "    \n",
    "    def _to_coeff(self):\n",
    "        return pd.concat([self.xs, self.ys])\n",
    "    \n",
    "    def _from_coeff(self, coeff):\n",
    "        self.xs = pd.Series(coeff[:8], index=coloane_partide, name='xs')\n",
    "        self.ys = pd.Series(coeff[8:], index=coloane_partide, name='ys')\n",
    "    \n",
    "        # Fixarea extremelor, pentru un grafic consistent de la o rulare la alta\n",
    "        ex1, ex2 = 'PSD', 'PMP'\n",
    "    \n",
    "        d_extrem = 1-sim_mat.loc[ex1, ex2]\n",
    "        self.xs[ex1] = -d_extrem/2\n",
    "        self.ys[ex1] = 0\n",
    "        self.xs[ex2] = d_extrem/2\n",
    "        self.ys[ex2] = 0\n",
    "    \n",
    "    def _err(self, coeff):\n",
    "        distante_estimate = sim_mat.copy()\n",
    "        distante_estimate[:] = 0\n",
    "        \n",
    "        self._from_coeff(coeff)\n",
    "        \n",
    "        for p1 in coloane_partide:\n",
    "            for p2 in coloane_partide:\n",
    "                if not distante_estimate.loc[p1, p2]:\n",
    "                    s = distanta(self.xs[p1], self.ys[p1], self.xs[p2], self.ys[p2])\n",
    "                    distante_estimate.loc[p1, p2] = s\n",
    "                    distante_estimate.loc[p2, p1] = s\n",
    "        return ((self.distante - distante_estimate)**2).mean().mean()\n",
    "    \n",
    "    def pos_mat(self):\n",
    "        return pd.concat([self.xs, self.ys], axis=1)\n",
    "    \n",
    "    def __str__(self):\n",
    "        return str(self.pos_mat())\n",
    "    \n",
    "    def __repr__(self):\n",
    "        return self.__str__()"
   ]
  },
  {
   "cell_type": "code",
   "execution_count": 41,
   "metadata": {},
   "outputs": [
    {
     "name": "stdout",
     "output_type": "stream",
     "text": [
      "0.00754111238380915\n",
      "      fun: 0.0004511682241448211\n",
      " hess_inv: array([[  1.        ,   0.        ,   0.        ,   0.        ,\n",
      "          0.        ,   0.        ,   0.        ,   0.        ,\n",
      "          0.        ,   0.        ,   0.        ,   0.        ,\n",
      "          0.        ,   0.        ,   0.        ,   0.        ],\n",
      "       [  0.        ,   6.98021185,   1.59150811,   0.22527117,\n",
      "         -0.82264119,   1.65982701,  -1.26754393,   0.        ,\n",
      "          0.        ,   3.62943151,   2.30337489,   4.27822629,\n",
      "          0.76651271,  -3.03249503,  -1.27550938,   0.        ],\n",
      "       [  0.        ,   1.59150811,   9.32257498,   2.05924397,\n",
      "          1.52468177,   2.71709096,  -3.85593813,   0.        ,\n",
      "          0.        ,  10.94311848,   1.74799033,   3.82598797,\n",
      "          6.44308203,  -4.74676805,  -2.55872831,   0.        ],\n",
      "       [  0.        ,   0.22527117,   2.05924397,   6.24783072,\n",
      "          3.45563013,   2.41212296,   2.24803044,   0.        ,\n",
      "          0.        ,   1.93427795,  -0.37465562,  -1.71647562,\n",
      "          1.09991671,  -0.12562604,  -0.24746753,   0.        ],\n",
      "       [  0.        ,  -0.82264119,   1.52468177,   3.45563013,\n",
      "          8.90892084,   3.55144173,   0.76649012,   0.        ,\n",
      "          0.        ,  -0.56257851,  -0.87766069,  -4.5433174 ,\n",
      "          5.61644549,  -0.46198714,  -1.73671309,   0.        ],\n",
      "       [  0.        ,   1.65982701,   2.71709096,   2.41212296,\n",
      "          3.55144173,   6.49661215,  -1.49383939,   0.        ,\n",
      "          0.        ,   1.18607348,  -1.14723058,  -0.85225197,\n",
      "          3.40321745,  -3.64499413,  -3.21917678,   0.        ],\n",
      "       [  0.        ,  -1.26754393,  -3.85593813,   2.24803044,\n",
      "          0.76649012,  -1.49383939,  19.05174812,   0.        ,\n",
      "          0.        , -15.87846997,  -6.65399585,  -7.3578356 ,\n",
      "        -12.98484468,   6.20951153,   6.69063182,   0.        ],\n",
      "       [  0.        ,   0.        ,   0.        ,   0.        ,\n",
      "          0.        ,   0.        ,   0.        ,   1.        ,\n",
      "          0.        ,   0.        ,   0.        ,   0.        ,\n",
      "          0.        ,   0.        ,   0.        ,   0.        ],\n",
      "       [  0.        ,   0.        ,   0.        ,   0.        ,\n",
      "          0.        ,   0.        ,   0.        ,   0.        ,\n",
      "          1.        ,   0.        ,   0.        ,   0.        ,\n",
      "          0.        ,   0.        ,   0.        ,   0.        ],\n",
      "       [  0.        ,   3.62943151,  10.94311848,   1.93427795,\n",
      "         -0.56257851,   1.18607348, -15.87846997,   0.        ,\n",
      "          0.        ,  49.05084127,  18.34467974,  17.67465393,\n",
      "         28.50827239,  -0.44635339,   2.38880044,   0.        ],\n",
      "       [  0.        ,   2.30337489,   1.74799033,  -0.37465562,\n",
      "         -0.87766069,  -1.14723058,  -6.65399585,   0.        ,\n",
      "          0.        ,  18.34467974,  15.11218954,   9.50619036,\n",
      "         13.28600468,   2.86639757,   3.38308895,   0.        ],\n",
      "       [  0.        ,   4.27822629,   3.82598797,  -1.71647562,\n",
      "         -4.5433174 ,  -0.85225197,  -7.3578356 ,   0.        ,\n",
      "          0.        ,  17.67465393,   9.50619036,  16.65104624,\n",
      "          7.41900508,  -0.07441216,   2.11252282,   0.        ],\n",
      "       [  0.        ,   0.76651271,   6.44308203,   1.09991671,\n",
      "          5.61644549,   3.40321745, -12.98484468,   0.        ,\n",
      "          0.        ,  28.50827239,  13.28600468,   7.41900508,\n",
      "         30.75426475,  -2.88561455,  -1.76603795,   0.        ],\n",
      "       [  0.        ,  -3.03249503,  -4.74676805,  -0.12562604,\n",
      "         -0.46198714,  -3.64499413,   6.20951153,   0.        ,\n",
      "          0.        ,  -0.44635339,   2.86639757,  -0.07441216,\n",
      "         -2.88561455,  18.70598835,   9.70183204,   0.        ],\n",
      "       [  0.        ,  -1.27550938,  -2.55872831,  -0.24746753,\n",
      "         -1.73671309,  -3.21917678,   6.69063182,   0.        ,\n",
      "          0.        ,   2.38880044,   3.38308895,   2.11252282,\n",
      "         -1.76603795,   9.70183204,  10.86835905,   0.        ],\n",
      "       [  0.        ,   0.        ,   0.        ,   0.        ,\n",
      "          0.        ,   0.        ,   0.        ,   0.        ,\n",
      "          0.        ,   0.        ,   0.        ,   0.        ,\n",
      "          0.        ,   0.        ,   0.        ,   1.        ]])\n",
      "      jac: array([ 0.00000000e+00, -7.18038791e-07,  2.78878360e-06,  1.72071304e-06,\n",
      "       -3.96855467e-06,  8.63405148e-07, -1.76502726e-06,  0.00000000e+00,\n",
      "        0.00000000e+00, -1.53485962e-06, -6.57626515e-07, -1.34630682e-06,\n",
      "        1.99077840e-06, -1.12197085e-06,  2.10333747e-06,  0.00000000e+00])\n",
      "  message: 'Optimization terminated successfully.'\n",
      "     nfev: 1350\n",
      "      nit: 70\n",
      "     njev: 75\n",
      "   status: 0\n",
      "  success: True\n",
      "        x: array([-0.09747964, -0.06437139, -0.03875403, -0.09867612, -0.03787631,\n",
      "        0.04916069,  0.04209592,  0.09747964,  0.        , -0.00798952,\n",
      "        0.02804349, -0.05962436, -0.08013316, -0.04728447, -0.12244846,\n",
      "        0.        ])\n"
     ]
    }
   ],
   "source": [
    "pl = PartideLocalizate(sim_mat)\n",
    "print(pl._err(pl._to_coeff()))\n",
    "\n",
    "result = minimize(\n",
    "    pl._err, \n",
    "    pl._to_coeff(), \n",
    "    tol=0.00001\n",
    ")\n",
    "print(result)"
   ]
  },
  {
   "cell_type": "code",
   "execution_count": 42,
   "metadata": {},
   "outputs": [
    {
     "name": "stderr",
     "output_type": "stream",
     "text": [
      "'c' argument looks like a single numeric RGB or RGBA sequence, which should be avoided as value-mapping will have precedence in case its length matches with 'x' & 'y'.  Please use a 2-D array with a single row if you really want to specify the same RGB or RGBA value for all points.\n"
     ]
    },
    {
     "name": "stdout",
     "output_type": "stream",
     "text": [
      "                  xs        ys  membri           color\n",
      "PSD        -0.078927  0.036180     140             red\n",
      "Minorități -0.045819  0.028190      17         fuchsia\n",
      "ALDE       -0.020201  0.064223      19  cornflowerblue\n",
      "UDMR       -0.080123 -0.023445      21     forestgreen\n",
      "Neafiliați -0.019324 -0.043954      25            grey\n",
      "PNL         0.067713 -0.011105      68          yellow\n",
      "USR         0.060649 -0.086269      27         skyblue\n",
      "PMP         0.116032  0.036180      12     yellowgreen\n"
     ]
    },
    {
     "data": {
      "image/png": "[encoded data removed]",
      "text/plain": [
       "<Figure size 720x720 with 1 Axes>"
      ]
     },
     "metadata": {
      "needs_background": "light"
     },
     "output_type": "display_data"
    }
   ],
   "source": [
    "pl._from_coeff(result.x)\n",
    "df = pl.pos_mat()\n",
    "df -= df.mean() # Centreaza\n",
    "\n",
    "marimi = membri.groupby('partid').count()['nume']\n",
    "marimi.name = 'membri'\n",
    "df = df.join(marimi)\n",
    "\n",
    "colors = pd.Series({\n",
    "    'PSD': 'red', \n",
    "    'ALDE': 'cornflowerblue', \n",
    "    'PNL': 'yellow', \n",
    "    'USR': 'skyblue', \n",
    "    'Minorități': 'fuchsia',\n",
    "    'UDMR': 'forestgreen',\n",
    "    'Neafiliați': 'grey',\n",
    "    'PMP': 'yellowgreen'\n",
    "    }, name='color'\n",
    ")\n",
    "df = df.join(colors)\n",
    "\n",
    "ax = df.plot.scatter(x='xs', y='ys', alpha=0, figsize=(10, 10))\n",
    "\n",
    "print(df)\n",
    "\n",
    "ax.scatter(df['xs'], df['ys'], s=df['membri']*70, c=df['color'])\n",
    "\n",
    "for key, row in df.iterrows():\n",
    "    ax.annotate(\n",
    "        key, \n",
    "        xy=(row['xs'], row['ys']-0.003), \n",
    "        ha='center', \n",
    "        fontsize='large',\n",
    "        bbox={'boxstyle': 'square', 'alpha':0.7, 'color':'white'}\n",
    "    )\n",
    "    pass"
   ]
  },
  {
   "cell_type": "code",
   "execution_count": 43,
   "metadata": {
    "scrolled": true
   },
   "outputs": [
    {
     "data": {
      "text/markdown": [
       "### X +"
      ],
      "text/plain": [
       "<IPython.core.display.Markdown object>"
      ]
     },
     "metadata": {},
     "output_type": "display_data"
    },
    {
     "data": {
      "text/markdown": [
       "[Vot 22079](http://www.cdep.ro/pls/steno/evot2015.nominal?idv=22079): scor 0.213 pro anchetei despre neutralitatea Consiliul Național al Audiovizualului în 2018-2019"
      ],
      "text/plain": [
       "<IPython.core.display.Markdown object>"
      ]
     },
     "metadata": {},
     "output_type": "display_data"
    },
    {
     "data": {
      "text/markdown": [
       "[Vot 20417](http://www.cdep.ro/pls/steno/evot2015.nominal?idv=20417): scor 0.192 pro anchetei privind interceptări ilegale cerute de Dragnea"
      ],
      "text/plain": [
       "<IPython.core.display.Markdown object>"
      ]
     },
     "metadata": {},
     "output_type": "display_data"
    },
    {
     "data": {
      "text/markdown": [
       "[Vot 17262](http://www.cdep.ro/pls/steno/evot2015.nominal?idv=17262): scor 0.191 pro anchetei despre pensionarea şi reangajarea aceloraşi persoane în MAI"
      ],
      "text/plain": [
       "<IPython.core.display.Markdown object>"
      ]
     },
     "metadata": {},
     "output_type": "display_data"
    },
    {
     "data": {
      "text/markdown": [
       "[Vot 20120](http://www.cdep.ro/pls/steno/evot2015.nominal?idv=20120): scor 0.185 pro readucerii pe ordinea de zi a voturilor amânate de PSD"
      ],
      "text/plain": [
       "<IPython.core.display.Markdown object>"
      ]
     },
     "metadata": {},
     "output_type": "display_data"
    },
    {
     "data": {
      "text/markdown": [
       "[Vot 20402](http://www.cdep.ro/pls/steno/evot2015.nominal?idv=20402): scor 0.111 pro evaluării eficienței combaterii pestei porcine africane"
      ],
      "text/plain": [
       "<IPython.core.display.Markdown object>"
      ]
     },
     "metadata": {},
     "output_type": "display_data"
    },
    {
     "data": {
      "text/markdown": [
       "### Y +"
      ],
      "text/plain": [
       "<IPython.core.display.Markdown object>"
      ]
     },
     "metadata": {},
     "output_type": "display_data"
    },
    {
     "data": {
      "text/markdown": [
       "[Vot 22165](http://www.cdep.ro/pls/steno/evot2015.nominal?idv=22165): scor 0.122  "
      ],
      "text/plain": [
       "<IPython.core.display.Markdown object>"
      ]
     },
     "metadata": {},
     "output_type": "display_data"
    },
    {
     "data": {
      "text/markdown": [
       "[Vot 22309](http://www.cdep.ro/pls/steno/evot2015.nominal?idv=22309): scor 0.109  "
      ],
      "text/plain": [
       "<IPython.core.display.Markdown object>"
      ]
     },
     "metadata": {},
     "output_type": "display_data"
    },
    {
     "data": {
      "text/markdown": [
       "[Vot 22381](http://www.cdep.ro/pls/steno/evot2015.nominal?idv=22381): scor 0.108  "
      ],
      "text/plain": [
       "<IPython.core.display.Markdown object>"
      ]
     },
     "metadata": {},
     "output_type": "display_data"
    },
    {
     "data": {
      "text/markdown": [
       "[Vot 21082](http://www.cdep.ro/pls/steno/evot2015.nominal?idv=21082): scor 0.107  "
      ],
      "text/plain": [
       "<IPython.core.display.Markdown object>"
      ]
     },
     "metadata": {},
     "output_type": "display_data"
    },
    {
     "data": {
      "text/markdown": [
       "[Vot 22380](http://www.cdep.ro/pls/steno/evot2015.nominal?idv=22380): scor 0.106 pro modificării Legii fondului funciar 18/1991 a.î. să permită cereri de reconstituire a dreptului la proprietate oricând"
      ],
      "text/plain": [
       "<IPython.core.display.Markdown object>"
      ]
     },
     "metadata": {},
     "output_type": "display_data"
    },
    {
     "data": {
      "text/markdown": [
       "### X -"
      ],
      "text/plain": [
       "<IPython.core.display.Markdown object>"
      ]
     },
     "metadata": {},
     "output_type": "display_data"
    },
    {
     "data": {
      "text/markdown": [
       "[Vot 21081](http://www.cdep.ro/pls/steno/evot2015.nominal?idv=21081): scor 1.228  "
      ],
      "text/plain": [
       "<IPython.core.display.Markdown object>"
      ]
     },
     "metadata": {},
     "output_type": "display_data"
    },
    {
     "data": {
      "text/markdown": [
       "[Vot 21086](http://www.cdep.ro/pls/steno/evot2015.nominal?idv=21086): scor 1.228  "
      ],
      "text/plain": [
       "<IPython.core.display.Markdown object>"
      ]
     },
     "metadata": {},
     "output_type": "display_data"
    },
    {
     "data": {
      "text/markdown": [
       "[Vot 21094](http://www.cdep.ro/pls/steno/evot2015.nominal?idv=21094): scor 1.225  "
      ],
      "text/plain": [
       "<IPython.core.display.Markdown object>"
      ]
     },
     "metadata": {},
     "output_type": "display_data"
    },
    {
     "data": {
      "text/markdown": [
       "[Vot 21105](http://www.cdep.ro/pls/steno/evot2015.nominal?idv=21105): scor 1.224  "
      ],
      "text/plain": [
       "<IPython.core.display.Markdown object>"
      ]
     },
     "metadata": {},
     "output_type": "display_data"
    },
    {
     "data": {
      "text/markdown": [
       "[Vot 21088](http://www.cdep.ro/pls/steno/evot2015.nominal?idv=21088): scor 1.224  "
      ],
      "text/plain": [
       "<IPython.core.display.Markdown object>"
      ]
     },
     "metadata": {},
     "output_type": "display_data"
    },
    {
     "data": {
      "text/markdown": [
       "### Y -"
      ],
      "text/plain": [
       "<IPython.core.display.Markdown object>"
      ]
     },
     "metadata": {},
     "output_type": "display_data"
    },
    {
     "data": {
      "text/markdown": [
       "[Vot 20403](http://www.cdep.ro/pls/steno/evot2015.nominal?idv=20403): scor 1.101 pro anchetei despre reprimarea protestului pașnic din 10 august 2018"
      ],
      "text/plain": [
       "<IPython.core.display.Markdown object>"
      ]
     },
     "metadata": {},
     "output_type": "display_data"
    },
    {
     "data": {
      "text/markdown": [
       "[Vot 20402](http://www.cdep.ro/pls/steno/evot2015.nominal?idv=20402): scor 1.095 pro evaluării eficienței combaterii pestei porcine africane"
      ],
      "text/plain": [
       "<IPython.core.display.Markdown object>"
      ]
     },
     "metadata": {},
     "output_type": "display_data"
    },
    {
     "data": {
      "text/markdown": [
       "[Vot 22468](http://www.cdep.ro/pls/steno/evot2015.nominal?idv=22468): scor 1.076 pro alegerii decanilor prin vot, nu cum e acum, prin numire de către rector"
      ],
      "text/plain": [
       "<IPython.core.display.Markdown object>"
      ]
     },
     "metadata": {},
     "output_type": "display_data"
    },
    {
     "data": {
      "text/markdown": [
       "[Vot 22079](http://www.cdep.ro/pls/steno/evot2015.nominal?idv=22079): scor 1.070 pro anchetei despre neutralitatea Consiliul Național al Audiovizualului în 2018-2019"
      ],
      "text/plain": [
       "<IPython.core.display.Markdown object>"
      ]
     },
     "metadata": {},
     "output_type": "display_data"
    },
    {
     "data": {
      "text/markdown": [
       "[Vot 16168](http://www.cdep.ro/pls/steno/evot2015.nominal?idv=16168): scor 1.065  "
      ],
      "text/plain": [
       "<IPython.core.display.Markdown object>"
      ]
     },
     "metadata": {},
     "output_type": "display_data"
    }
   ],
   "source": [
    "voturi = normalize()\n",
    "\n",
    "def mk_axa(axa):\n",
    "    return pd.DataFrame({'scor': (voturi * df[axa]).sum(axis=1), 'pozitie': 'pro'})\n",
    "\n",
    "orizontala, verticala = mk_axa('xs'), mk_axa('ys')\n",
    "\n",
    "\n",
    "link_cdep(orizontala, 5, 'X +')\n",
    "link_cdep(verticala, 5, 'Y +')\n",
    "\n",
    "verticala['scor'] = 1-verticala['scor']\n",
    "orizontala['scor'] = 1-orizontala['scor']\n",
    "\n",
    "\n",
    "link_cdep(orizontala, 5, 'X -')\n",
    "link_cdep(verticala, 5, 'Y -')"
   ]
  },
  {
   "cell_type": "code",
   "execution_count": 44,
   "metadata": {},
   "outputs": [
    {
     "data": {
      "text/plain": [
       "cod cdep\n",
       "16105    0.317975\n",
       "16106    0.316438\n",
       "16107    0.129464\n",
       "16108    0.391059\n",
       "16109    0.096867\n",
       "           ...   \n",
       "22897    0.122501\n",
       "22898    0.286923\n",
       "22899    0.125604\n",
       "22900    0.135103\n",
       "22901    0.349707\n",
       "Length: 1601, dtype: float64"
      ]
     },
     "execution_count": 44,
     "metadata": {},
     "output_type": "execute_result"
    }
   ],
   "source": [
    "normalize().std(axis=1)"
   ]
  },
  {
   "cell_type": "code",
   "execution_count": 45,
   "metadata": {},
   "outputs": [
    {
     "data": {
      "text/markdown": [
       "## Voturi cu deviație mare"
      ],
      "text/plain": [
       "<IPython.core.display.Markdown object>"
      ]
     },
     "metadata": {},
     "output_type": "display_data"
    },
    {
     "data": {
      "text/markdown": [
       "[Vot 22380](http://www.cdep.ro/pls/steno/evot2015.nominal?idv=22380): scor 0.490 în vederea modificării Legii fondului funciar 18/1991 a.î. să permită cereri de reconstituire a dreptului la proprietate oricând"
      ],
      "text/plain": [
       "<IPython.core.display.Markdown object>"
      ]
     },
     "metadata": {},
     "output_type": "display_data"
    },
    {
     "data": {
      "text/markdown": [
       "[Vot 21081](http://www.cdep.ro/pls/steno/evot2015.nominal?idv=21081): scor 0.482  "
      ],
      "text/plain": [
       "<IPython.core.display.Markdown object>"
      ]
     },
     "metadata": {},
     "output_type": "display_data"
    },
    {
     "data": {
      "text/markdown": [
       "[Vot 21086](http://www.cdep.ro/pls/steno/evot2015.nominal?idv=21086): scor 0.482  "
      ],
      "text/plain": [
       "<IPython.core.display.Markdown object>"
      ]
     },
     "metadata": {},
     "output_type": "display_data"
    },
    {
     "data": {
      "text/markdown": [
       "[Vot 21085](http://www.cdep.ro/pls/steno/evot2015.nominal?idv=21085): scor 0.477 în vederea aprobării bugetului CDEP pentru anul 2019; au crescut cheltuielile cu 15% (salarii, pensii speciale)"
      ],
      "text/plain": [
       "<IPython.core.display.Markdown object>"
      ]
     },
     "metadata": {},
     "output_type": "display_data"
    },
    {
     "data": {
      "text/markdown": [
       "[Vot 21082](http://www.cdep.ro/pls/steno/evot2015.nominal?idv=21082): scor 0.474  "
      ],
      "text/plain": [
       "<IPython.core.display.Markdown object>"
      ]
     },
     "metadata": {},
     "output_type": "display_data"
    },
    {
     "data": {
      "text/markdown": [
       "[Vot 21083](http://www.cdep.ro/pls/steno/evot2015.nominal?idv=21083): scor 0.474  "
      ],
      "text/plain": [
       "<IPython.core.display.Markdown object>"
      ]
     },
     "metadata": {},
     "output_type": "display_data"
    },
    {
     "data": {
      "text/markdown": [
       "[Vot 21084](http://www.cdep.ro/pls/steno/evot2015.nominal?idv=21084): scor 0.474 în vederea permutării a doi membri PSD în comisiile permanente ale CDEP"
      ],
      "text/plain": [
       "<IPython.core.display.Markdown object>"
      ]
     },
     "metadata": {},
     "output_type": "display_data"
    },
    {
     "data": {
      "text/markdown": [
       "[Vot 22381](http://www.cdep.ro/pls/steno/evot2015.nominal?idv=22381): scor 0.473  "
      ],
      "text/plain": [
       "<IPython.core.display.Markdown object>"
      ]
     },
     "metadata": {},
     "output_type": "display_data"
    },
    {
     "data": {
      "text/markdown": [
       "[Vot 21094](http://www.cdep.ro/pls/steno/evot2015.nominal?idv=21094): scor 0.470  "
      ],
      "text/plain": [
       "<IPython.core.display.Markdown object>"
      ]
     },
     "metadata": {},
     "output_type": "display_data"
    },
    {
     "data": {
      "text/markdown": [
       "[Vot 21090](http://www.cdep.ro/pls/steno/evot2015.nominal?idv=21090): scor 0.468  "
      ],
      "text/plain": [
       "<IPython.core.display.Markdown object>"
      ]
     },
     "metadata": {},
     "output_type": "display_data"
    },
    {
     "data": {
      "text/markdown": [
       "[Vot 21105](http://www.cdep.ro/pls/steno/evot2015.nominal?idv=21105): scor 0.468  "
      ],
      "text/plain": [
       "<IPython.core.display.Markdown object>"
      ]
     },
     "metadata": {},
     "output_type": "display_data"
    },
    {
     "data": {
      "text/markdown": [
       "[Vot 21087](http://www.cdep.ro/pls/steno/evot2015.nominal?idv=21087): scor 0.468 în vederea împăcării unor legi despre achiziții publice"
      ],
      "text/plain": [
       "<IPython.core.display.Markdown object>"
      ]
     },
     "metadata": {},
     "output_type": "display_data"
    },
    {
     "data": {
      "text/markdown": [
       "[Vot 21088](http://www.cdep.ro/pls/steno/evot2015.nominal?idv=21088): scor 0.468  "
      ],
      "text/plain": [
       "<IPython.core.display.Markdown object>"
      ]
     },
     "metadata": {},
     "output_type": "display_data"
    },
    {
     "data": {
      "text/markdown": [
       "[Vot 21107](http://www.cdep.ro/pls/steno/evot2015.nominal?idv=21107): scor 0.467  "
      ],
      "text/plain": [
       "<IPython.core.display.Markdown object>"
      ]
     },
     "metadata": {},
     "output_type": "display_data"
    },
    {
     "data": {
      "text/markdown": [
       "[Vot 21099](http://www.cdep.ro/pls/steno/evot2015.nominal?idv=21099): scor 0.466  "
      ],
      "text/plain": [
       "<IPython.core.display.Markdown object>"
      ]
     },
     "metadata": {},
     "output_type": "display_data"
    },
    {
     "data": {
      "text/markdown": [
       "[Vot 21101](http://www.cdep.ro/pls/steno/evot2015.nominal?idv=21101): scor 0.465  "
      ],
      "text/plain": [
       "<IPython.core.display.Markdown object>"
      ]
     },
     "metadata": {},
     "output_type": "display_data"
    },
    {
     "data": {
      "text/markdown": [
       "[Vot 21120](http://www.cdep.ro/pls/steno/evot2015.nominal?idv=21120): scor 0.464  "
      ],
      "text/plain": [
       "<IPython.core.display.Markdown object>"
      ]
     },
     "metadata": {},
     "output_type": "display_data"
    },
    {
     "data": {
      "text/markdown": [
       "[Vot 21092](http://www.cdep.ro/pls/steno/evot2015.nominal?idv=21092): scor 0.461 în vederea scoaterii normativelor de cost pentru investiții din fonduri publice (pentru unii, cec în alb, pentru alții, deblocarea investițiilor)"
      ],
      "text/plain": [
       "<IPython.core.display.Markdown object>"
      ]
     },
     "metadata": {},
     "output_type": "display_data"
    },
    {
     "data": {
      "text/markdown": [
       "[Vot 21095](http://www.cdep.ro/pls/steno/evot2015.nominal?idv=21095): scor 0.459  "
      ],
      "text/plain": [
       "<IPython.core.display.Markdown object>"
      ]
     },
     "metadata": {},
     "output_type": "display_data"
    },
    {
     "data": {
      "text/markdown": [
       "[Vot 21093](http://www.cdep.ro/pls/steno/evot2015.nominal?idv=21093): scor 0.459  "
      ],
      "text/plain": [
       "<IPython.core.display.Markdown object>"
      ]
     },
     "metadata": {},
     "output_type": "display_data"
    },
    {
     "data": {
      "text/markdown": [
       "## Voturi cu deviație mică"
      ],
      "text/plain": [
       "<IPython.core.display.Markdown object>"
      ]
     },
     "metadata": {},
     "output_type": "display_data"
    },
    {
     "data": {
      "text/markdown": [
       "[Vot 19272](http://www.cdep.ro/pls/steno/evot2015.nominal?idv=19272): scor -0.029  "
      ],
      "text/plain": [
       "<IPython.core.display.Markdown object>"
      ]
     },
     "metadata": {},
     "output_type": "display_data"
    },
    {
     "data": {
      "text/markdown": [
       "[Vot 16491](http://www.cdep.ro/pls/steno/evot2015.nominal?idv=16491): scor -0.030  "
      ],
      "text/plain": [
       "<IPython.core.display.Markdown object>"
      ]
     },
     "metadata": {},
     "output_type": "display_data"
    },
    {
     "data": {
      "text/markdown": [
       "[Vot 16505](http://www.cdep.ro/pls/steno/evot2015.nominal?idv=16505): scor -0.039  "
      ],
      "text/plain": [
       "<IPython.core.display.Markdown object>"
      ]
     },
     "metadata": {},
     "output_type": "display_data"
    },
    {
     "data": {
      "text/markdown": [
       "[Vot 16513](http://www.cdep.ro/pls/steno/evot2015.nominal?idv=16513): scor -0.039  "
      ],
      "text/plain": [
       "<IPython.core.display.Markdown object>"
      ]
     },
     "metadata": {},
     "output_type": "display_data"
    },
    {
     "data": {
      "text/markdown": [
       "[Vot 16514](http://www.cdep.ro/pls/steno/evot2015.nominal?idv=16514): scor -0.042  "
      ],
      "text/plain": [
       "<IPython.core.display.Markdown object>"
      ]
     },
     "metadata": {},
     "output_type": "display_data"
    },
    {
     "data": {
      "text/markdown": [
       "[Vot 20658](http://www.cdep.ro/pls/steno/evot2015.nominal?idv=20658): scor -0.046  "
      ],
      "text/plain": [
       "<IPython.core.display.Markdown object>"
      ]
     },
     "metadata": {},
     "output_type": "display_data"
    },
    {
     "data": {
      "text/markdown": [
       "[Vot 19271](http://www.cdep.ro/pls/steno/evot2015.nominal?idv=19271): scor -0.046  "
      ],
      "text/plain": [
       "<IPython.core.display.Markdown object>"
      ]
     },
     "metadata": {},
     "output_type": "display_data"
    },
    {
     "data": {
      "text/markdown": [
       "[Vot 19273](http://www.cdep.ro/pls/steno/evot2015.nominal?idv=19273): scor -0.047  "
      ],
      "text/plain": [
       "<IPython.core.display.Markdown object>"
      ]
     },
     "metadata": {},
     "output_type": "display_data"
    },
    {
     "data": {
      "text/markdown": [
       "[Vot 16205](http://www.cdep.ro/pls/steno/evot2015.nominal?idv=16205): scor -0.048  "
      ],
      "text/plain": [
       "<IPython.core.display.Markdown object>"
      ]
     },
     "metadata": {},
     "output_type": "display_data"
    },
    {
     "data": {
      "text/markdown": [
       "[Vot 16197](http://www.cdep.ro/pls/steno/evot2015.nominal?idv=16197): scor -0.048  "
      ],
      "text/plain": [
       "<IPython.core.display.Markdown object>"
      ]
     },
     "metadata": {},
     "output_type": "display_data"
    },
    {
     "data": {
      "text/markdown": [
       "[Vot 16488](http://www.cdep.ro/pls/steno/evot2015.nominal?idv=16488): scor -0.049  "
      ],
      "text/plain": [
       "<IPython.core.display.Markdown object>"
      ]
     },
     "metadata": {},
     "output_type": "display_data"
    },
    {
     "data": {
      "text/markdown": [
       "[Vot 16214](http://www.cdep.ro/pls/steno/evot2015.nominal?idv=16214): scor -0.049  "
      ],
      "text/plain": [
       "<IPython.core.display.Markdown object>"
      ]
     },
     "metadata": {},
     "output_type": "display_data"
    },
    {
     "data": {
      "text/markdown": [
       "[Vot 18843](http://www.cdep.ro/pls/steno/evot2015.nominal?idv=18843): scor -0.049  "
      ],
      "text/plain": [
       "<IPython.core.display.Markdown object>"
      ]
     },
     "metadata": {},
     "output_type": "display_data"
    },
    {
     "data": {
      "text/markdown": [
       "[Vot 16692](http://www.cdep.ro/pls/steno/evot2015.nominal?idv=16692): scor -0.050  "
      ],
      "text/plain": [
       "<IPython.core.display.Markdown object>"
      ]
     },
     "metadata": {},
     "output_type": "display_data"
    },
    {
     "data": {
      "text/markdown": [
       "[Vot 19264](http://www.cdep.ro/pls/steno/evot2015.nominal?idv=19264): scor -0.050  "
      ],
      "text/plain": [
       "<IPython.core.display.Markdown object>"
      ]
     },
     "metadata": {},
     "output_type": "display_data"
    },
    {
     "data": {
      "text/markdown": [
       "[Vot 19265](http://www.cdep.ro/pls/steno/evot2015.nominal?idv=19265): scor -0.050  "
      ],
      "text/plain": [
       "<IPython.core.display.Markdown object>"
      ]
     },
     "metadata": {},
     "output_type": "display_data"
    },
    {
     "data": {
      "text/markdown": [
       "[Vot 22665](http://www.cdep.ro/pls/steno/evot2015.nominal?idv=22665): scor -0.051  "
      ],
      "text/plain": [
       "<IPython.core.display.Markdown object>"
      ]
     },
     "metadata": {},
     "output_type": "display_data"
    },
    {
     "data": {
      "text/markdown": [
       "[Vot 16207](http://www.cdep.ro/pls/steno/evot2015.nominal?idv=16207): scor -0.051  "
      ],
      "text/plain": [
       "<IPython.core.display.Markdown object>"
      ]
     },
     "metadata": {},
     "output_type": "display_data"
    },
    {
     "data": {
      "text/markdown": [
       "[Vot 22664](http://www.cdep.ro/pls/steno/evot2015.nominal?idv=22664): scor -0.051  "
      ],
      "text/plain": [
       "<IPython.core.display.Markdown object>"
      ]
     },
     "metadata": {},
     "output_type": "display_data"
    },
    {
     "data": {
      "text/markdown": [
       "[Vot 18889](http://www.cdep.ro/pls/steno/evot2015.nominal?idv=18889): scor -0.052  "
      ],
      "text/plain": [
       "<IPython.core.display.Markdown object>"
      ]
     },
     "metadata": {},
     "output_type": "display_data"
    },
    {
     "data": {
      "text/markdown": [
       "[Vot 17250](http://www.cdep.ro/pls/steno/evot2015.nominal?idv=17250): scor -0.052  "
      ],
      "text/plain": [
       "<IPython.core.display.Markdown object>"
      ]
     },
     "metadata": {},
     "output_type": "display_data"
    },
    {
     "data": {
      "text/markdown": [
       "[Vot 16196](http://www.cdep.ro/pls/steno/evot2015.nominal?idv=16196): scor -0.052  "
      ],
      "text/plain": [
       "<IPython.core.display.Markdown object>"
      ]
     },
     "metadata": {},
     "output_type": "display_data"
    },
    {
     "data": {
      "text/markdown": [
       "[Vot 16504](http://www.cdep.ro/pls/steno/evot2015.nominal?idv=16504): scor -0.054  "
      ],
      "text/plain": [
       "<IPython.core.display.Markdown object>"
      ]
     },
     "metadata": {},
     "output_type": "display_data"
    },
    {
     "data": {
      "text/markdown": [
       "[Vot 16502](http://www.cdep.ro/pls/steno/evot2015.nominal?idv=16502): scor -0.054  "
      ],
      "text/plain": [
       "<IPython.core.display.Markdown object>"
      ]
     },
     "metadata": {},
     "output_type": "display_data"
    },
    {
     "data": {
      "text/markdown": [
       "[Vot 16501](http://www.cdep.ro/pls/steno/evot2015.nominal?idv=16501): scor -0.055  "
      ],
      "text/plain": [
       "<IPython.core.display.Markdown object>"
      ]
     },
     "metadata": {},
     "output_type": "display_data"
    },
    {
     "data": {
      "text/markdown": [
       "[Vot 18872](http://www.cdep.ro/pls/steno/evot2015.nominal?idv=18872): scor -0.055  "
      ],
      "text/plain": [
       "<IPython.core.display.Markdown object>"
      ]
     },
     "metadata": {},
     "output_type": "display_data"
    },
    {
     "data": {
      "text/markdown": [
       "[Vot 16503](http://www.cdep.ro/pls/steno/evot2015.nominal?idv=16503): scor -0.055  "
      ],
      "text/plain": [
       "<IPython.core.display.Markdown object>"
      ]
     },
     "metadata": {},
     "output_type": "display_data"
    },
    {
     "data": {
      "text/markdown": [
       "[Vot 19314](http://www.cdep.ro/pls/steno/evot2015.nominal?idv=19314): scor -0.056  "
      ],
      "text/plain": [
       "<IPython.core.display.Markdown object>"
      ]
     },
     "metadata": {},
     "output_type": "display_data"
    },
    {
     "data": {
      "text/markdown": [
       "[Vot 16203](http://www.cdep.ro/pls/steno/evot2015.nominal?idv=16203): scor -0.056  "
      ],
      "text/plain": [
       "<IPython.core.display.Markdown object>"
      ]
     },
     "metadata": {},
     "output_type": "display_data"
    },
    {
     "data": {
      "text/markdown": [
       "[Vot 16506](http://www.cdep.ro/pls/steno/evot2015.nominal?idv=16506): scor -0.057  "
      ],
      "text/plain": [
       "<IPython.core.display.Markdown object>"
      ]
     },
     "metadata": {},
     "output_type": "display_data"
    },
    {
     "data": {
      "text/markdown": [
       "[Vot 16495](http://www.cdep.ro/pls/steno/evot2015.nominal?idv=16495): scor -0.058  "
      ],
      "text/plain": [
       "<IPython.core.display.Markdown object>"
      ]
     },
     "metadata": {},
     "output_type": "display_data"
    },
    {
     "data": {
      "text/markdown": [
       "[Vot 16215](http://www.cdep.ro/pls/steno/evot2015.nominal?idv=16215): scor -0.058  "
      ],
      "text/plain": [
       "<IPython.core.display.Markdown object>"
      ]
     },
     "metadata": {},
     "output_type": "display_data"
    },
    {
     "data": {
      "text/markdown": [
       "[Vot 16493](http://www.cdep.ro/pls/steno/evot2015.nominal?idv=16493): scor -0.058  "
      ],
      "text/plain": [
       "<IPython.core.display.Markdown object>"
      ]
     },
     "metadata": {},
     "output_type": "display_data"
    },
    {
     "data": {
      "text/markdown": [
       "[Vot 19310](http://www.cdep.ro/pls/steno/evot2015.nominal?idv=19310): scor -0.059  "
      ],
      "text/plain": [
       "<IPython.core.display.Markdown object>"
      ]
     },
     "metadata": {},
     "output_type": "display_data"
    },
    {
     "data": {
      "text/markdown": [
       "[Vot 19309](http://www.cdep.ro/pls/steno/evot2015.nominal?idv=19309): scor -0.059  "
      ],
      "text/plain": [
       "<IPython.core.display.Markdown object>"
      ]
     },
     "metadata": {},
     "output_type": "display_data"
    },
    {
     "data": {
      "text/markdown": [
       "[Vot 16224](http://www.cdep.ro/pls/steno/evot2015.nominal?idv=16224): scor -0.059  "
      ],
      "text/plain": [
       "<IPython.core.display.Markdown object>"
      ]
     },
     "metadata": {},
     "output_type": "display_data"
    },
    {
     "data": {
      "text/markdown": [
       "[Vot 19325](http://www.cdep.ro/pls/steno/evot2015.nominal?idv=19325): scor -0.059  "
      ],
      "text/plain": [
       "<IPython.core.display.Markdown object>"
      ]
     },
     "metadata": {},
     "output_type": "display_data"
    },
    {
     "data": {
      "text/markdown": [
       "[Vot 20828](http://www.cdep.ro/pls/steno/evot2015.nominal?idv=20828): scor -0.060  "
      ],
      "text/plain": [
       "<IPython.core.display.Markdown object>"
      ]
     },
     "metadata": {},
     "output_type": "display_data"
    },
    {
     "data": {
      "text/markdown": [
       "[Vot 18833](http://www.cdep.ro/pls/steno/evot2015.nominal?idv=18833): scor -0.060  "
      ],
      "text/plain": [
       "<IPython.core.display.Markdown object>"
      ]
     },
     "metadata": {},
     "output_type": "display_data"
    },
    {
     "data": {
      "text/markdown": [
       "[Vot 16211](http://www.cdep.ro/pls/steno/evot2015.nominal?idv=16211): scor -0.060  "
      ],
      "text/plain": [
       "<IPython.core.display.Markdown object>"
      ]
     },
     "metadata": {},
     "output_type": "display_data"
    },
    {
     "data": {
      "text/markdown": [
       "[Vot 19280](http://www.cdep.ro/pls/steno/evot2015.nominal?idv=19280): scor -0.060  "
      ],
      "text/plain": [
       "<IPython.core.display.Markdown object>"
      ]
     },
     "metadata": {},
     "output_type": "display_data"
    },
    {
     "data": {
      "text/markdown": [
       "[Vot 16195](http://www.cdep.ro/pls/steno/evot2015.nominal?idv=16195): scor -0.060  "
      ],
      "text/plain": [
       "<IPython.core.display.Markdown object>"
      ]
     },
     "metadata": {},
     "output_type": "display_data"
    },
    {
     "data": {
      "text/markdown": [
       "[Vot 17451](http://www.cdep.ro/pls/steno/evot2015.nominal?idv=17451): scor -0.061  "
      ],
      "text/plain": [
       "<IPython.core.display.Markdown object>"
      ]
     },
     "metadata": {},
     "output_type": "display_data"
    },
    {
     "data": {
      "text/markdown": [
       "[Vot 16199](http://www.cdep.ro/pls/steno/evot2015.nominal?idv=16199): scor -0.062  "
      ],
      "text/plain": [
       "<IPython.core.display.Markdown object>"
      ]
     },
     "metadata": {},
     "output_type": "display_data"
    },
    {
     "data": {
      "text/markdown": [
       "[Vot 16220](http://www.cdep.ro/pls/steno/evot2015.nominal?idv=16220): scor -0.062  "
      ],
      "text/plain": [
       "<IPython.core.display.Markdown object>"
      ]
     },
     "metadata": {},
     "output_type": "display_data"
    },
    {
     "data": {
      "text/markdown": [
       "[Vot 17253](http://www.cdep.ro/pls/steno/evot2015.nominal?idv=17253): scor -0.062  "
      ],
      "text/plain": [
       "<IPython.core.display.Markdown object>"
      ]
     },
     "metadata": {},
     "output_type": "display_data"
    },
    {
     "data": {
      "text/markdown": [
       "[Vot 19313](http://www.cdep.ro/pls/steno/evot2015.nominal?idv=19313): scor -0.062  "
      ],
      "text/plain": [
       "<IPython.core.display.Markdown object>"
      ]
     },
     "metadata": {},
     "output_type": "display_data"
    },
    {
     "data": {
      "text/markdown": [
       "[Vot 19266](http://www.cdep.ro/pls/steno/evot2015.nominal?idv=19266): scor -0.062  "
      ],
      "text/plain": [
       "<IPython.core.display.Markdown object>"
      ]
     },
     "metadata": {},
     "output_type": "display_data"
    },
    {
     "data": {
      "text/markdown": [
       "[Vot 17442](http://www.cdep.ro/pls/steno/evot2015.nominal?idv=17442): scor -0.063  "
      ],
      "text/plain": [
       "<IPython.core.display.Markdown object>"
      ]
     },
     "metadata": {},
     "output_type": "display_data"
    },
    {
     "data": {
      "text/markdown": [
       "[Vot 17236](http://www.cdep.ro/pls/steno/evot2015.nominal?idv=17236): scor -0.063  "
      ],
      "text/plain": [
       "<IPython.core.display.Markdown object>"
      ]
     },
     "metadata": {},
     "output_type": "display_data"
    },
    {
     "data": {
      "text/markdown": [
       "[Vot 18870](http://www.cdep.ro/pls/steno/evot2015.nominal?idv=18870): scor -0.063  "
      ],
      "text/plain": [
       "<IPython.core.display.Markdown object>"
      ]
     },
     "metadata": {},
     "output_type": "display_data"
    },
    {
     "data": {
      "text/markdown": [
       "[Vot 16219](http://www.cdep.ro/pls/steno/evot2015.nominal?idv=16219): scor -0.063  "
      ],
      "text/plain": [
       "<IPython.core.display.Markdown object>"
      ]
     },
     "metadata": {},
     "output_type": "display_data"
    },
    {
     "data": {
      "text/markdown": [
       "[Vot 17244](http://www.cdep.ro/pls/steno/evot2015.nominal?idv=17244): scor -0.063  "
      ],
      "text/plain": [
       "<IPython.core.display.Markdown object>"
      ]
     },
     "metadata": {},
     "output_type": "display_data"
    },
    {
     "data": {
      "text/markdown": [
       "[Vot 18830](http://www.cdep.ro/pls/steno/evot2015.nominal?idv=18830): scor -0.063  "
      ],
      "text/plain": [
       "<IPython.core.display.Markdown object>"
      ]
     },
     "metadata": {},
     "output_type": "display_data"
    },
    {
     "data": {
      "text/markdown": [
       "[Vot 18835](http://www.cdep.ro/pls/steno/evot2015.nominal?idv=18835): scor -0.063  "
      ],
      "text/plain": [
       "<IPython.core.display.Markdown object>"
      ]
     },
     "metadata": {},
     "output_type": "display_data"
    },
    {
     "data": {
      "text/markdown": [
       "[Vot 16210](http://www.cdep.ro/pls/steno/evot2015.nominal?idv=16210): scor -0.063  "
      ],
      "text/plain": [
       "<IPython.core.display.Markdown object>"
      ]
     },
     "metadata": {},
     "output_type": "display_data"
    },
    {
     "data": {
      "text/markdown": [
       "[Vot 20655](http://www.cdep.ro/pls/steno/evot2015.nominal?idv=20655): scor -0.064  "
      ],
      "text/plain": [
       "<IPython.core.display.Markdown object>"
      ]
     },
     "metadata": {},
     "output_type": "display_data"
    },
    {
     "data": {
      "text/markdown": [
       "[Vot 19330](http://www.cdep.ro/pls/steno/evot2015.nominal?idv=19330): scor -0.064  "
      ],
      "text/plain": [
       "<IPython.core.display.Markdown object>"
      ]
     },
     "metadata": {},
     "output_type": "display_data"
    },
    {
     "data": {
      "text/markdown": [
       "[Vot 20815](http://www.cdep.ro/pls/steno/evot2015.nominal?idv=20815): scor -0.064  "
      ],
      "text/plain": [
       "<IPython.core.display.Markdown object>"
      ]
     },
     "metadata": {},
     "output_type": "display_data"
    },
    {
     "data": {
      "text/markdown": [
       "[Vot 18781](http://www.cdep.ro/pls/steno/evot2015.nominal?idv=18781): scor -0.064  "
      ],
      "text/plain": [
       "<IPython.core.display.Markdown object>"
      ]
     },
     "metadata": {},
     "output_type": "display_data"
    },
    {
     "data": {
      "text/markdown": [
       "[Vot 20654](http://www.cdep.ro/pls/steno/evot2015.nominal?idv=20654): scor -0.064  "
      ],
      "text/plain": [
       "<IPython.core.display.Markdown object>"
      ]
     },
     "metadata": {},
     "output_type": "display_data"
    },
    {
     "data": {
      "text/markdown": [
       "[Vot 17285](http://www.cdep.ro/pls/steno/evot2015.nominal?idv=17285): scor -0.065  "
      ],
      "text/plain": [
       "<IPython.core.display.Markdown object>"
      ]
     },
     "metadata": {},
     "output_type": "display_data"
    },
    {
     "data": {
      "text/markdown": [
       "[Vot 17284](http://www.cdep.ro/pls/steno/evot2015.nominal?idv=17284): scor -0.065  "
      ],
      "text/plain": [
       "<IPython.core.display.Markdown object>"
      ]
     },
     "metadata": {},
     "output_type": "display_data"
    },
    {
     "data": {
      "text/markdown": [
       "[Vot 18785](http://www.cdep.ro/pls/steno/evot2015.nominal?idv=18785): scor -0.065  "
      ],
      "text/plain": [
       "<IPython.core.display.Markdown object>"
      ]
     },
     "metadata": {},
     "output_type": "display_data"
    },
    {
     "data": {
      "text/markdown": [
       "[Vot 17441](http://www.cdep.ro/pls/steno/evot2015.nominal?idv=17441): scor -0.065  "
      ],
      "text/plain": [
       "<IPython.core.display.Markdown object>"
      ]
     },
     "metadata": {},
     "output_type": "display_data"
    },
    {
     "data": {
      "text/markdown": [
       "[Vot 19262](http://www.cdep.ro/pls/steno/evot2015.nominal?idv=19262): scor -0.065  "
      ],
      "text/plain": [
       "<IPython.core.display.Markdown object>"
      ]
     },
     "metadata": {},
     "output_type": "display_data"
    },
    {
     "data": {
      "text/markdown": [
       "[Vot 22729](http://www.cdep.ro/pls/steno/evot2015.nominal?idv=22729): scor -0.065  "
      ],
      "text/plain": [
       "<IPython.core.display.Markdown object>"
      ]
     },
     "metadata": {},
     "output_type": "display_data"
    },
    {
     "data": {
      "text/markdown": [
       "[Vot 18873](http://www.cdep.ro/pls/steno/evot2015.nominal?idv=18873): scor -0.066  "
      ],
      "text/plain": [
       "<IPython.core.display.Markdown object>"
      ]
     },
     "metadata": {},
     "output_type": "display_data"
    },
    {
     "data": {
      "text/markdown": [
       "[Vot 18788](http://www.cdep.ro/pls/steno/evot2015.nominal?idv=18788): scor -0.066  "
      ],
      "text/plain": [
       "<IPython.core.display.Markdown object>"
      ]
     },
     "metadata": {},
     "output_type": "display_data"
    },
    {
     "data": {
      "text/markdown": [
       "[Vot 20527](http://www.cdep.ro/pls/steno/evot2015.nominal?idv=20527): scor -0.066  "
      ],
      "text/plain": [
       "<IPython.core.display.Markdown object>"
      ]
     },
     "metadata": {},
     "output_type": "display_data"
    },
    {
     "data": {
      "text/markdown": [
       "[Vot 20812](http://www.cdep.ro/pls/steno/evot2015.nominal?idv=20812): scor -0.066  "
      ],
      "text/plain": [
       "<IPython.core.display.Markdown object>"
      ]
     },
     "metadata": {},
     "output_type": "display_data"
    },
    {
     "data": {
      "text/markdown": [
       "[Vot 20651](http://www.cdep.ro/pls/steno/evot2015.nominal?idv=20651): scor -0.066  "
      ],
      "text/plain": [
       "<IPython.core.display.Markdown object>"
      ]
     },
     "metadata": {},
     "output_type": "display_data"
    },
    {
     "data": {
      "text/markdown": [
       "[Vot 16213](http://www.cdep.ro/pls/steno/evot2015.nominal?idv=16213): scor -0.067  "
      ],
      "text/plain": [
       "<IPython.core.display.Markdown object>"
      ]
     },
     "metadata": {},
     "output_type": "display_data"
    },
    {
     "data": {
      "text/markdown": [
       "[Vot 19274](http://www.cdep.ro/pls/steno/evot2015.nominal?idv=19274): scor -0.067  "
      ],
      "text/plain": [
       "<IPython.core.display.Markdown object>"
      ]
     },
     "metadata": {},
     "output_type": "display_data"
    },
    {
     "data": {
      "text/markdown": [
       "[Vot 18789](http://www.cdep.ro/pls/steno/evot2015.nominal?idv=18789): scor -0.067  "
      ],
      "text/plain": [
       "<IPython.core.display.Markdown object>"
      ]
     },
     "metadata": {},
     "output_type": "display_data"
    },
    {
     "data": {
      "text/markdown": [
       "[Vot 16204](http://www.cdep.ro/pls/steno/evot2015.nominal?idv=16204): scor -0.068  "
      ],
      "text/plain": [
       "<IPython.core.display.Markdown object>"
      ]
     },
     "metadata": {},
     "output_type": "display_data"
    },
    {
     "data": {
      "text/markdown": [
       "[Vot 18875](http://www.cdep.ro/pls/steno/evot2015.nominal?idv=18875): scor -0.068  "
      ],
      "text/plain": [
       "<IPython.core.display.Markdown object>"
      ]
     },
     "metadata": {},
     "output_type": "display_data"
    },
    {
     "data": {
      "text/markdown": [
       "[Vot 19275](http://www.cdep.ro/pls/steno/evot2015.nominal?idv=19275): scor -0.068  "
      ],
      "text/plain": [
       "<IPython.core.display.Markdown object>"
      ]
     },
     "metadata": {},
     "output_type": "display_data"
    },
    {
     "data": {
      "text/markdown": [
       "[Vot 22532](http://www.cdep.ro/pls/steno/evot2015.nominal?idv=22532): scor -0.068  "
      ],
      "text/plain": [
       "<IPython.core.display.Markdown object>"
      ]
     },
     "metadata": {},
     "output_type": "display_data"
    },
    {
     "data": {
      "text/markdown": [
       "[Vot 20522](http://www.cdep.ro/pls/steno/evot2015.nominal?idv=20522): scor -0.068  "
      ],
      "text/plain": [
       "<IPython.core.display.Markdown object>"
      ]
     },
     "metadata": {},
     "output_type": "display_data"
    },
    {
     "data": {
      "text/markdown": [
       "[Vot 17259](http://www.cdep.ro/pls/steno/evot2015.nominal?idv=17259): scor -0.068  "
      ],
      "text/plain": [
       "<IPython.core.display.Markdown object>"
      ]
     },
     "metadata": {},
     "output_type": "display_data"
    },
    {
     "data": {
      "text/markdown": [
       "[Vot 20826](http://www.cdep.ro/pls/steno/evot2015.nominal?idv=20826): scor -0.069  "
      ],
      "text/plain": [
       "<IPython.core.display.Markdown object>"
      ]
     },
     "metadata": {},
     "output_type": "display_data"
    },
    {
     "data": {
      "text/markdown": [
       "[Vot 17444](http://www.cdep.ro/pls/steno/evot2015.nominal?idv=17444): scor -0.069  "
      ],
      "text/plain": [
       "<IPython.core.display.Markdown object>"
      ]
     },
     "metadata": {},
     "output_type": "display_data"
    },
    {
     "data": {
      "text/markdown": [
       "[Vot 18892](http://www.cdep.ro/pls/steno/evot2015.nominal?idv=18892): scor -0.069  "
      ],
      "text/plain": [
       "<IPython.core.display.Markdown object>"
      ]
     },
     "metadata": {},
     "output_type": "display_data"
    },
    {
     "data": {
      "text/markdown": [
       "[Vot 20660](http://www.cdep.ro/pls/steno/evot2015.nominal?idv=20660): scor -0.069  "
      ],
      "text/plain": [
       "<IPython.core.display.Markdown object>"
      ]
     },
     "metadata": {},
     "output_type": "display_data"
    },
    {
     "data": {
      "text/markdown": [
       "[Vot 20600](http://www.cdep.ro/pls/steno/evot2015.nominal?idv=20600): scor -0.069  "
      ],
      "text/plain": [
       "<IPython.core.display.Markdown object>"
      ]
     },
     "metadata": {},
     "output_type": "display_data"
    },
    {
     "data": {
      "text/markdown": [
       "[Vot 18882](http://www.cdep.ro/pls/steno/evot2015.nominal?idv=18882): scor -0.069  "
      ],
      "text/plain": [
       "<IPython.core.display.Markdown object>"
      ]
     },
     "metadata": {},
     "output_type": "display_data"
    },
    {
     "data": {
      "text/markdown": [
       "[Vot 19276](http://www.cdep.ro/pls/steno/evot2015.nominal?idv=19276): scor -0.069  "
      ],
      "text/plain": [
       "<IPython.core.display.Markdown object>"
      ]
     },
     "metadata": {},
     "output_type": "display_data"
    },
    {
     "data": {
      "text/markdown": [
       "[Vot 16233](http://www.cdep.ro/pls/steno/evot2015.nominal?idv=16233): scor -0.069  "
      ],
      "text/plain": [
       "<IPython.core.display.Markdown object>"
      ]
     },
     "metadata": {},
     "output_type": "display_data"
    },
    {
     "data": {
      "text/markdown": [
       "[Vot 17304](http://www.cdep.ro/pls/steno/evot2015.nominal?idv=17304): scor -0.069  "
      ],
      "text/plain": [
       "<IPython.core.display.Markdown object>"
      ]
     },
     "metadata": {},
     "output_type": "display_data"
    },
    {
     "data": {
      "text/markdown": [
       "[Vot 18891](http://www.cdep.ro/pls/steno/evot2015.nominal?idv=18891): scor -0.070  "
      ],
      "text/plain": [
       "<IPython.core.display.Markdown object>"
      ]
     },
     "metadata": {},
     "output_type": "display_data"
    },
    {
     "data": {
      "text/markdown": [
       "[Vot 18780](http://www.cdep.ro/pls/steno/evot2015.nominal?idv=18780): scor -0.071  "
      ],
      "text/plain": [
       "<IPython.core.display.Markdown object>"
      ]
     },
     "metadata": {},
     "output_type": "display_data"
    },
    {
     "data": {
      "text/markdown": [
       "[Vot 16225](http://www.cdep.ro/pls/steno/evot2015.nominal?idv=16225): scor -0.071  "
      ],
      "text/plain": [
       "<IPython.core.display.Markdown object>"
      ]
     },
     "metadata": {},
     "output_type": "display_data"
    },
    {
     "data": {
      "text/markdown": [
       "[Vot 19263](http://www.cdep.ro/pls/steno/evot2015.nominal?idv=19263): scor -0.071  "
      ],
      "text/plain": [
       "<IPython.core.display.Markdown object>"
      ]
     },
     "metadata": {},
     "output_type": "display_data"
    },
    {
     "data": {
      "text/markdown": [
       "[Vot 16299](http://www.cdep.ro/pls/steno/evot2015.nominal?idv=16299): scor -0.071  "
      ],
      "text/plain": [
       "<IPython.core.display.Markdown object>"
      ]
     },
     "metadata": {},
     "output_type": "display_data"
    },
    {
     "data": {
      "text/markdown": [
       "[Vot 20822](http://www.cdep.ro/pls/steno/evot2015.nominal?idv=20822): scor -0.071  "
      ],
      "text/plain": [
       "<IPython.core.display.Markdown object>"
      ]
     },
     "metadata": {},
     "output_type": "display_data"
    },
    {
     "data": {
      "text/markdown": [
       "[Vot 18877](http://www.cdep.ro/pls/steno/evot2015.nominal?idv=18877): scor -0.072  "
      ],
      "text/plain": [
       "<IPython.core.display.Markdown object>"
      ]
     },
     "metadata": {},
     "output_type": "display_data"
    },
    {
     "data": {
      "text/markdown": [
       "[Vot 22731](http://www.cdep.ro/pls/steno/evot2015.nominal?idv=22731): scor -0.072  "
      ],
      "text/plain": [
       "<IPython.core.display.Markdown object>"
      ]
     },
     "metadata": {},
     "output_type": "display_data"
    },
    {
     "data": {
      "text/markdown": [
       "[Vot 16281](http://www.cdep.ro/pls/steno/evot2015.nominal?idv=16281): scor -0.072  "
      ],
      "text/plain": [
       "<IPython.core.display.Markdown object>"
      ]
     },
     "metadata": {},
     "output_type": "display_data"
    },
    {
     "data": {
      "text/markdown": [
       "[Vot 22668](http://www.cdep.ro/pls/steno/evot2015.nominal?idv=22668): scor -0.072  "
      ],
      "text/plain": [
       "<IPython.core.display.Markdown object>"
      ]
     },
     "metadata": {},
     "output_type": "display_data"
    },
    {
     "data": {
      "text/markdown": [
       "[Vot 16802](http://www.cdep.ro/pls/steno/evot2015.nominal?idv=16802): scor -0.073  "
      ],
      "text/plain": [
       "<IPython.core.display.Markdown object>"
      ]
     },
     "metadata": {},
     "output_type": "display_data"
    },
    {
     "data": {
      "text/markdown": [
       "[Vot 19278](http://www.cdep.ro/pls/steno/evot2015.nominal?idv=19278): scor -0.073  "
      ],
      "text/plain": [
       "<IPython.core.display.Markdown object>"
      ]
     },
     "metadata": {},
     "output_type": "display_data"
    },
    {
     "data": {
      "text/markdown": [
       "[Vot 18839](http://www.cdep.ro/pls/steno/evot2015.nominal?idv=18839): scor -0.073  "
      ],
      "text/plain": [
       "<IPython.core.display.Markdown object>"
      ]
     },
     "metadata": {},
     "output_type": "display_data"
    },
    {
     "data": {
      "text/markdown": [
       "[Vot 18834](http://www.cdep.ro/pls/steno/evot2015.nominal?idv=18834): scor -0.073  "
      ],
      "text/plain": [
       "<IPython.core.display.Markdown object>"
      ]
     },
     "metadata": {},
     "output_type": "display_data"
    },
    {
     "data": {
      "text/markdown": [
       "[Vot 17302](http://www.cdep.ro/pls/steno/evot2015.nominal?idv=17302): scor -0.073  "
      ],
      "text/plain": [
       "<IPython.core.display.Markdown object>"
      ]
     },
     "metadata": {},
     "output_type": "display_data"
    },
    {
     "data": {
      "text/markdown": [
       "[Vot 19261](http://www.cdep.ro/pls/steno/evot2015.nominal?idv=19261): scor -0.073  "
      ],
      "text/plain": [
       "<IPython.core.display.Markdown object>"
      ]
     },
     "metadata": {},
     "output_type": "display_data"
    },
    {
     "data": {
      "text/markdown": [
       "[Vot 20523](http://www.cdep.ro/pls/steno/evot2015.nominal?idv=20523): scor -0.073  "
      ],
      "text/plain": [
       "<IPython.core.display.Markdown object>"
      ]
     },
     "metadata": {},
     "output_type": "display_data"
    },
    {
     "data": {
      "text/markdown": [
       "[Vot 17300](http://www.cdep.ro/pls/steno/evot2015.nominal?idv=17300): scor -0.074  "
      ],
      "text/plain": [
       "<IPython.core.display.Markdown object>"
      ]
     },
     "metadata": {},
     "output_type": "display_data"
    },
    {
     "data": {
      "text/markdown": [
       "[Vot 19312](http://www.cdep.ro/pls/steno/evot2015.nominal?idv=19312): scor -0.074  "
      ],
      "text/plain": [
       "<IPython.core.display.Markdown object>"
      ]
     },
     "metadata": {},
     "output_type": "display_data"
    },
    {
     "data": {
      "text/markdown": [
       "[Vot 16212](http://www.cdep.ro/pls/steno/evot2015.nominal?idv=16212): scor -0.074  "
      ],
      "text/plain": [
       "<IPython.core.display.Markdown object>"
      ]
     },
     "metadata": {},
     "output_type": "display_data"
    },
    {
     "data": {
      "text/markdown": [
       "[Vot 22737](http://www.cdep.ro/pls/steno/evot2015.nominal?idv=22737): scor -0.074  "
      ],
      "text/plain": [
       "<IPython.core.display.Markdown object>"
      ]
     },
     "metadata": {},
     "output_type": "display_data"
    },
    {
     "data": {
      "text/markdown": [
       "[Vot 18793](http://www.cdep.ro/pls/steno/evot2015.nominal?idv=18793): scor -0.074  "
      ],
      "text/plain": [
       "<IPython.core.display.Markdown object>"
      ]
     },
     "metadata": {},
     "output_type": "display_data"
    },
    {
     "data": {
      "text/markdown": [
       "[Vot 16852](http://www.cdep.ro/pls/steno/evot2015.nominal?idv=16852): scor -0.075  "
      ],
      "text/plain": [
       "<IPython.core.display.Markdown object>"
      ]
     },
     "metadata": {},
     "output_type": "display_data"
    },
    {
     "data": {
      "text/markdown": [
       "[Vot 17305](http://www.cdep.ro/pls/steno/evot2015.nominal?idv=17305): scor -0.075  "
      ],
      "text/plain": [
       "<IPython.core.display.Markdown object>"
      ]
     },
     "metadata": {},
     "output_type": "display_data"
    },
    {
     "data": {
      "text/markdown": [
       "[Vot 19269](http://www.cdep.ro/pls/steno/evot2015.nominal?idv=19269): scor -0.075  "
      ],
      "text/plain": [
       "<IPython.core.display.Markdown object>"
      ]
     },
     "metadata": {},
     "output_type": "display_data"
    },
    {
     "data": {
      "text/markdown": [
       "[Vot 17306](http://www.cdep.ro/pls/steno/evot2015.nominal?idv=17306): scor -0.075  "
      ],
      "text/plain": [
       "<IPython.core.display.Markdown object>"
      ]
     },
     "metadata": {},
     "output_type": "display_data"
    },
    {
     "data": {
      "text/markdown": [
       "[Vot 18869](http://www.cdep.ro/pls/steno/evot2015.nominal?idv=18869): scor -0.075  "
      ],
      "text/plain": [
       "<IPython.core.display.Markdown object>"
      ]
     },
     "metadata": {},
     "output_type": "display_data"
    },
    {
     "data": {
      "text/markdown": [
       "[Vot 18888](http://www.cdep.ro/pls/steno/evot2015.nominal?idv=18888): scor -0.075  "
      ],
      "text/plain": [
       "<IPython.core.display.Markdown object>"
      ]
     },
     "metadata": {},
     "output_type": "display_data"
    },
    {
     "data": {
      "text/markdown": [
       "[Vot 19329](http://www.cdep.ro/pls/steno/evot2015.nominal?idv=19329): scor -0.075  "
      ],
      "text/plain": [
       "<IPython.core.display.Markdown object>"
      ]
     },
     "metadata": {},
     "output_type": "display_data"
    },
    {
     "data": {
      "text/markdown": [
       "[Vot 17237](http://www.cdep.ro/pls/steno/evot2015.nominal?idv=17237): scor -0.075  "
      ],
      "text/plain": [
       "<IPython.core.display.Markdown object>"
      ]
     },
     "metadata": {},
     "output_type": "display_data"
    },
    {
     "data": {
      "text/markdown": [
       "[Vot 22536](http://www.cdep.ro/pls/steno/evot2015.nominal?idv=22536): scor -0.075  "
      ],
      "text/plain": [
       "<IPython.core.display.Markdown object>"
      ]
     },
     "metadata": {},
     "output_type": "display_data"
    },
    {
     "data": {
      "text/markdown": [
       "[Vot 20090](http://www.cdep.ro/pls/steno/evot2015.nominal?idv=20090): scor -0.075  "
      ],
      "text/plain": [
       "<IPython.core.display.Markdown object>"
      ]
     },
     "metadata": {},
     "output_type": "display_data"
    },
    {
     "data": {
      "text/markdown": [
       "[Vot 20596](http://www.cdep.ro/pls/steno/evot2015.nominal?idv=20596): scor -0.076  "
      ],
      "text/plain": [
       "<IPython.core.display.Markdown object>"
      ]
     },
     "metadata": {},
     "output_type": "display_data"
    },
    {
     "data": {
      "text/markdown": [
       "[Vot 18784](http://www.cdep.ro/pls/steno/evot2015.nominal?idv=18784): scor -0.076  "
      ],
      "text/plain": [
       "<IPython.core.display.Markdown object>"
      ]
     },
     "metadata": {},
     "output_type": "display_data"
    },
    {
     "data": {
      "text/markdown": [
       "[Vot 18838](http://www.cdep.ro/pls/steno/evot2015.nominal?idv=18838): scor -0.076  "
      ],
      "text/plain": [
       "<IPython.core.display.Markdown object>"
      ]
     },
     "metadata": {},
     "output_type": "display_data"
    },
    {
     "data": {
      "text/markdown": [
       "[Vot 18783](http://www.cdep.ro/pls/steno/evot2015.nominal?idv=18783): scor -0.076  "
      ],
      "text/plain": [
       "<IPython.core.display.Markdown object>"
      ]
     },
     "metadata": {},
     "output_type": "display_data"
    },
    {
     "data": {
      "text/markdown": [
       "[Vot 17438](http://www.cdep.ro/pls/steno/evot2015.nominal?idv=17438): scor -0.076  "
      ],
      "text/plain": [
       "<IPython.core.display.Markdown object>"
      ]
     },
     "metadata": {},
     "output_type": "display_data"
    },
    {
     "data": {
      "text/markdown": [
       "[Vot 22735](http://www.cdep.ro/pls/steno/evot2015.nominal?idv=22735): scor -0.077  "
      ],
      "text/plain": [
       "<IPython.core.display.Markdown object>"
      ]
     },
     "metadata": {},
     "output_type": "display_data"
    },
    {
     "data": {
      "text/markdown": [
       "[Vot 22734](http://www.cdep.ro/pls/steno/evot2015.nominal?idv=22734): scor -0.077  "
      ],
      "text/plain": [
       "<IPython.core.display.Markdown object>"
      ]
     },
     "metadata": {},
     "output_type": "display_data"
    },
    {
     "data": {
      "text/markdown": [
       "[Vot 17286](http://www.cdep.ro/pls/steno/evot2015.nominal?idv=17286): scor -0.077  "
      ],
      "text/plain": [
       "<IPython.core.display.Markdown object>"
      ]
     },
     "metadata": {},
     "output_type": "display_data"
    },
    {
     "data": {
      "text/markdown": [
       "[Vot 19315](http://www.cdep.ro/pls/steno/evot2015.nominal?idv=19315): scor -0.077  "
      ],
      "text/plain": [
       "<IPython.core.display.Markdown object>"
      ]
     },
     "metadata": {},
     "output_type": "display_data"
    },
    {
     "data": {
      "text/markdown": [
       "[Vot 20526](http://www.cdep.ro/pls/steno/evot2015.nominal?idv=20526): scor -0.077  "
      ],
      "text/plain": [
       "<IPython.core.display.Markdown object>"
      ]
     },
     "metadata": {},
     "output_type": "display_data"
    },
    {
     "data": {
      "text/markdown": [
       "[Vot 16960](http://www.cdep.ro/pls/steno/evot2015.nominal?idv=16960): scor -0.077  "
      ],
      "text/plain": [
       "<IPython.core.display.Markdown object>"
      ]
     },
     "metadata": {},
     "output_type": "display_data"
    },
    {
     "data": {
      "text/markdown": [
       "[Vot 17282](http://www.cdep.ro/pls/steno/evot2015.nominal?idv=17282): scor -0.077  "
      ],
      "text/plain": [
       "<IPython.core.display.Markdown object>"
      ]
     },
     "metadata": {},
     "output_type": "display_data"
    },
    {
     "data": {
      "text/markdown": [
       "[Vot 16500](http://www.cdep.ro/pls/steno/evot2015.nominal?idv=16500): scor -0.077  "
      ],
      "text/plain": [
       "<IPython.core.display.Markdown object>"
      ]
     },
     "metadata": {},
     "output_type": "display_data"
    },
    {
     "data": {
      "text/markdown": [
       "[Vot 17412](http://www.cdep.ro/pls/steno/evot2015.nominal?idv=17412): scor -0.078  "
      ],
      "text/plain": [
       "<IPython.core.display.Markdown object>"
      ]
     },
     "metadata": {},
     "output_type": "display_data"
    },
    {
     "data": {
      "text/markdown": [
       "[Vot 20646](http://www.cdep.ro/pls/steno/evot2015.nominal?idv=20646): scor -0.078  "
      ],
      "text/plain": [
       "<IPython.core.display.Markdown object>"
      ]
     },
     "metadata": {},
     "output_type": "display_data"
    },
    {
     "data": {
      "text/markdown": [
       "[Vot 19283](http://www.cdep.ro/pls/steno/evot2015.nominal?idv=19283): scor -0.078  "
      ],
      "text/plain": [
       "<IPython.core.display.Markdown object>"
      ]
     },
     "metadata": {},
     "output_type": "display_data"
    },
    {
     "data": {
      "text/markdown": [
       "[Vot 17017](http://www.cdep.ro/pls/steno/evot2015.nominal?idv=17017): scor -0.078  "
      ],
      "text/plain": [
       "<IPython.core.display.Markdown object>"
      ]
     },
     "metadata": {},
     "output_type": "display_data"
    },
    {
     "data": {
      "text/markdown": [
       "[Vot 17414](http://www.cdep.ro/pls/steno/evot2015.nominal?idv=17414): scor -0.078  "
      ],
      "text/plain": [
       "<IPython.core.display.Markdown object>"
      ]
     },
     "metadata": {},
     "output_type": "display_data"
    },
    {
     "data": {
      "text/markdown": [
       "[Vot 17261](http://www.cdep.ro/pls/steno/evot2015.nominal?idv=17261): scor -0.079  "
      ],
      "text/plain": [
       "<IPython.core.display.Markdown object>"
      ]
     },
     "metadata": {},
     "output_type": "display_data"
    },
    {
     "data": {
      "text/markdown": [
       "[Vot 19323](http://www.cdep.ro/pls/steno/evot2015.nominal?idv=19323): scor -0.079  "
      ],
      "text/plain": [
       "<IPython.core.display.Markdown object>"
      ]
     },
     "metadata": {},
     "output_type": "display_data"
    },
    {
     "data": {
      "text/markdown": [
       "[Vot 18795](http://www.cdep.ro/pls/steno/evot2015.nominal?idv=18795): scor -0.079  "
      ],
      "text/plain": [
       "<IPython.core.display.Markdown object>"
      ]
     },
     "metadata": {},
     "output_type": "display_data"
    },
    {
     "data": {
      "text/markdown": [
       "[Vot 16235](http://www.cdep.ro/pls/steno/evot2015.nominal?idv=16235): scor -0.079  "
      ],
      "text/plain": [
       "<IPython.core.display.Markdown object>"
      ]
     },
     "metadata": {},
     "output_type": "display_data"
    },
    {
     "data": {
      "text/markdown": [
       "[Vot 17082](http://www.cdep.ro/pls/steno/evot2015.nominal?idv=17082): scor -0.079  "
      ],
      "text/plain": [
       "<IPython.core.display.Markdown object>"
      ]
     },
     "metadata": {},
     "output_type": "display_data"
    },
    {
     "data": {
      "text/markdown": [
       "[Vot 18887](http://www.cdep.ro/pls/steno/evot2015.nominal?idv=18887): scor -0.079  "
      ],
      "text/plain": [
       "<IPython.core.display.Markdown object>"
      ]
     },
     "metadata": {},
     "output_type": "display_data"
    },
    {
     "data": {
      "text/markdown": [
       "[Vot 18779](http://www.cdep.ro/pls/steno/evot2015.nominal?idv=18779): scor -0.079  "
      ],
      "text/plain": [
       "<IPython.core.display.Markdown object>"
      ]
     },
     "metadata": {},
     "output_type": "display_data"
    },
    {
     "data": {
      "text/markdown": [
       "[Vot 17440](http://www.cdep.ro/pls/steno/evot2015.nominal?idv=17440): scor -0.079  "
      ],
      "text/plain": [
       "<IPython.core.display.Markdown object>"
      ]
     },
     "metadata": {},
     "output_type": "display_data"
    },
    {
     "data": {
      "text/markdown": [
       "[Vot 16558](http://www.cdep.ro/pls/steno/evot2015.nominal?idv=16558): scor -0.079  "
      ],
      "text/plain": [
       "<IPython.core.display.Markdown object>"
      ]
     },
     "metadata": {},
     "output_type": "display_data"
    },
    {
     "data": {
      "text/markdown": [
       "[Vot 22730](http://www.cdep.ro/pls/steno/evot2015.nominal?idv=22730): scor -0.079  "
      ],
      "text/plain": [
       "<IPython.core.display.Markdown object>"
      ]
     },
     "metadata": {},
     "output_type": "display_data"
    },
    {
     "data": {
      "text/markdown": [
       "[Vot 17307](http://www.cdep.ro/pls/steno/evot2015.nominal?idv=17307): scor -0.079  "
      ],
      "text/plain": [
       "<IPython.core.display.Markdown object>"
      ]
     },
     "metadata": {},
     "output_type": "display_data"
    },
    {
     "data": {
      "text/markdown": [
       "[Vot 17338](http://www.cdep.ro/pls/steno/evot2015.nominal?idv=17338): scor -0.079  "
      ],
      "text/plain": [
       "<IPython.core.display.Markdown object>"
      ]
     },
     "metadata": {},
     "output_type": "display_data"
    },
    {
     "data": {
      "text/markdown": [
       "[Vot 17443](http://www.cdep.ro/pls/steno/evot2015.nominal?idv=17443): scor -0.080  "
      ],
      "text/plain": [
       "<IPython.core.display.Markdown object>"
      ]
     },
     "metadata": {},
     "output_type": "display_data"
    },
    {
     "data": {
      "text/markdown": [
       "[Vot 18844](http://www.cdep.ro/pls/steno/evot2015.nominal?idv=18844): scor -0.080  "
      ],
      "text/plain": [
       "<IPython.core.display.Markdown object>"
      ]
     },
     "metadata": {},
     "output_type": "display_data"
    },
    {
     "data": {
      "text/markdown": [
       "[Vot 17314](http://www.cdep.ro/pls/steno/evot2015.nominal?idv=17314): scor -0.080  "
      ],
      "text/plain": [
       "<IPython.core.display.Markdown object>"
      ]
     },
     "metadata": {},
     "output_type": "display_data"
    },
    {
     "data": {
      "text/markdown": [
       "[Vot 17413](http://www.cdep.ro/pls/steno/evot2015.nominal?idv=17413): scor -0.080  "
      ],
      "text/plain": [
       "<IPython.core.display.Markdown object>"
      ]
     },
     "metadata": {},
     "output_type": "display_data"
    },
    {
     "data": {
      "text/markdown": [
       "[Vot 19317](http://www.cdep.ro/pls/steno/evot2015.nominal?idv=19317): scor -0.080  "
      ],
      "text/plain": [
       "<IPython.core.display.Markdown object>"
      ]
     },
     "metadata": {},
     "output_type": "display_data"
    },
    {
     "data": {
      "text/markdown": [
       "[Vot 20652](http://www.cdep.ro/pls/steno/evot2015.nominal?idv=20652): scor -0.080  "
      ],
      "text/plain": [
       "<IPython.core.display.Markdown object>"
      ]
     },
     "metadata": {},
     "output_type": "display_data"
    },
    {
     "data": {
      "text/markdown": [
       "[Vot 22520](http://www.cdep.ro/pls/steno/evot2015.nominal?idv=22520): scor -0.080  "
      ],
      "text/plain": [
       "<IPython.core.display.Markdown object>"
      ]
     },
     "metadata": {},
     "output_type": "display_data"
    },
    {
     "data": {
      "text/markdown": [
       "[Vot 20817](http://www.cdep.ro/pls/steno/evot2015.nominal?idv=20817): scor -0.081  "
      ],
      "text/plain": [
       "<IPython.core.display.Markdown object>"
      ]
     },
     "metadata": {},
     "output_type": "display_data"
    },
    {
     "data": {
      "text/markdown": [
       "[Vot 19320](http://www.cdep.ro/pls/steno/evot2015.nominal?idv=19320): scor -0.081  "
      ],
      "text/plain": [
       "<IPython.core.display.Markdown object>"
      ]
     },
     "metadata": {},
     "output_type": "display_data"
    },
    {
     "data": {
      "text/markdown": [
       "[Vot 20096](http://www.cdep.ro/pls/steno/evot2015.nominal?idv=20096): scor -0.081  "
      ],
      "text/plain": [
       "<IPython.core.display.Markdown object>"
      ]
     },
     "metadata": {},
     "output_type": "display_data"
    },
    {
     "data": {
      "text/markdown": [
       "[Vot 18790](http://www.cdep.ro/pls/steno/evot2015.nominal?idv=18790): scor -0.081  "
      ],
      "text/plain": [
       "<IPython.core.display.Markdown object>"
      ]
     },
     "metadata": {},
     "output_type": "display_data"
    },
    {
     "data": {
      "text/markdown": [
       "[Vot 17317](http://www.cdep.ro/pls/steno/evot2015.nominal?idv=17317): scor -0.081  "
      ],
      "text/plain": [
       "<IPython.core.display.Markdown object>"
      ]
     },
     "metadata": {},
     "output_type": "display_data"
    },
    {
     "data": {
      "text/markdown": [
       "[Vot 16892](http://www.cdep.ro/pls/steno/evot2015.nominal?idv=16892): scor -0.081  "
      ],
      "text/plain": [
       "<IPython.core.display.Markdown object>"
      ]
     },
     "metadata": {},
     "output_type": "display_data"
    },
    {
     "data": {
      "text/markdown": [
       "[Vot 19308](http://www.cdep.ro/pls/steno/evot2015.nominal?idv=19308): scor -0.081  "
      ],
      "text/plain": [
       "<IPython.core.display.Markdown object>"
      ]
     },
     "metadata": {},
     "output_type": "display_data"
    },
    {
     "data": {
      "text/markdown": [
       "[Vot 16801](http://www.cdep.ro/pls/steno/evot2015.nominal?idv=16801): scor -0.082  "
      ],
      "text/plain": [
       "<IPython.core.display.Markdown object>"
      ]
     },
     "metadata": {},
     "output_type": "display_data"
    },
    {
     "data": {
      "text/markdown": [
       "[Vot 17448](http://www.cdep.ro/pls/steno/evot2015.nominal?idv=17448): scor -0.083  "
      ],
      "text/plain": [
       "<IPython.core.display.Markdown object>"
      ]
     },
     "metadata": {},
     "output_type": "display_data"
    },
    {
     "data": {
      "text/markdown": [
       "[Vot 17080](http://www.cdep.ro/pls/steno/evot2015.nominal?idv=17080): scor -0.083  "
      ],
      "text/plain": [
       "<IPython.core.display.Markdown object>"
      ]
     },
     "metadata": {},
     "output_type": "display_data"
    },
    {
     "data": {
      "text/markdown": [
       "[Vot 20073](http://www.cdep.ro/pls/steno/evot2015.nominal?idv=20073): scor -0.083  "
      ],
      "text/plain": [
       "<IPython.core.display.Markdown object>"
      ]
     },
     "metadata": {},
     "output_type": "display_data"
    },
    {
     "data": {
      "text/markdown": [
       "[Vot 17319](http://www.cdep.ro/pls/steno/evot2015.nominal?idv=17319): scor -0.083  "
      ],
      "text/plain": [
       "<IPython.core.display.Markdown object>"
      ]
     },
     "metadata": {},
     "output_type": "display_data"
    },
    {
     "data": {
      "text/markdown": [
       "[Vot 17199](http://www.cdep.ro/pls/steno/evot2015.nominal?idv=17199): scor -0.083  "
      ],
      "text/plain": [
       "<IPython.core.display.Markdown object>"
      ]
     },
     "metadata": {},
     "output_type": "display_data"
    },
    {
     "data": {
      "text/markdown": [
       "[Vot 16227](http://www.cdep.ro/pls/steno/evot2015.nominal?idv=16227): scor -0.083  "
      ],
      "text/plain": [
       "<IPython.core.display.Markdown object>"
      ]
     },
     "metadata": {},
     "output_type": "display_data"
    },
    {
     "data": {
      "text/markdown": [
       "[Vot 19277](http://www.cdep.ro/pls/steno/evot2015.nominal?idv=19277): scor -0.083  "
      ],
      "text/plain": [
       "<IPython.core.display.Markdown object>"
      ]
     },
     "metadata": {},
     "output_type": "display_data"
    },
    {
     "data": {
      "text/markdown": [
       "[Vot 17255](http://www.cdep.ro/pls/steno/evot2015.nominal?idv=17255): scor -0.083  "
      ],
      "text/plain": [
       "<IPython.core.display.Markdown object>"
      ]
     },
     "metadata": {},
     "output_type": "display_data"
    },
    {
     "data": {
      "text/markdown": [
       "[Vot 17410](http://www.cdep.ro/pls/steno/evot2015.nominal?idv=17410): scor -0.083  "
      ],
      "text/plain": [
       "<IPython.core.display.Markdown object>"
      ]
     },
     "metadata": {},
     "output_type": "display_data"
    },
    {
     "data": {
      "text/markdown": [
       "[Vot 22533](http://www.cdep.ro/pls/steno/evot2015.nominal?idv=22533): scor -0.084  "
      ],
      "text/plain": [
       "<IPython.core.display.Markdown object>"
      ]
     },
     "metadata": {},
     "output_type": "display_data"
    },
    {
     "data": {
      "text/markdown": [
       "[Vot 17445](http://www.cdep.ro/pls/steno/evot2015.nominal?idv=17445): scor -0.084  "
      ],
      "text/plain": [
       "<IPython.core.display.Markdown object>"
      ]
     },
     "metadata": {},
     "output_type": "display_data"
    },
    {
     "data": {
      "text/markdown": [
       "[Vot 22525](http://www.cdep.ro/pls/steno/evot2015.nominal?idv=22525): scor -0.084  "
      ],
      "text/plain": [
       "<IPython.core.display.Markdown object>"
      ]
     },
     "metadata": {},
     "output_type": "display_data"
    },
    {
     "data": {
      "text/markdown": [
       "[Vot 22662](http://www.cdep.ro/pls/steno/evot2015.nominal?idv=22662): scor -0.084  "
      ],
      "text/plain": [
       "<IPython.core.display.Markdown object>"
      ]
     },
     "metadata": {},
     "output_type": "display_data"
    },
    {
     "data": {
      "text/markdown": [
       "[Vot 21047](http://www.cdep.ro/pls/steno/evot2015.nominal?idv=21047): scor -0.084  "
      ],
      "text/plain": [
       "<IPython.core.display.Markdown object>"
      ]
     },
     "metadata": {},
     "output_type": "display_data"
    },
    {
     "data": {
      "text/markdown": [
       "[Vot 17411](http://www.cdep.ro/pls/steno/evot2015.nominal?idv=17411): scor -0.085  "
      ],
      "text/plain": [
       "<IPython.core.display.Markdown object>"
      ]
     },
     "metadata": {},
     "output_type": "display_data"
    },
    {
     "data": {
      "text/markdown": [
       "[Vot 20593](http://www.cdep.ro/pls/steno/evot2015.nominal?idv=20593): scor -0.085  "
      ],
      "text/plain": [
       "<IPython.core.display.Markdown object>"
      ]
     },
     "metadata": {},
     "output_type": "display_data"
    },
    {
     "data": {
      "text/markdown": [
       "[Vot 16489](http://www.cdep.ro/pls/steno/evot2015.nominal?idv=16489): scor -0.085  "
      ],
      "text/plain": [
       "<IPython.core.display.Markdown object>"
      ]
     },
     "metadata": {},
     "output_type": "display_data"
    },
    {
     "data": {
      "text/markdown": [
       "[Vot 19306](http://www.cdep.ro/pls/steno/evot2015.nominal?idv=19306): scor -0.085  "
      ],
      "text/plain": [
       "<IPython.core.display.Markdown object>"
      ]
     },
     "metadata": {},
     "output_type": "display_data"
    },
    {
     "data": {
      "text/markdown": [
       "[Vot 16913](http://www.cdep.ro/pls/steno/evot2015.nominal?idv=16913): scor -0.085  "
      ],
      "text/plain": [
       "<IPython.core.display.Markdown object>"
      ]
     },
     "metadata": {},
     "output_type": "display_data"
    },
    {
     "data": {
      "text/markdown": [
       "[Vot 17263](http://www.cdep.ro/pls/steno/evot2015.nominal?idv=17263): scor -0.085  "
      ],
      "text/plain": [
       "<IPython.core.display.Markdown object>"
      ]
     },
     "metadata": {},
     "output_type": "display_data"
    },
    {
     "data": {
      "text/markdown": [
       "[Vot 19307](http://www.cdep.ro/pls/steno/evot2015.nominal?idv=19307): scor -0.085  "
      ],
      "text/plain": [
       "<IPython.core.display.Markdown object>"
      ]
     },
     "metadata": {},
     "output_type": "display_data"
    },
    {
     "data": {
      "text/markdown": [
       "[Vot 21029](http://www.cdep.ro/pls/steno/evot2015.nominal?idv=21029): scor -0.086  "
      ],
      "text/plain": [
       "<IPython.core.display.Markdown object>"
      ]
     },
     "metadata": {},
     "output_type": "display_data"
    },
    {
     "data": {
      "text/markdown": [
       "[Vot 16510](http://www.cdep.ro/pls/steno/evot2015.nominal?idv=16510): scor -0.086  "
      ],
      "text/plain": [
       "<IPython.core.display.Markdown object>"
      ]
     },
     "metadata": {},
     "output_type": "display_data"
    },
    {
     "data": {
      "text/markdown": [
       "[Vot 22524](http://www.cdep.ro/pls/steno/evot2015.nominal?idv=22524): scor -0.086  "
      ],
      "text/plain": [
       "<IPython.core.display.Markdown object>"
      ]
     },
     "metadata": {},
     "output_type": "display_data"
    },
    {
     "data": {
      "text/markdown": [
       "[Vot 22641](http://www.cdep.ro/pls/steno/evot2015.nominal?idv=22641): scor -0.086  "
      ],
      "text/plain": [
       "<IPython.core.display.Markdown object>"
      ]
     },
     "metadata": {},
     "output_type": "display_data"
    },
    {
     "data": {
      "text/markdown": [
       "[Vot 20639](http://www.cdep.ro/pls/steno/evot2015.nominal?idv=20639): scor -0.086  "
      ],
      "text/plain": [
       "<IPython.core.display.Markdown object>"
      ]
     },
     "metadata": {},
     "output_type": "display_data"
    },
    {
     "data": {
      "text/markdown": [
       "[Vot 16559](http://www.cdep.ro/pls/steno/evot2015.nominal?idv=16559): scor -0.086  "
      ],
      "text/plain": [
       "<IPython.core.display.Markdown object>"
      ]
     },
     "metadata": {},
     "output_type": "display_data"
    },
    {
     "data": {
      "text/markdown": [
       "[Vot 19319](http://www.cdep.ro/pls/steno/evot2015.nominal?idv=19319): scor -0.087  "
      ],
      "text/plain": [
       "<IPython.core.display.Markdown object>"
      ]
     },
     "metadata": {},
     "output_type": "display_data"
    },
    {
     "data": {
      "text/markdown": [
       "[Vot 17079](http://www.cdep.ro/pls/steno/evot2015.nominal?idv=17079): scor -0.087  "
      ],
      "text/plain": [
       "<IPython.core.display.Markdown object>"
      ]
     },
     "metadata": {},
     "output_type": "display_data"
    },
    {
     "data": {
      "text/markdown": [
       "[Vot 22531](http://www.cdep.ro/pls/steno/evot2015.nominal?idv=22531): scor -0.087  "
      ],
      "text/plain": [
       "<IPython.core.display.Markdown object>"
      ]
     },
     "metadata": {},
     "output_type": "display_data"
    },
    {
     "data": {
      "text/markdown": [
       "[Vot 20657](http://www.cdep.ro/pls/steno/evot2015.nominal?idv=20657): scor -0.087  "
      ],
      "text/plain": [
       "<IPython.core.display.Markdown object>"
      ]
     },
     "metadata": {},
     "output_type": "display_data"
    },
    {
     "data": {
      "text/markdown": [
       "[Vot 16961](http://www.cdep.ro/pls/steno/evot2015.nominal?idv=16961): scor -0.087  "
      ],
      "text/plain": [
       "<IPython.core.display.Markdown object>"
      ]
     },
     "metadata": {},
     "output_type": "display_data"
    },
    {
     "data": {
      "text/markdown": [
       "[Vot 17335](http://www.cdep.ro/pls/steno/evot2015.nominal?idv=17335): scor -0.087  "
      ],
      "text/plain": [
       "<IPython.core.display.Markdown object>"
      ]
     },
     "metadata": {},
     "output_type": "display_data"
    },
    {
     "data": {
      "text/markdown": [
       "[Vot 20474](http://www.cdep.ro/pls/steno/evot2015.nominal?idv=20474): scor -0.087  "
      ],
      "text/plain": [
       "<IPython.core.display.Markdown object>"
      ]
     },
     "metadata": {},
     "output_type": "display_data"
    },
    {
     "data": {
      "text/markdown": [
       "[Vot 17254](http://www.cdep.ro/pls/steno/evot2015.nominal?idv=17254): scor -0.087  "
      ],
      "text/plain": [
       "<IPython.core.display.Markdown object>"
      ]
     },
     "metadata": {},
     "output_type": "display_data"
    },
    {
     "data": {
      "text/markdown": [
       "[Vot 18893](http://www.cdep.ro/pls/steno/evot2015.nominal?idv=18893): scor -0.087  "
      ],
      "text/plain": [
       "<IPython.core.display.Markdown object>"
      ]
     },
     "metadata": {},
     "output_type": "display_data"
    },
    {
     "data": {
      "text/markdown": [
       "[Vot 20594](http://www.cdep.ro/pls/steno/evot2015.nominal?idv=20594): scor -0.087  "
      ],
      "text/plain": [
       "<IPython.core.display.Markdown object>"
      ]
     },
     "metadata": {},
     "output_type": "display_data"
    },
    {
     "data": {
      "text/markdown": [
       "[Vot 16282](http://www.cdep.ro/pls/steno/evot2015.nominal?idv=16282): scor -0.087  "
      ],
      "text/plain": [
       "<IPython.core.display.Markdown object>"
      ]
     },
     "metadata": {},
     "output_type": "display_data"
    },
    {
     "data": {
      "text/markdown": [
       "[Vot 22527](http://www.cdep.ro/pls/steno/evot2015.nominal?idv=22527): scor -0.087  "
      ],
      "text/plain": [
       "<IPython.core.display.Markdown object>"
      ]
     },
     "metadata": {},
     "output_type": "display_data"
    },
    {
     "data": {
      "text/markdown": [
       "[Vot 22738](http://www.cdep.ro/pls/steno/evot2015.nominal?idv=22738): scor -0.087  "
      ],
      "text/plain": [
       "<IPython.core.display.Markdown object>"
      ]
     },
     "metadata": {},
     "output_type": "display_data"
    },
    {
     "data": {
      "text/markdown": [
       "[Vot 16560](http://www.cdep.ro/pls/steno/evot2015.nominal?idv=16560): scor -0.088  "
      ],
      "text/plain": [
       "<IPython.core.display.Markdown object>"
      ]
     },
     "metadata": {},
     "output_type": "display_data"
    },
    {
     "data": {
      "text/markdown": [
       "[Vot 16965](http://www.cdep.ro/pls/steno/evot2015.nominal?idv=16965): scor -0.088  "
      ],
      "text/plain": [
       "<IPython.core.display.Markdown object>"
      ]
     },
     "metadata": {},
     "output_type": "display_data"
    },
    {
     "data": {
      "text/markdown": [
       "[Vot 19207](http://www.cdep.ro/pls/steno/evot2015.nominal?idv=19207): scor -0.088  "
      ],
      "text/plain": [
       "<IPython.core.display.Markdown object>"
      ]
     },
     "metadata": {},
     "output_type": "display_data"
    },
    {
     "data": {
      "text/markdown": [
       "[Vot 18896](http://www.cdep.ro/pls/steno/evot2015.nominal?idv=18896): scor -0.088  "
      ],
      "text/plain": [
       "<IPython.core.display.Markdown object>"
      ]
     },
     "metadata": {},
     "output_type": "display_data"
    },
    {
     "data": {
      "text/markdown": [
       "[Vot 19322](http://www.cdep.ro/pls/steno/evot2015.nominal?idv=19322): scor -0.088  "
      ],
      "text/plain": [
       "<IPython.core.display.Markdown object>"
      ]
     },
     "metadata": {},
     "output_type": "display_data"
    },
    {
     "data": {
      "text/markdown": [
       "[Vot 22845](http://www.cdep.ro/pls/steno/evot2015.nominal?idv=22845): scor -0.088  "
      ],
      "text/plain": [
       "<IPython.core.display.Markdown object>"
      ]
     },
     "metadata": {},
     "output_type": "display_data"
    },
    {
     "data": {
      "text/markdown": [
       "[Vot 16239](http://www.cdep.ro/pls/steno/evot2015.nominal?idv=16239): scor -0.089  "
      ],
      "text/plain": [
       "<IPython.core.display.Markdown object>"
      ]
     },
     "metadata": {},
     "output_type": "display_data"
    },
    {
     "data": {
      "text/markdown": [
       "[Vot 16226](http://www.cdep.ro/pls/steno/evot2015.nominal?idv=16226): scor -0.089  "
      ],
      "text/plain": [
       "<IPython.core.display.Markdown object>"
      ]
     },
     "metadata": {},
     "output_type": "display_data"
    },
    {
     "data": {
      "text/markdown": [
       "[Vot 22470](http://www.cdep.ro/pls/steno/evot2015.nominal?idv=22470): scor -0.089  "
      ],
      "text/plain": [
       "<IPython.core.display.Markdown object>"
      ]
     },
     "metadata": {},
     "output_type": "display_data"
    },
    {
     "data": {
      "text/markdown": [
       "[Vot 16585](http://www.cdep.ro/pls/steno/evot2015.nominal?idv=16585): scor -0.089  "
      ],
      "text/plain": [
       "<IPython.core.display.Markdown object>"
      ]
     },
     "metadata": {},
     "output_type": "display_data"
    },
    {
     "data": {
      "text/markdown": [
       "[Vot 16790](http://www.cdep.ro/pls/steno/evot2015.nominal?idv=16790): scor -0.089  "
      ],
      "text/plain": [
       "<IPython.core.display.Markdown object>"
      ]
     },
     "metadata": {},
     "output_type": "display_data"
    },
    {
     "data": {
      "text/markdown": [
       "[Vot 19103](http://www.cdep.ro/pls/steno/evot2015.nominal?idv=19103): scor -0.090  "
      ],
      "text/plain": [
       "<IPython.core.display.Markdown object>"
      ]
     },
     "metadata": {},
     "output_type": "display_data"
    },
    {
     "data": {
      "text/markdown": [
       "[Vot 19324](http://www.cdep.ro/pls/steno/evot2015.nominal?idv=19324): scor -0.090  "
      ],
      "text/plain": [
       "<IPython.core.display.Markdown object>"
      ]
     },
     "metadata": {},
     "output_type": "display_data"
    },
    {
     "data": {
      "text/markdown": [
       "[Vot 16193](http://www.cdep.ro/pls/steno/evot2015.nominal?idv=16193): scor -0.090  "
      ],
      "text/plain": [
       "<IPython.core.display.Markdown object>"
      ]
     },
     "metadata": {},
     "output_type": "display_data"
    },
    {
     "data": {
      "text/markdown": [
       "[Vot 16131](http://www.cdep.ro/pls/steno/evot2015.nominal?idv=16131): scor -0.090  "
      ],
      "text/plain": [
       "<IPython.core.display.Markdown object>"
      ]
     },
     "metadata": {},
     "output_type": "display_data"
    },
    {
     "data": {
      "text/markdown": [
       "[Vot 16586](http://www.cdep.ro/pls/steno/evot2015.nominal?idv=16586): scor -0.090  "
      ],
      "text/plain": [
       "<IPython.core.display.Markdown object>"
      ]
     },
     "metadata": {},
     "output_type": "display_data"
    },
    {
     "data": {
      "text/markdown": [
       "[Vot 17222](http://www.cdep.ro/pls/steno/evot2015.nominal?idv=17222): scor -0.090  "
      ],
      "text/plain": [
       "<IPython.core.display.Markdown object>"
      ]
     },
     "metadata": {},
     "output_type": "display_data"
    },
    {
     "data": {
      "text/markdown": [
       "[Vot 22856](http://www.cdep.ro/pls/steno/evot2015.nominal?idv=22856): scor -0.090  "
      ],
      "text/plain": [
       "<IPython.core.display.Markdown object>"
      ]
     },
     "metadata": {},
     "output_type": "display_data"
    },
    {
     "data": {
      "text/markdown": [
       "[Vot 22247](http://www.cdep.ro/pls/steno/evot2015.nominal?idv=22247): scor -0.090  "
      ],
      "text/plain": [
       "<IPython.core.display.Markdown object>"
      ]
     },
     "metadata": {},
     "output_type": "display_data"
    },
    {
     "data": {
      "text/markdown": [
       "[Vot 17446](http://www.cdep.ro/pls/steno/evot2015.nominal?idv=17446): scor -0.091  "
      ],
      "text/plain": [
       "<IPython.core.display.Markdown object>"
      ]
     },
     "metadata": {},
     "output_type": "display_data"
    },
    {
     "data": {
      "text/markdown": [
       "[Vot 17197](http://www.cdep.ro/pls/steno/evot2015.nominal?idv=17197): scor -0.091  "
      ],
      "text/plain": [
       "<IPython.core.display.Markdown object>"
      ]
     },
     "metadata": {},
     "output_type": "display_data"
    },
    {
     "data": {
      "text/markdown": [
       "[Vot 19112](http://www.cdep.ro/pls/steno/evot2015.nominal?idv=19112): scor -0.091  "
      ],
      "text/plain": [
       "<IPython.core.display.Markdown object>"
      ]
     },
     "metadata": {},
     "output_type": "display_data"
    },
    {
     "data": {
      "text/markdown": [
       "[Vot 17283](http://www.cdep.ro/pls/steno/evot2015.nominal?idv=17283): scor -0.091  "
      ],
      "text/plain": [
       "<IPython.core.display.Markdown object>"
      ]
     },
     "metadata": {},
     "output_type": "display_data"
    },
    {
     "data": {
      "text/markdown": [
       "[Vot 22660](http://www.cdep.ro/pls/steno/evot2015.nominal?idv=22660): scor -0.091  "
      ],
      "text/plain": [
       "<IPython.core.display.Markdown object>"
      ]
     },
     "metadata": {},
     "output_type": "display_data"
    },
    {
     "data": {
      "text/markdown": [
       "[Vot 16458](http://www.cdep.ro/pls/steno/evot2015.nominal?idv=16458): scor -0.091  "
      ],
      "text/plain": [
       "<IPython.core.display.Markdown object>"
      ]
     },
     "metadata": {},
     "output_type": "display_data"
    },
    {
     "data": {
      "text/markdown": [
       "[Vot 17248](http://www.cdep.ro/pls/steno/evot2015.nominal?idv=17248): scor -0.091  "
      ],
      "text/plain": [
       "<IPython.core.display.Markdown object>"
      ]
     },
     "metadata": {},
     "output_type": "display_data"
    },
    {
     "data": {
      "text/markdown": [
       "[Vot 16327](http://www.cdep.ro/pls/steno/evot2015.nominal?idv=16327): scor -0.091  "
      ],
      "text/plain": [
       "<IPython.core.display.Markdown object>"
      ]
     },
     "metadata": {},
     "output_type": "display_data"
    },
    {
     "data": {
      "text/markdown": [
       "[Vot 22657](http://www.cdep.ro/pls/steno/evot2015.nominal?idv=22657): scor -0.091  "
      ],
      "text/plain": [
       "<IPython.core.display.Markdown object>"
      ]
     },
     "metadata": {},
     "output_type": "display_data"
    },
    {
     "data": {
      "text/markdown": [
       "[Vot 16589](http://www.cdep.ro/pls/steno/evot2015.nominal?idv=16589): scor -0.091  "
      ],
      "text/plain": [
       "<IPython.core.display.Markdown object>"
      ]
     },
     "metadata": {},
     "output_type": "display_data"
    },
    {
     "data": {
      "text/markdown": [
       "[Vot 18832](http://www.cdep.ro/pls/steno/evot2015.nominal?idv=18832): scor -0.091  "
      ],
      "text/plain": [
       "<IPython.core.display.Markdown object>"
      ]
     },
     "metadata": {},
     "output_type": "display_data"
    },
    {
     "data": {
      "text/markdown": [
       "[Vot 20473](http://www.cdep.ro/pls/steno/evot2015.nominal?idv=20473): scor -0.091  "
      ],
      "text/plain": [
       "<IPython.core.display.Markdown object>"
      ]
     },
     "metadata": {},
     "output_type": "display_data"
    },
    {
     "data": {
      "text/markdown": [
       "[Vot 20069](http://www.cdep.ro/pls/steno/evot2015.nominal?idv=20069): scor -0.091  "
      ],
      "text/plain": [
       "<IPython.core.display.Markdown object>"
      ]
     },
     "metadata": {},
     "output_type": "display_data"
    },
    {
     "data": {
      "text/markdown": [
       "[Vot 17016](http://www.cdep.ro/pls/steno/evot2015.nominal?idv=17016): scor -0.091  "
      ],
      "text/plain": [
       "<IPython.core.display.Markdown object>"
      ]
     },
     "metadata": {},
     "output_type": "display_data"
    },
    {
     "data": {
      "text/markdown": [
       "[Vot 16192](http://www.cdep.ro/pls/steno/evot2015.nominal?idv=16192): scor -0.091  "
      ],
      "text/plain": [
       "<IPython.core.display.Markdown object>"
      ]
     },
     "metadata": {},
     "output_type": "display_data"
    },
    {
     "data": {
      "text/markdown": [
       "[Vot 16571](http://www.cdep.ro/pls/steno/evot2015.nominal?idv=16571): scor -0.091  "
      ],
      "text/plain": [
       "<IPython.core.display.Markdown object>"
      ]
     },
     "metadata": {},
     "output_type": "display_data"
    },
    {
     "data": {
      "text/markdown": [
       "[Vot 16249](http://www.cdep.ro/pls/steno/evot2015.nominal?idv=16249): scor -0.092  "
      ],
      "text/plain": [
       "<IPython.core.display.Markdown object>"
      ]
     },
     "metadata": {},
     "output_type": "display_data"
    },
    {
     "data": {
      "text/markdown": [
       "[Vot 17226](http://www.cdep.ro/pls/steno/evot2015.nominal?idv=17226): scor -0.092  "
      ],
      "text/plain": [
       "<IPython.core.display.Markdown object>"
      ]
     },
     "metadata": {},
     "output_type": "display_data"
    },
    {
     "data": {
      "text/markdown": [
       "[Vot 16880](http://www.cdep.ro/pls/steno/evot2015.nominal?idv=16880): scor -0.092  "
      ],
      "text/plain": [
       "<IPython.core.display.Markdown object>"
      ]
     },
     "metadata": {},
     "output_type": "display_data"
    },
    {
     "data": {
      "text/markdown": [
       "[Vot 17401](http://www.cdep.ro/pls/steno/evot2015.nominal?idv=17401): scor -0.092  "
      ],
      "text/plain": [
       "<IPython.core.display.Markdown object>"
      ]
     },
     "metadata": {},
     "output_type": "display_data"
    },
    {
     "data": {
      "text/markdown": [
       "[Vot 17280](http://www.cdep.ro/pls/steno/evot2015.nominal?idv=17280): scor -0.092  "
      ],
      "text/plain": [
       "<IPython.core.display.Markdown object>"
      ]
     },
     "metadata": {},
     "output_type": "display_data"
    },
    {
     "data": {
      "text/markdown": [
       "[Vot 20521](http://www.cdep.ro/pls/steno/evot2015.nominal?idv=20521): scor -0.092  "
      ],
      "text/plain": [
       "<IPython.core.display.Markdown object>"
      ]
     },
     "metadata": {},
     "output_type": "display_data"
    },
    {
     "data": {
      "text/markdown": [
       "[Vot 16914](http://www.cdep.ro/pls/steno/evot2015.nominal?idv=16914): scor -0.092  "
      ],
      "text/plain": [
       "<IPython.core.display.Markdown object>"
      ]
     },
     "metadata": {},
     "output_type": "display_data"
    },
    {
     "data": {
      "text/markdown": [
       "[Vot 16849](http://www.cdep.ro/pls/steno/evot2015.nominal?idv=16849): scor -0.092  "
      ],
      "text/plain": [
       "<IPython.core.display.Markdown object>"
      ]
     },
     "metadata": {},
     "output_type": "display_data"
    }
   ],
   "source": [
    "deviatie_medie = normalize().std(axis=1)\n",
    "\n",
    "display(Markdown('## Voturi cu deviație mare'))\n",
    "link_cdep(deviatie_medie, 20)\n",
    "\n",
    "display(Markdown('## Voturi cu deviație mică'))\n",
    "link_cdep(-deviatie_medie, 250)"
   ]
  }
 ],
 "metadata": {
  "kernelspec": {
   "display_name": "Python 3",
   "language": "python",
   "name": "python3"
  },
  "language_info": {
   "codemirror_mode": {
    "name": "ipython",
    "version": 3
   },
   "file_extension": ".py",
   "mimetype": "text/x-python",
   "name": "python",
   "nbconvert_exporter": "python",
   "pygments_lexer": "ipython3",
   "version": "3.7.5rc1"
  },
  "widgets": {
   "state": {},
   "version": "1.1.2"
  }
 },
 "nbformat": 4,
 "nbformat_minor": 2
}
