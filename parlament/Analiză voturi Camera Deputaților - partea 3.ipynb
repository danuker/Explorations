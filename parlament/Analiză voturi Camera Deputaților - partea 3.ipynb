{
 "cells": [
  {
   "cell_type": "markdown",
   "metadata": {},
   "source": [
    "Vom analiza ce subiecte au fost votate cel mai similar de către toate partidele.\n",
    "\n",
    "© 2019 Dan Gheorghe Haiduc - Licență [CC BY-SA 4.0](https://creativecommons.org/licenses/by-sa/4.0/)<br />\n",
    "Distribuirea și modificarea sunt permise numai cu condiția atribuirii autorului.<br />"
   ]
  },
  {
   "cell_type": "markdown",
   "metadata": {},
   "source": [
    "# Încărcare date"
   ]
  },
  {
   "cell_type": "code",
   "execution_count": 2,
   "metadata": {},
   "outputs": [
    {
     "name": "stdout",
     "output_type": "stream",
     "text": [
      "File ‘membri_grupuri.csv’ already there; not retrieving.\n",
      "\n",
      "File ‘voturi.csv’ already there; not retrieving.\n",
      "\n"
     ]
    }
   ],
   "source": [
    "%matplotlib inline\n",
    "\n",
    "import pandas as pd\n",
    "pd.options.display.max_rows = 100\n",
    "\n",
    "# Date obtinute de la Parlament Transparent, Popescu, Marina și Chiru, Mihail.\n",
    "# https://parlament.openpolitics.ro/export/\n",
    "# Datele pot fi reutilizate sub licență CC-BY-SA-4.0 sau CC-BY-SA-3.0-RO\n",
    "# Datele se refera doar la Camera Deputatilor (nu si Senat).\n",
    "\n",
    "!wget -nc https://parlament.openpolitics.ro/export/membri_grupuri.csv\n",
    "!wget -nc https://parlament.openpolitics.ro/export/voturi.csv"
   ]
  },
  {
   "cell_type": "code",
   "execution_count": 3,
   "metadata": {},
   "outputs": [
    {
     "data": {
      "text/html": [
       "<div>\n",
       "<style scoped>\n",
       "    .dataframe tbody tr th:only-of-type {\n",
       "        vertical-align: middle;\n",
       "    }\n",
       "\n",
       "    .dataframe tbody tr th {\n",
       "        vertical-align: top;\n",
       "    }\n",
       "\n",
       "    .dataframe thead th {\n",
       "        text-align: right;\n",
       "    }\n",
       "</style>\n",
       "<table border=\"1\" class=\"dataframe\">\n",
       "  <thead>\n",
       "    <tr style=\"text-align: right;\">\n",
       "      <th></th>\n",
       "      <th>data</th>\n",
       "      <th>cod cdep</th>\n",
       "      <th>nume</th>\n",
       "      <th>vot</th>\n",
       "      <th>vot grup</th>\n",
       "      <th>partid</th>\n",
       "    </tr>\n",
       "  </thead>\n",
       "  <tbody>\n",
       "    <tr>\n",
       "      <th>0</th>\n",
       "      <td>2017-02-14</td>\n",
       "      <td>16105</td>\n",
       "      <td>Antoneta Ioniţă</td>\n",
       "      <td>da</td>\n",
       "      <td>da</td>\n",
       "      <td>PNL</td>\n",
       "    </tr>\n",
       "    <tr>\n",
       "      <th>1</th>\n",
       "      <td>2017-02-14</td>\n",
       "      <td>16106</td>\n",
       "      <td>Antoneta Ioniţă</td>\n",
       "      <td>da</td>\n",
       "      <td>da</td>\n",
       "      <td>PNL</td>\n",
       "    </tr>\n",
       "    <tr>\n",
       "      <th>2</th>\n",
       "      <td>2017-02-14</td>\n",
       "      <td>16107</td>\n",
       "      <td>Antoneta Ioniţă</td>\n",
       "      <td>da</td>\n",
       "      <td>da</td>\n",
       "      <td>PNL</td>\n",
       "    </tr>\n",
       "    <tr>\n",
       "      <th>3</th>\n",
       "      <td>2017-02-14</td>\n",
       "      <td>16108</td>\n",
       "      <td>Antoneta Ioniţă</td>\n",
       "      <td>nu</td>\n",
       "      <td>nu</td>\n",
       "      <td>PNL</td>\n",
       "    </tr>\n",
       "    <tr>\n",
       "      <th>4</th>\n",
       "      <td>2017-02-14</td>\n",
       "      <td>16109</td>\n",
       "      <td>Antoneta Ioniţă</td>\n",
       "      <td>da</td>\n",
       "      <td>da</td>\n",
       "      <td>PNL</td>\n",
       "    </tr>\n",
       "    <tr>\n",
       "      <th>...</th>\n",
       "      <td>...</td>\n",
       "      <td>...</td>\n",
       "      <td>...</td>\n",
       "      <td>...</td>\n",
       "      <td>...</td>\n",
       "      <td>...</td>\n",
       "    </tr>\n",
       "    <tr>\n",
       "      <th>415760</th>\n",
       "      <td>2019-10-22</td>\n",
       "      <td>22897</td>\n",
       "      <td>Andrian Ampleev</td>\n",
       "      <td>da</td>\n",
       "      <td>da</td>\n",
       "      <td>Minorități</td>\n",
       "    </tr>\n",
       "    <tr>\n",
       "      <th>415761</th>\n",
       "      <td>2019-10-22</td>\n",
       "      <td>22898</td>\n",
       "      <td>Andrian Ampleev</td>\n",
       "      <td>da</td>\n",
       "      <td>da</td>\n",
       "      <td>Minorități</td>\n",
       "    </tr>\n",
       "    <tr>\n",
       "      <th>415762</th>\n",
       "      <td>2019-10-22</td>\n",
       "      <td>22899</td>\n",
       "      <td>Andrian Ampleev</td>\n",
       "      <td>da</td>\n",
       "      <td>da</td>\n",
       "      <td>Minorități</td>\n",
       "    </tr>\n",
       "    <tr>\n",
       "      <th>415763</th>\n",
       "      <td>2019-10-22</td>\n",
       "      <td>22900</td>\n",
       "      <td>Andrian Ampleev</td>\n",
       "      <td>da</td>\n",
       "      <td>da</td>\n",
       "      <td>Minorități</td>\n",
       "    </tr>\n",
       "    <tr>\n",
       "      <th>415764</th>\n",
       "      <td>2019-10-22</td>\n",
       "      <td>22901</td>\n",
       "      <td>Andrian Ampleev</td>\n",
       "      <td>da</td>\n",
       "      <td>da</td>\n",
       "      <td>Minorități</td>\n",
       "    </tr>\n",
       "  </tbody>\n",
       "</table>\n",
       "<p>415765 rows × 6 columns</p>\n",
       "</div>"
      ],
      "text/plain": [
       "              data  cod cdep             nume vot vot grup      partid\n",
       "0       2017-02-14     16105  Antoneta Ioniţă  da       da         PNL\n",
       "1       2017-02-14     16106  Antoneta Ioniţă  da       da         PNL\n",
       "2       2017-02-14     16107  Antoneta Ioniţă  da       da         PNL\n",
       "3       2017-02-14     16108  Antoneta Ioniţă  nu       nu         PNL\n",
       "4       2017-02-14     16109  Antoneta Ioniţă  da       da         PNL\n",
       "...            ...       ...              ...  ..      ...         ...\n",
       "415760  2019-10-22     22897  Andrian Ampleev  da       da  Minorități\n",
       "415761  2019-10-22     22898  Andrian Ampleev  da       da  Minorități\n",
       "415762  2019-10-22     22899  Andrian Ampleev  da       da  Minorități\n",
       "415763  2019-10-22     22900  Andrian Ampleev  da       da  Minorități\n",
       "415764  2019-10-22     22901  Andrian Ampleev  da       da  Minorități\n",
       "\n",
       "[415765 rows x 6 columns]"
      ]
     },
     "execution_count": 3,
     "metadata": {},
     "output_type": "execute_result"
    }
   ],
   "source": [
    "# Ordonare obiectivă: putere (PSD) -> opoziție (partide nesimilare cu PSD)\n",
    "coloane_partide = ['PSD', 'ALDE', 'Minorități', 'UDMR', 'Neafiliați', 'PNL', 'PMP', 'USR']\n",
    "descriere_partide = [\n",
    "    'Grupul parlamentar al Partidului Social Democrat',\n",
    "    'Grupul parlamentar ALDE (Alianţa liberalilor şi democraţilor)',\n",
    "    'Grupul parlamentar al minorităţilor naţionale',\n",
    "    'Grupul parlamentar al Uniunii Democrate Maghiare din România',\n",
    "    'Deputati neafiliati',\n",
    "    'Grupul parlamentar al Partidului Naţional Liberal',\n",
    "    'Grupul parlamentar al Partidului Mişcarea Populară',\n",
    "    'Grupul parlamentar al Uniunii Salvaţi România',\n",
    "]\n",
    "\n",
    "membri = pd.read_csv('membri_grupuri.csv')\n",
    "\n",
    "for partid, abrev in zip(descriere_partide, coloane_partide):\n",
    "    membri = membri.replace(partid, abrev)\n",
    "\n",
    "voturi = pd.read_csv('voturi.csv')\n",
    "voturi_cu_partide = voturi.merge(membri[['nume', 'partid']])\n",
    "voturi_cu_partide['partid'].fillna('niciunul curent', inplace=True)\n",
    "voturi_cu_partide"
   ]
  },
  {
   "cell_type": "markdown",
   "metadata": {},
   "source": [
    "# Procesare"
   ]
  },
  {
   "cell_type": "code",
   "execution_count": 4,
   "metadata": {},
   "outputs": [],
   "source": [
    "grupate = voturi_cu_partide.groupby(['cod cdep', 'vot', 'partid'], as_index=False).count().sort_values(['cod cdep', 'vot', 'partid'])\n",
    "grupate = grupate.pivot_table(index='cod cdep', columns=['partid', 'vot'], values=['data'])['data'].fillna(0)"
   ]
  },
  {
   "cell_type": "code",
   "execution_count": 29,
   "metadata": {
    "scrolled": true
   },
   "outputs": [
    {
     "data": {
      "text/html": [
       "Voturi cu deviație mare"
      ],
      "text/plain": [
       "<IPython.core.display.HTML object>"
      ]
     },
     "metadata": {},
     "output_type": "display_data"
    },
    {
     "data": {
      "text/html": [
       "<a href=http://www.cdep.ro/pls/steno/evot2015.nominal?idv=22079>Vot 22079</a>: scor 0.367 "
      ],
      "text/plain": [
       "<IPython.core.display.HTML object>"
      ]
     },
     "metadata": {},
     "output_type": "display_data"
    },
    {
     "data": {
      "text/html": [
       "<a href=http://www.cdep.ro/pls/steno/evot2015.nominal?idv=20136>Vot 20136</a>: scor 0.348 "
      ],
      "text/plain": [
       "<IPython.core.display.HTML object>"
      ]
     },
     "metadata": {},
     "output_type": "display_data"
    },
    {
     "data": {
      "text/html": [
       "<a href=http://www.cdep.ro/pls/steno/evot2015.nominal?idv=22732>Vot 22732</a>: scor 0.336 "
      ],
      "text/plain": [
       "<IPython.core.display.HTML object>"
      ]
     },
     "metadata": {},
     "output_type": "display_data"
    },
    {
     "data": {
      "text/html": [
       "<a href=http://www.cdep.ro/pls/steno/evot2015.nominal?idv=21028>Vot 21028</a>: scor 0.334 "
      ],
      "text/plain": [
       "<IPython.core.display.HTML object>"
      ]
     },
     "metadata": {},
     "output_type": "display_data"
    },
    {
     "data": {
      "text/html": [
       "<a href=http://www.cdep.ro/pls/steno/evot2015.nominal?idv=22381>Vot 22381</a>: scor 0.333 "
      ],
      "text/plain": [
       "<IPython.core.display.HTML object>"
      ]
     },
     "metadata": {},
     "output_type": "display_data"
    },
    {
     "data": {
      "text/html": [
       "<a href=http://www.cdep.ro/pls/steno/evot2015.nominal?idv=20602>Vot 20602</a>: scor 0.333 "
      ],
      "text/plain": [
       "<IPython.core.display.HTML object>"
      ]
     },
     "metadata": {},
     "output_type": "display_data"
    },
    {
     "data": {
      "text/html": [
       "<a href=http://www.cdep.ro/pls/steno/evot2015.nominal?idv=22157>Vot 22157</a>: scor 0.333 "
      ],
      "text/plain": [
       "<IPython.core.display.HTML object>"
      ]
     },
     "metadata": {},
     "output_type": "display_data"
    },
    {
     "data": {
      "text/html": [
       "<a href=http://www.cdep.ro/pls/steno/evot2015.nominal?idv=21339>Vot 21339</a>: scor 0.332 "
      ],
      "text/plain": [
       "<IPython.core.display.HTML object>"
      ]
     },
     "metadata": {},
     "output_type": "display_data"
    },
    {
     "data": {
      "text/html": [
       "<a href=http://www.cdep.ro/pls/steno/evot2015.nominal?idv=22587>Vot 22587</a>: scor 0.328 "
      ],
      "text/plain": [
       "<IPython.core.display.HTML object>"
      ]
     },
     "metadata": {},
     "output_type": "display_data"
    },
    {
     "data": {
      "text/html": [
       "<a href=http://www.cdep.ro/pls/steno/evot2015.nominal?idv=16696>Vot 16696</a>: scor 0.327 "
      ],
      "text/plain": [
       "<IPython.core.display.HTML object>"
      ]
     },
     "metadata": {},
     "output_type": "display_data"
    },
    {
     "data": {
      "text/html": [
       "<a href=http://www.cdep.ro/pls/steno/evot2015.nominal?idv=22586>Vot 22586</a>: scor 0.326 "
      ],
      "text/plain": [
       "<IPython.core.display.HTML object>"
      ]
     },
     "metadata": {},
     "output_type": "display_data"
    },
    {
     "data": {
      "text/html": [
       "<a href=http://www.cdep.ro/pls/steno/evot2015.nominal?idv=22459>Vot 22459</a>: scor 0.325 "
      ],
      "text/plain": [
       "<IPython.core.display.HTML object>"
      ]
     },
     "metadata": {},
     "output_type": "display_data"
    },
    {
     "data": {
      "text/html": [
       "<a href=http://www.cdep.ro/pls/steno/evot2015.nominal?idv=22530>Vot 22530</a>: scor 0.325 "
      ],
      "text/plain": [
       "<IPython.core.display.HTML object>"
      ]
     },
     "metadata": {},
     "output_type": "display_data"
    },
    {
     "data": {
      "text/html": [
       "<a href=http://www.cdep.ro/pls/steno/evot2015.nominal?idv=22307>Vot 22307</a>: scor 0.324 "
      ],
      "text/plain": [
       "<IPython.core.display.HTML object>"
      ]
     },
     "metadata": {},
     "output_type": "display_data"
    },
    {
     "data": {
      "text/html": [
       "<a href=http://www.cdep.ro/pls/steno/evot2015.nominal?idv=22078>Vot 22078</a>: scor 0.321 "
      ],
      "text/plain": [
       "<IPython.core.display.HTML object>"
      ]
     },
     "metadata": {},
     "output_type": "display_data"
    },
    {
     "data": {
      "text/html": [
       "<a href=http://www.cdep.ro/pls/steno/evot2015.nominal?idv=22861>Vot 22861</a>: scor 0.321 "
      ],
      "text/plain": [
       "<IPython.core.display.HTML object>"
      ]
     },
     "metadata": {},
     "output_type": "display_data"
    },
    {
     "data": {
      "text/html": [
       "<a href=http://www.cdep.ro/pls/steno/evot2015.nominal?idv=20566>Vot 20566</a>: scor 0.321 "
      ],
      "text/plain": [
       "<IPython.core.display.HTML object>"
      ]
     },
     "metadata": {},
     "output_type": "display_data"
    },
    {
     "data": {
      "text/html": [
       "<a href=http://www.cdep.ro/pls/steno/evot2015.nominal?idv=18694>Vot 18694</a>: scor 0.319 "
      ],
      "text/plain": [
       "<IPython.core.display.HTML object>"
      ]
     },
     "metadata": {},
     "output_type": "display_data"
    },
    {
     "data": {
      "text/html": [
       "<a href=http://www.cdep.ro/pls/steno/evot2015.nominal?idv=20970>Vot 20970</a>: scor 0.319 "
      ],
      "text/plain": [
       "<IPython.core.display.HTML object>"
      ]
     },
     "metadata": {},
     "output_type": "display_data"
    },
    {
     "data": {
      "text/html": [
       "<a href=http://www.cdep.ro/pls/steno/evot2015.nominal?idv=19003>Vot 19003</a>: scor 0.318 "
      ],
      "text/plain": [
       "<IPython.core.display.HTML object>"
      ]
     },
     "metadata": {},
     "output_type": "display_data"
    },
    {
     "data": {
      "text/html": [
       "Voturi cu deviație mică"
      ],
      "text/plain": [
       "<IPython.core.display.HTML object>"
      ]
     },
     "metadata": {},
     "output_type": "display_data"
    },
    {
     "data": {
      "text/html": [
       "<a href=http://www.cdep.ro/pls/steno/evot2015.nominal?idv=17402>Vot 17402</a>: scor -0.000 "
      ],
      "text/plain": [
       "<IPython.core.display.HTML object>"
      ]
     },
     "metadata": {},
     "output_type": "display_data"
    },
    {
     "data": {
      "text/html": [
       "<a href=http://www.cdep.ro/pls/steno/evot2015.nominal?idv=17286>Vot 17286</a>: scor -0.000 "
      ],
      "text/plain": [
       "<IPython.core.display.HTML object>"
      ]
     },
     "metadata": {},
     "output_type": "display_data"
    },
    {
     "data": {
      "text/html": [
       "<a href=http://www.cdep.ro/pls/steno/evot2015.nominal?idv=22152>Vot 22152</a>: scor -0.000 "
      ],
      "text/plain": [
       "<IPython.core.display.HTML object>"
      ]
     },
     "metadata": {},
     "output_type": "display_data"
    },
    {
     "data": {
      "text/html": [
       "<a href=http://www.cdep.ro/pls/steno/evot2015.nominal?idv=22154>Vot 22154</a>: scor -0.000 "
      ],
      "text/plain": [
       "<IPython.core.display.HTML object>"
      ]
     },
     "metadata": {},
     "output_type": "display_data"
    },
    {
     "data": {
      "text/html": [
       "<a href=http://www.cdep.ro/pls/steno/evot2015.nominal?idv=16456>Vot 16456</a>: scor -0.000 "
      ],
      "text/plain": [
       "<IPython.core.display.HTML object>"
      ]
     },
     "metadata": {},
     "output_type": "display_data"
    },
    {
     "data": {
      "text/html": [
       "<a href=http://www.cdep.ro/pls/steno/evot2015.nominal?idv=17283>Vot 17283</a>: scor -0.000 "
      ],
      "text/plain": [
       "<IPython.core.display.HTML object>"
      ]
     },
     "metadata": {},
     "output_type": "display_data"
    },
    {
     "data": {
      "text/html": [
       "<a href=http://www.cdep.ro/pls/steno/evot2015.nominal?idv=17284>Vot 17284</a>: scor -0.000 "
      ],
      "text/plain": [
       "<IPython.core.display.HTML object>"
      ]
     },
     "metadata": {},
     "output_type": "display_data"
    },
    {
     "data": {
      "text/html": [
       "<a href=http://www.cdep.ro/pls/steno/evot2015.nominal?idv=22159>Vot 22159</a>: scor -0.000 "
      ],
      "text/plain": [
       "<IPython.core.display.HTML object>"
      ]
     },
     "metadata": {},
     "output_type": "display_data"
    },
    {
     "data": {
      "text/html": [
       "<a href=http://www.cdep.ro/pls/steno/evot2015.nominal?idv=16458>Vot 16458</a>: scor -0.000 "
      ],
      "text/plain": [
       "<IPython.core.display.HTML object>"
      ]
     },
     "metadata": {},
     "output_type": "display_data"
    },
    {
     "data": {
      "text/html": [
       "<a href=http://www.cdep.ro/pls/steno/evot2015.nominal?idv=16592>Vot 16592</a>: scor -0.000 "
      ],
      "text/plain": [
       "<IPython.core.display.HTML object>"
      ]
     },
     "metadata": {},
     "output_type": "display_data"
    },
    {
     "data": {
      "text/html": [
       "<a href=http://www.cdep.ro/pls/steno/evot2015.nominal?idv=19265>Vot 19265</a>: scor -0.000 "
      ],
      "text/plain": [
       "<IPython.core.display.HTML object>"
      ]
     },
     "metadata": {},
     "output_type": "display_data"
    },
    {
     "data": {
      "text/html": [
       "<a href=http://www.cdep.ro/pls/steno/evot2015.nominal?idv=16888>Vot 16888</a>: scor -0.000 "
      ],
      "text/plain": [
       "<IPython.core.display.HTML object>"
      ]
     },
     "metadata": {},
     "output_type": "display_data"
    },
    {
     "data": {
      "text/html": [
       "<a href=http://www.cdep.ro/pls/steno/evot2015.nominal?idv=19206>Vot 19206</a>: scor -0.000 "
      ],
      "text/plain": [
       "<IPython.core.display.HTML object>"
      ]
     },
     "metadata": {},
     "output_type": "display_data"
    },
    {
     "data": {
      "text/html": [
       "<a href=http://www.cdep.ro/pls/steno/evot2015.nominal?idv=19205>Vot 19205</a>: scor -0.000 "
      ],
      "text/plain": [
       "<IPython.core.display.HTML object>"
      ]
     },
     "metadata": {},
     "output_type": "display_data"
    },
    {
     "data": {
      "text/html": [
       "<a href=http://www.cdep.ro/pls/steno/evot2015.nominal?idv=16464>Vot 16464</a>: scor -0.000 "
      ],
      "text/plain": [
       "<IPython.core.display.HTML object>"
      ]
     },
     "metadata": {},
     "output_type": "display_data"
    },
    {
     "data": {
      "text/html": [
       "<a href=http://www.cdep.ro/pls/steno/evot2015.nominal?idv=16465>Vot 16465</a>: scor -0.000 "
      ],
      "text/plain": [
       "<IPython.core.display.HTML object>"
      ]
     },
     "metadata": {},
     "output_type": "display_data"
    },
    {
     "data": {
      "text/html": [
       "<a href=http://www.cdep.ro/pls/steno/evot2015.nominal?idv=16466>Vot 16466</a>: scor -0.000 "
      ],
      "text/plain": [
       "<IPython.core.display.HTML object>"
      ]
     },
     "metadata": {},
     "output_type": "display_data"
    },
    {
     "data": {
      "text/html": [
       "<a href=http://www.cdep.ro/pls/steno/evot2015.nominal?idv=19177>Vot 19177</a>: scor -0.000 "
      ],
      "text/plain": [
       "<IPython.core.display.HTML object>"
      ]
     },
     "metadata": {},
     "output_type": "display_data"
    },
    {
     "data": {
      "text/html": [
       "<a href=http://www.cdep.ro/pls/steno/evot2015.nominal?idv=19241>Vot 19241</a>: scor -0.000 "
      ],
      "text/plain": [
       "<IPython.core.display.HTML object>"
      ]
     },
     "metadata": {},
     "output_type": "display_data"
    },
    {
     "data": {
      "text/html": [
       "<a href=http://www.cdep.ro/pls/steno/evot2015.nominal?idv=19271>Vot 19271</a>: scor -0.000 "
      ],
      "text/plain": [
       "<IPython.core.display.HTML object>"
      ]
     },
     "metadata": {},
     "output_type": "display_data"
    },
    {
     "data": {
      "text/html": [
       "<a href=http://www.cdep.ro/pls/steno/evot2015.nominal?idv=16467>Vot 16467</a>: scor -0.000 "
      ],
      "text/plain": [
       "<IPython.core.display.HTML object>"
      ]
     },
     "metadata": {},
     "output_type": "display_data"
    },
    {
     "data": {
      "text/html": [
       "<a href=http://www.cdep.ro/pls/steno/evot2015.nominal?idv=19310>Vot 19310</a>: scor -0.000 "
      ],
      "text/plain": [
       "<IPython.core.display.HTML object>"
      ]
     },
     "metadata": {},
     "output_type": "display_data"
    },
    {
     "data": {
      "text/html": [
       "<a href=http://www.cdep.ro/pls/steno/evot2015.nominal?idv=19978>Vot 19978</a>: scor -0.000 "
      ],
      "text/plain": [
       "<IPython.core.display.HTML object>"
      ]
     },
     "metadata": {},
     "output_type": "display_data"
    },
    {
     "data": {
      "text/html": [
       "<a href=http://www.cdep.ro/pls/steno/evot2015.nominal?idv=16956>Vot 16956</a>: scor -0.000 "
      ],
      "text/plain": [
       "<IPython.core.display.HTML object>"
      ]
     },
     "metadata": {},
     "output_type": "display_data"
    },
    {
     "data": {
      "text/html": [
       "<a href=http://www.cdep.ro/pls/steno/evot2015.nominal?idv=16341>Vot 16341</a>: scor -0.000 "
      ],
      "text/plain": [
       "<IPython.core.display.HTML object>"
      ]
     },
     "metadata": {},
     "output_type": "display_data"
    },
    {
     "data": {
      "text/html": [
       "<a href=http://www.cdep.ro/pls/steno/evot2015.nominal?idv=16344>Vot 16344</a>: scor -0.000 "
      ],
      "text/plain": [
       "<IPython.core.display.HTML object>"
      ]
     },
     "metadata": {},
     "output_type": "display_data"
    },
    {
     "data": {
      "text/html": [
       "<a href=http://www.cdep.ro/pls/steno/evot2015.nominal?idv=19449>Vot 19449</a>: scor -0.000 "
      ],
      "text/plain": [
       "<IPython.core.display.HTML object>"
      ]
     },
     "metadata": {},
     "output_type": "display_data"
    },
    {
     "data": {
      "text/html": [
       "<a href=http://www.cdep.ro/pls/steno/evot2015.nominal?idv=19408>Vot 19408</a>: scor -0.000 "
      ],
      "text/plain": [
       "<IPython.core.display.HTML object>"
      ]
     },
     "metadata": {},
     "output_type": "display_data"
    },
    {
     "data": {
      "text/html": [
       "<a href=http://www.cdep.ro/pls/steno/evot2015.nominal?idv=19319>Vot 19319</a>: scor -0.000 "
      ],
      "text/plain": [
       "<IPython.core.display.HTML object>"
      ]
     },
     "metadata": {},
     "output_type": "display_data"
    },
    {
     "data": {
      "text/html": [
       "<a href=http://www.cdep.ro/pls/steno/evot2015.nominal?idv=19309>Vot 19309</a>: scor -0.000 "
      ],
      "text/plain": [
       "<IPython.core.display.HTML object>"
      ]
     },
     "metadata": {},
     "output_type": "display_data"
    },
    {
     "data": {
      "text/html": [
       "<a href=http://www.cdep.ro/pls/steno/evot2015.nominal?idv=16622>Vot 16622</a>: scor -0.000 "
      ],
      "text/plain": [
       "<IPython.core.display.HTML object>"
      ]
     },
     "metadata": {},
     "output_type": "display_data"
    },
    {
     "data": {
      "text/html": [
       "<a href=http://www.cdep.ro/pls/steno/evot2015.nominal?idv=16914>Vot 16914</a>: scor -0.000 "
      ],
      "text/plain": [
       "<IPython.core.display.HTML object>"
      ]
     },
     "metadata": {},
     "output_type": "display_data"
    },
    {
     "data": {
      "text/html": [
       "<a href=http://www.cdep.ro/pls/steno/evot2015.nominal?idv=21331>Vot 21331</a>: scor -0.000 "
      ],
      "text/plain": [
       "<IPython.core.display.HTML object>"
      ]
     },
     "metadata": {},
     "output_type": "display_data"
    },
    {
     "data": {
      "text/html": [
       "<a href=http://www.cdep.ro/pls/steno/evot2015.nominal?idv=19283>Vot 19283</a>: scor -0.000 "
      ],
      "text/plain": [
       "<IPython.core.display.HTML object>"
      ]
     },
     "metadata": {},
     "output_type": "display_data"
    },
    {
     "data": {
      "text/html": [
       "<a href=http://www.cdep.ro/pls/steno/evot2015.nominal?idv=16913>Vot 16913</a>: scor -0.000 "
      ],
      "text/plain": [
       "<IPython.core.display.HTML object>"
      ]
     },
     "metadata": {},
     "output_type": "display_data"
    },
    {
     "data": {
      "text/html": [
       "<a href=http://www.cdep.ro/pls/steno/evot2015.nominal?idv=19278>Vot 19278</a>: scor -0.000 "
      ],
      "text/plain": [
       "<IPython.core.display.HTML object>"
      ]
     },
     "metadata": {},
     "output_type": "display_data"
    },
    {
     "data": {
      "text/html": [
       "<a href=http://www.cdep.ro/pls/steno/evot2015.nominal?idv=22080>Vot 22080</a>: scor -0.000 "
      ],
      "text/plain": [
       "<IPython.core.display.HTML object>"
      ]
     },
     "metadata": {},
     "output_type": "display_data"
    },
    {
     "data": {
      "text/html": [
       "<a href=http://www.cdep.ro/pls/steno/evot2015.nominal?idv=19275>Vot 19275</a>: scor -0.000 "
      ],
      "text/plain": [
       "<IPython.core.display.HTML object>"
      ]
     },
     "metadata": {},
     "output_type": "display_data"
    },
    {
     "data": {
      "text/html": [
       "<a href=http://www.cdep.ro/pls/steno/evot2015.nominal?idv=16884>Vot 16884</a>: scor -0.000 "
      ],
      "text/plain": [
       "<IPython.core.display.HTML object>"
      ]
     },
     "metadata": {},
     "output_type": "display_data"
    },
    {
     "data": {
      "text/html": [
       "<a href=http://www.cdep.ro/pls/steno/evot2015.nominal?idv=19173>Vot 19173</a>: scor -0.000 "
      ],
      "text/plain": [
       "<IPython.core.display.HTML object>"
      ]
     },
     "metadata": {},
     "output_type": "display_data"
    },
    {
     "data": {
      "text/html": [
       "<a href=http://www.cdep.ro/pls/steno/evot2015.nominal?idv=21119>Vot 21119</a>: scor -0.000 "
      ],
      "text/plain": [
       "<IPython.core.display.HTML object>"
      ]
     },
     "metadata": {},
     "output_type": "display_data"
    },
    {
     "data": {
      "text/html": [
       "<a href=http://www.cdep.ro/pls/steno/evot2015.nominal?idv=19000>Vot 19000</a>: scor -0.000 "
      ],
      "text/plain": [
       "<IPython.core.display.HTML object>"
      ]
     },
     "metadata": {},
     "output_type": "display_data"
    },
    {
     "data": {
      "text/html": [
       "<a href=http://www.cdep.ro/pls/steno/evot2015.nominal?idv=16873>Vot 16873</a>: scor -0.000 "
      ],
      "text/plain": [
       "<IPython.core.display.HTML object>"
      ]
     },
     "metadata": {},
     "output_type": "display_data"
    },
    {
     "data": {
      "text/html": [
       "<a href=http://www.cdep.ro/pls/steno/evot2015.nominal?idv=22265>Vot 22265</a>: scor -0.000 "
      ],
      "text/plain": [
       "<IPython.core.display.HTML object>"
      ]
     },
     "metadata": {},
     "output_type": "display_data"
    },
    {
     "data": {
      "text/html": [
       "<a href=http://www.cdep.ro/pls/steno/evot2015.nominal?idv=22266>Vot 22266</a>: scor -0.000 "
      ],
      "text/plain": [
       "<IPython.core.display.HTML object>"
      ]
     },
     "metadata": {},
     "output_type": "display_data"
    },
    {
     "data": {
      "text/html": [
       "<a href=http://www.cdep.ro/pls/steno/evot2015.nominal?idv=22900>Vot 22900</a>: scor -0.000 "
      ],
      "text/plain": [
       "<IPython.core.display.HTML object>"
      ]
     },
     "metadata": {},
     "output_type": "display_data"
    },
    {
     "data": {
      "text/html": [
       "<a href=http://www.cdep.ro/pls/steno/evot2015.nominal?idv=22268>Vot 22268</a>: scor -0.000 "
      ],
      "text/plain": [
       "<IPython.core.display.HTML object>"
      ]
     },
     "metadata": {},
     "output_type": "display_data"
    },
    {
     "data": {
      "text/html": [
       "<a href=http://www.cdep.ro/pls/steno/evot2015.nominal?idv=22269>Vot 22269</a>: scor -0.000 "
      ],
      "text/plain": [
       "<IPython.core.display.HTML object>"
      ]
     },
     "metadata": {},
     "output_type": "display_data"
    },
    {
     "data": {
      "text/html": [
       "<a href=http://www.cdep.ro/pls/steno/evot2015.nominal?idv=17334>Vot 17334</a>: scor -0.000 "
      ],
      "text/plain": [
       "<IPython.core.display.HTML object>"
      ]
     },
     "metadata": {},
     "output_type": "display_data"
    },
    {
     "data": {
      "text/html": [
       "<a href=http://www.cdep.ro/pls/steno/evot2015.nominal?idv=18999>Vot 18999</a>: scor -0.000 "
      ],
      "text/plain": [
       "<IPython.core.display.HTML object>"
      ]
     },
     "metadata": {},
     "output_type": "display_data"
    },
    {
     "data": {
      "text/html": [
       "<a href=http://www.cdep.ro/pls/steno/evot2015.nominal?idv=22242>Vot 22242</a>: scor -0.000 "
      ],
      "text/plain": [
       "<IPython.core.display.HTML object>"
      ]
     },
     "metadata": {},
     "output_type": "display_data"
    },
    {
     "data": {
      "text/html": [
       "<a href=http://www.cdep.ro/pls/steno/evot2015.nominal?idv=16501>Vot 16501</a>: scor -0.000 "
      ],
      "text/plain": [
       "<IPython.core.display.HTML object>"
      ]
     },
     "metadata": {},
     "output_type": "display_data"
    },
    {
     "data": {
      "text/html": [
       "<a href=http://www.cdep.ro/pls/steno/evot2015.nominal?idv=18943>Vot 18943</a>: scor -0.000 "
      ],
      "text/plain": [
       "<IPython.core.display.HTML object>"
      ]
     },
     "metadata": {},
     "output_type": "display_data"
    },
    {
     "data": {
      "text/html": [
       "<a href=http://www.cdep.ro/pls/steno/evot2015.nominal?idv=22305>Vot 22305</a>: scor -0.000 "
      ],
      "text/plain": [
       "<IPython.core.display.HTML object>"
      ]
     },
     "metadata": {},
     "output_type": "display_data"
    },
    {
     "data": {
      "text/html": [
       "<a href=http://www.cdep.ro/pls/steno/evot2015.nominal?idv=18942>Vot 18942</a>: scor -0.000 "
      ],
      "text/plain": [
       "<IPython.core.display.HTML object>"
      ]
     },
     "metadata": {},
     "output_type": "display_data"
    },
    {
     "data": {
      "text/html": [
       "<a href=http://www.cdep.ro/pls/steno/evot2015.nominal?idv=16155>Vot 16155</a>: scor -0.000 "
      ],
      "text/plain": [
       "<IPython.core.display.HTML object>"
      ]
     },
     "metadata": {},
     "output_type": "display_data"
    },
    {
     "data": {
      "text/html": [
       "<a href=http://www.cdep.ro/pls/steno/evot2015.nominal?idv=16847>Vot 16847</a>: scor -0.000 "
      ],
      "text/plain": [
       "<IPython.core.display.HTML object>"
      ]
     },
     "metadata": {},
     "output_type": "display_data"
    },
    {
     "data": {
      "text/html": [
       "<a href=http://www.cdep.ro/pls/steno/evot2015.nominal?idv=22310>Vot 22310</a>: scor -0.000 "
      ],
      "text/plain": [
       "<IPython.core.display.HTML object>"
      ]
     },
     "metadata": {},
     "output_type": "display_data"
    },
    {
     "data": {
      "text/html": [
       "<a href=http://www.cdep.ro/pls/steno/evot2015.nominal?idv=22248>Vot 22248</a>: scor -0.000 "
      ],
      "text/plain": [
       "<IPython.core.display.HTML object>"
      ]
     },
     "metadata": {},
     "output_type": "display_data"
    },
    {
     "data": {
      "text/html": [
       "<a href=http://www.cdep.ro/pls/steno/evot2015.nominal?idv=19069>Vot 19069</a>: scor -0.000 "
      ],
      "text/plain": [
       "<IPython.core.display.HTML object>"
      ]
     },
     "metadata": {},
     "output_type": "display_data"
    },
    {
     "data": {
      "text/html": [
       "<a href=http://www.cdep.ro/pls/steno/evot2015.nominal?idv=19172>Vot 19172</a>: scor -0.000 "
      ],
      "text/plain": [
       "<IPython.core.display.HTML object>"
      ]
     },
     "metadata": {},
     "output_type": "display_data"
    },
    {
     "data": {
      "text/html": [
       "<a href=http://www.cdep.ro/pls/steno/evot2015.nominal?idv=16488>Vot 16488</a>: scor -0.000 "
      ],
      "text/plain": [
       "<IPython.core.display.HTML object>"
      ]
     },
     "metadata": {},
     "output_type": "display_data"
    },
    {
     "data": {
      "text/html": [
       "<a href=http://www.cdep.ro/pls/steno/evot2015.nominal?idv=22192>Vot 22192</a>: scor -0.000 "
      ],
      "text/plain": [
       "<IPython.core.display.HTML object>"
      ]
     },
     "metadata": {},
     "output_type": "display_data"
    },
    {
     "data": {
      "text/html": [
       "<a href=http://www.cdep.ro/pls/steno/evot2015.nominal?idv=17305>Vot 17305</a>: scor -0.000 "
      ],
      "text/plain": [
       "<IPython.core.display.HTML object>"
      ]
     },
     "metadata": {},
     "output_type": "display_data"
    },
    {
     "data": {
      "text/html": [
       "<a href=http://www.cdep.ro/pls/steno/evot2015.nominal?idv=17306>Vot 17306</a>: scor -0.000 "
      ],
      "text/plain": [
       "<IPython.core.display.HTML object>"
      ]
     },
     "metadata": {},
     "output_type": "display_data"
    },
    {
     "data": {
      "text/html": [
       "<a href=http://www.cdep.ro/pls/steno/evot2015.nominal?idv=20731>Vot 20731</a>: scor -0.000 "
      ],
      "text/plain": [
       "<IPython.core.display.HTML object>"
      ]
     },
     "metadata": {},
     "output_type": "display_data"
    },
    {
     "data": {
      "text/html": [
       "<a href=http://www.cdep.ro/pls/steno/evot2015.nominal?idv=17307>Vot 17307</a>: scor -0.000 "
      ],
      "text/plain": [
       "<IPython.core.display.HTML object>"
      ]
     },
     "metadata": {},
     "output_type": "display_data"
    },
    {
     "data": {
      "text/html": [
       "<a href=http://www.cdep.ro/pls/steno/evot2015.nominal?idv=16878>Vot 16878</a>: scor -0.000 "
      ],
      "text/plain": [
       "<IPython.core.display.HTML object>"
      ]
     },
     "metadata": {},
     "output_type": "display_data"
    },
    {
     "data": {
      "text/html": [
       "<a href=http://www.cdep.ro/pls/steno/evot2015.nominal?idv=19091>Vot 19091</a>: scor -0.000 "
      ],
      "text/plain": [
       "<IPython.core.display.HTML object>"
      ]
     },
     "metadata": {},
     "output_type": "display_data"
    },
    {
     "data": {
      "text/html": [
       "<a href=http://www.cdep.ro/pls/steno/evot2015.nominal?idv=22230>Vot 22230</a>: scor -0.000 "
      ],
      "text/plain": [
       "<IPython.core.display.HTML object>"
      ]
     },
     "metadata": {},
     "output_type": "display_data"
    },
    {
     "data": {
      "text/html": [
       "<a href=http://www.cdep.ro/pls/steno/evot2015.nominal?idv=16875>Vot 16875</a>: scor -0.000 "
      ],
      "text/plain": [
       "<IPython.core.display.HTML object>"
      ]
     },
     "metadata": {},
     "output_type": "display_data"
    },
    {
     "data": {
      "text/html": [
       "<a href=http://www.cdep.ro/pls/steno/evot2015.nominal?idv=22231>Vot 22231</a>: scor -0.000 "
      ],
      "text/plain": [
       "<IPython.core.display.HTML object>"
      ]
     },
     "metadata": {},
     "output_type": "display_data"
    },
    {
     "data": {
      "text/html": [
       "<a href=http://www.cdep.ro/pls/steno/evot2015.nominal?idv=22232>Vot 22232</a>: scor -0.000 "
      ],
      "text/plain": [
       "<IPython.core.display.HTML object>"
      ]
     },
     "metadata": {},
     "output_type": "display_data"
    },
    {
     "data": {
      "text/html": [
       "<a href=http://www.cdep.ro/pls/steno/evot2015.nominal?idv=22233>Vot 22233</a>: scor -0.000 "
      ],
      "text/plain": [
       "<IPython.core.display.HTML object>"
      ]
     },
     "metadata": {},
     "output_type": "display_data"
    },
    {
     "data": {
      "text/html": [
       "<a href=http://www.cdep.ro/pls/steno/evot2015.nominal?idv=17317>Vot 17317</a>: scor -0.000 "
      ],
      "text/plain": [
       "<IPython.core.display.HTML object>"
      ]
     },
     "metadata": {},
     "output_type": "display_data"
    },
    {
     "data": {
      "text/html": [
       "<a href=http://www.cdep.ro/pls/steno/evot2015.nominal?idv=17319>Vot 17319</a>: scor -0.000 "
      ],
      "text/plain": [
       "<IPython.core.display.HTML object>"
      ]
     },
     "metadata": {},
     "output_type": "display_data"
    },
    {
     "data": {
      "text/html": [
       "<a href=http://www.cdep.ro/pls/steno/evot2015.nominal?idv=22237>Vot 22237</a>: scor -0.000 "
      ],
      "text/plain": [
       "<IPython.core.display.HTML object>"
      ]
     },
     "metadata": {},
     "output_type": "display_data"
    },
    {
     "data": {
      "text/html": [
       "<a href=http://www.cdep.ro/pls/steno/evot2015.nominal?idv=22238>Vot 22238</a>: scor -0.000 "
      ],
      "text/plain": [
       "<IPython.core.display.HTML object>"
      ]
     },
     "metadata": {},
     "output_type": "display_data"
    },
    {
     "data": {
      "text/html": [
       "<a href=http://www.cdep.ro/pls/steno/evot2015.nominal?idv=19980>Vot 19980</a>: scor -0.000 "
      ],
      "text/plain": [
       "<IPython.core.display.HTML object>"
      ]
     },
     "metadata": {},
     "output_type": "display_data"
    },
    {
     "data": {
      "text/html": [
       "<a href=http://www.cdep.ro/pls/steno/evot2015.nominal?idv=20090>Vot 20090</a>: scor -0.000 "
      ],
      "text/plain": [
       "<IPython.core.display.HTML object>"
      ]
     },
     "metadata": {},
     "output_type": "display_data"
    },
    {
     "data": {
      "text/html": [
       "<a href=http://www.cdep.ro/pls/steno/evot2015.nominal?idv=18893>Vot 18893</a>: scor -0.000 "
      ],
      "text/plain": [
       "<IPython.core.display.HTML object>"
      ]
     },
     "metadata": {},
     "output_type": "display_data"
    },
    {
     "data": {
      "text/html": [
       "<a href=http://www.cdep.ro/pls/steno/evot2015.nominal?idv=20594>Vot 20594</a>: scor -0.000 "
      ],
      "text/plain": [
       "<IPython.core.display.HTML object>"
      ]
     },
     "metadata": {},
     "output_type": "display_data"
    },
    {
     "data": {
      "text/html": [
       "<a href=http://www.cdep.ro/pls/steno/evot2015.nominal?idv=20640>Vot 20640</a>: scor -0.000 "
      ],
      "text/plain": [
       "<IPython.core.display.HTML object>"
      ]
     },
     "metadata": {},
     "output_type": "display_data"
    },
    {
     "data": {
      "text/html": [
       "<a href=http://www.cdep.ro/pls/steno/evot2015.nominal?idv=16284>Vot 16284</a>: scor -0.000 "
      ],
      "text/plain": [
       "<IPython.core.display.HTML object>"
      ]
     },
     "metadata": {},
     "output_type": "display_data"
    },
    {
     "data": {
      "text/html": [
       "<a href=http://www.cdep.ro/pls/steno/evot2015.nominal?idv=20600>Vot 20600</a>: scor -0.000 "
      ],
      "text/plain": [
       "<IPython.core.display.HTML object>"
      ]
     },
     "metadata": {},
     "output_type": "display_data"
    },
    {
     "data": {
      "text/html": [
       "<a href=http://www.cdep.ro/pls/steno/evot2015.nominal?idv=20597>Vot 20597</a>: scor -0.000 "
      ],
      "text/plain": [
       "<IPython.core.display.HTML object>"
      ]
     },
     "metadata": {},
     "output_type": "display_data"
    },
    {
     "data": {
      "text/html": [
       "<a href=http://www.cdep.ro/pls/steno/evot2015.nominal?idv=20984>Vot 20984</a>: scor -0.000 "
      ],
      "text/plain": [
       "<IPython.core.display.HTML object>"
      ]
     },
     "metadata": {},
     "output_type": "display_data"
    },
    {
     "data": {
      "text/html": [
       "<a href=http://www.cdep.ro/pls/steno/evot2015.nominal?idv=20596>Vot 20596</a>: scor -0.000 "
      ],
      "text/plain": [
       "<IPython.core.display.HTML object>"
      ]
     },
     "metadata": {},
     "output_type": "display_data"
    },
    {
     "data": {
      "text/html": [
       "<a href=http://www.cdep.ro/pls/steno/evot2015.nominal?idv=17019>Vot 17019</a>: scor -0.000 "
      ],
      "text/plain": [
       "<IPython.core.display.HTML object>"
      ]
     },
     "metadata": {},
     "output_type": "display_data"
    },
    {
     "data": {
      "text/html": [
       "<a href=http://www.cdep.ro/pls/steno/evot2015.nominal?idv=17017>Vot 17017</a>: scor -0.000 "
      ],
      "text/plain": [
       "<IPython.core.display.HTML object>"
      ]
     },
     "metadata": {},
     "output_type": "display_data"
    },
    {
     "data": {
      "text/html": [
       "<a href=http://www.cdep.ro/pls/steno/evot2015.nominal?idv=17022>Vot 17022</a>: scor -0.000 "
      ],
      "text/plain": [
       "<IPython.core.display.HTML object>"
      ]
     },
     "metadata": {},
     "output_type": "display_data"
    },
    {
     "data": {
      "text/html": [
       "<a href=http://www.cdep.ro/pls/steno/evot2015.nominal?idv=20989>Vot 20989</a>: scor -0.000 "
      ],
      "text/plain": [
       "<IPython.core.display.HTML object>"
      ]
     },
     "metadata": {},
     "output_type": "display_data"
    },
    {
     "data": {
      "text/html": [
       "<a href=http://www.cdep.ro/pls/steno/evot2015.nominal?idv=20593>Vot 20593</a>: scor -0.000 "
      ],
      "text/plain": [
       "<IPython.core.display.HTML object>"
      ]
     },
     "metadata": {},
     "output_type": "display_data"
    },
    {
     "data": {
      "text/html": [
       "<a href=http://www.cdep.ro/pls/steno/evot2015.nominal?idv=17016>Vot 17016</a>: scor -0.000 "
      ],
      "text/plain": [
       "<IPython.core.display.HTML object>"
      ]
     },
     "metadata": {},
     "output_type": "display_data"
    },
    {
     "data": {
      "text/html": [
       "<a href=http://www.cdep.ro/pls/steno/evot2015.nominal?idv=20995>Vot 20995</a>: scor -0.000 "
      ],
      "text/plain": [
       "<IPython.core.display.HTML object>"
      ]
     },
     "metadata": {},
     "output_type": "display_data"
    },
    {
     "data": {
      "text/html": [
       "<a href=http://www.cdep.ro/pls/steno/evot2015.nominal?idv=20562>Vot 20562</a>: scor -0.000 "
      ],
      "text/plain": [
       "<IPython.core.display.HTML object>"
      ]
     },
     "metadata": {},
     "output_type": "display_data"
    },
    {
     "data": {
      "text/html": [
       "<a href=http://www.cdep.ro/pls/steno/evot2015.nominal?idv=17015>Vot 17015</a>: scor -0.000 "
      ],
      "text/plain": [
       "<IPython.core.display.HTML object>"
      ]
     },
     "metadata": {},
     "output_type": "display_data"
    },
    {
     "data": {
      "text/html": [
       "<a href=http://www.cdep.ro/pls/steno/evot2015.nominal?idv=16290>Vot 16290</a>: scor -0.000 "
      ],
      "text/plain": [
       "<IPython.core.display.HTML object>"
      ]
     },
     "metadata": {},
     "output_type": "display_data"
    },
    {
     "data": {
      "text/html": [
       "<a href=http://www.cdep.ro/pls/steno/evot2015.nominal?idv=16283>Vot 16283</a>: scor -0.000 "
      ],
      "text/plain": [
       "<IPython.core.display.HTML object>"
      ]
     },
     "metadata": {},
     "output_type": "display_data"
    },
    {
     "data": {
      "text/html": [
       "<a href=http://www.cdep.ro/pls/steno/evot2015.nominal?idv=17024>Vot 17024</a>: scor -0.000 "
      ],
      "text/plain": [
       "<IPython.core.display.HTML object>"
      ]
     },
     "metadata": {},
     "output_type": "display_data"
    },
    {
     "data": {
      "text/html": [
       "<a href=http://www.cdep.ro/pls/steno/evot2015.nominal?idv=20523>Vot 20523</a>: scor -0.000 "
      ],
      "text/plain": [
       "<IPython.core.display.HTML object>"
      ]
     },
     "metadata": {},
     "output_type": "display_data"
    },
    {
     "data": {
      "text/html": [
       "<a href=http://www.cdep.ro/pls/steno/evot2015.nominal?idv=20707>Vot 20707</a>: scor -0.000 "
      ],
      "text/plain": [
       "<IPython.core.display.HTML object>"
      ]
     },
     "metadata": {},
     "output_type": "display_data"
    },
    {
     "data": {
      "text/html": [
       "<a href=http://www.cdep.ro/pls/steno/evot2015.nominal?idv=20737>Vot 20737</a>: scor -0.000 "
      ],
      "text/plain": [
       "<IPython.core.display.HTML object>"
      ]
     },
     "metadata": {},
     "output_type": "display_data"
    },
    {
     "data": {
      "text/html": [
       "<a href=http://www.cdep.ro/pls/steno/evot2015.nominal?idv=20738>Vot 20738</a>: scor -0.000 "
      ],
      "text/plain": [
       "<IPython.core.display.HTML object>"
      ]
     },
     "metadata": {},
     "output_type": "display_data"
    },
    {
     "data": {
      "text/html": [
       "<a href=http://www.cdep.ro/pls/steno/evot2015.nominal?idv=16249>Vot 16249</a>: scor -0.000 "
      ],
      "text/plain": [
       "<IPython.core.display.HTML object>"
      ]
     },
     "metadata": {},
     "output_type": "display_data"
    },
    {
     "data": {
      "text/html": [
       "<a href=http://www.cdep.ro/pls/steno/evot2015.nominal?idv=20812>Vot 20812</a>: scor -0.000 "
      ],
      "text/plain": [
       "<IPython.core.display.HTML object>"
      ]
     },
     "metadata": {},
     "output_type": "display_data"
    },
    {
     "data": {
      "text/html": [
       "<a href=http://www.cdep.ro/pls/steno/evot2015.nominal?idv=17080>Vot 17080</a>: scor -0.000 "
      ],
      "text/plain": [
       "<IPython.core.display.HTML object>"
      ]
     },
     "metadata": {},
     "output_type": "display_data"
    },
    {
     "data": {
      "text/html": [
       "<a href=http://www.cdep.ro/pls/steno/evot2015.nominal?idv=16242>Vot 16242</a>: scor -0.000 "
      ],
      "text/plain": [
       "<IPython.core.display.HTML object>"
      ]
     },
     "metadata": {},
     "output_type": "display_data"
    },
    {
     "data": {
      "text/html": [
       "<a href=http://www.cdep.ro/pls/steno/evot2015.nominal?idv=20817>Vot 20817</a>: scor -0.000 "
      ],
      "text/plain": [
       "<IPython.core.display.HTML object>"
      ]
     },
     "metadata": {},
     "output_type": "display_data"
    },
    {
     "data": {
      "text/html": [
       "<a href=http://www.cdep.ro/pls/steno/evot2015.nominal?idv=16276>Vot 16276</a>: scor -0.000 "
      ],
      "text/plain": [
       "<IPython.core.display.HTML object>"
      ]
     },
     "metadata": {},
     "output_type": "display_data"
    },
    {
     "data": {
      "text/html": [
       "<a href=http://www.cdep.ro/pls/steno/evot2015.nominal?idv=20646>Vot 20646</a>: scor -0.000 "
      ],
      "text/plain": [
       "<IPython.core.display.HTML object>"
      ]
     },
     "metadata": {},
     "output_type": "display_data"
    },
    {
     "data": {
      "text/html": [
       "<a href=http://www.cdep.ro/pls/steno/evot2015.nominal?idv=16277>Vot 16277</a>: scor -0.000 "
      ],
      "text/plain": [
       "<IPython.core.display.HTML object>"
      ]
     },
     "metadata": {},
     "output_type": "display_data"
    },
    {
     "data": {
      "text/html": [
       "<a href=http://www.cdep.ro/pls/steno/evot2015.nominal?idv=16240>Vot 16240</a>: scor -0.000 "
      ],
      "text/plain": [
       "<IPython.core.display.HTML object>"
      ]
     },
     "metadata": {},
     "output_type": "display_data"
    },
    {
     "data": {
      "text/html": [
       "<a href=http://www.cdep.ro/pls/steno/evot2015.nominal?idv=16239>Vot 16239</a>: scor -0.000 "
      ],
      "text/plain": [
       "<IPython.core.display.HTML object>"
      ]
     },
     "metadata": {},
     "output_type": "display_data"
    },
    {
     "data": {
      "text/html": [
       "<a href=http://www.cdep.ro/pls/steno/evot2015.nominal?idv=20660>Vot 20660</a>: scor -0.000 "
      ],
      "text/plain": [
       "<IPython.core.display.HTML object>"
      ]
     },
     "metadata": {},
     "output_type": "display_data"
    },
    {
     "data": {
      "text/html": [
       "<a href=http://www.cdep.ro/pls/steno/evot2015.nominal?idv=20658>Vot 20658</a>: scor -0.000 "
      ],
      "text/plain": [
       "<IPython.core.display.HTML object>"
      ]
     },
     "metadata": {},
     "output_type": "display_data"
    },
    {
     "data": {
      "text/html": [
       "<a href=http://www.cdep.ro/pls/steno/evot2015.nominal?idv=20655>Vot 20655</a>: scor -0.000 "
      ],
      "text/plain": [
       "<IPython.core.display.HTML object>"
      ]
     },
     "metadata": {},
     "output_type": "display_data"
    },
    {
     "data": {
      "text/html": [
       "<a href=http://www.cdep.ro/pls/steno/evot2015.nominal?idv=20654>Vot 20654</a>: scor -0.000 "
      ],
      "text/plain": [
       "<IPython.core.display.HTML object>"
      ]
     },
     "metadata": {},
     "output_type": "display_data"
    },
    {
     "data": {
      "text/html": [
       "<a href=http://www.cdep.ro/pls/steno/evot2015.nominal?idv=17014>Vot 17014</a>: scor -0.000 "
      ],
      "text/plain": [
       "<IPython.core.display.HTML object>"
      ]
     },
     "metadata": {},
     "output_type": "display_data"
    },
    {
     "data": {
      "text/html": [
       "<a href=http://www.cdep.ro/pls/steno/evot2015.nominal?idv=21024>Vot 21024</a>: scor -0.000 "
      ],
      "text/plain": [
       "<IPython.core.display.HTML object>"
      ]
     },
     "metadata": {},
     "output_type": "display_data"
    },
    {
     "data": {
      "text/html": [
       "<a href=http://www.cdep.ro/pls/steno/evot2015.nominal?idv=21111>Vot 21111</a>: scor -0.000 "
      ],
      "text/plain": [
       "<IPython.core.display.HTML object>"
      ]
     },
     "metadata": {},
     "output_type": "display_data"
    },
    {
     "data": {
      "text/html": [
       "<a href=http://www.cdep.ro/pls/steno/evot2015.nominal?idv=16308>Vot 16308</a>: scor -0.000 "
      ],
      "text/plain": [
       "<IPython.core.display.HTML object>"
      ]
     },
     "metadata": {},
     "output_type": "display_data"
    },
    {
     "data": {
      "text/html": [
       "<a href=http://www.cdep.ro/pls/steno/evot2015.nominal?idv=20434>Vot 20434</a>: scor -0.000 "
      ],
      "text/plain": [
       "<IPython.core.display.HTML object>"
      ]
     },
     "metadata": {},
     "output_type": "display_data"
    },
    {
     "data": {
      "text/html": [
       "<a href=http://www.cdep.ro/pls/steno/evot2015.nominal?idv=16304>Vot 16304</a>: scor -0.000 "
      ],
      "text/plain": [
       "<IPython.core.display.HTML object>"
      ]
     },
     "metadata": {},
     "output_type": "display_data"
    },
    {
     "data": {
      "text/html": [
       "<a href=http://www.cdep.ro/pls/steno/evot2015.nominal?idv=21081>Vot 21081</a>: scor -0.000 "
      ],
      "text/plain": [
       "<IPython.core.display.HTML object>"
      ]
     },
     "metadata": {},
     "output_type": "display_data"
    },
    {
     "data": {
      "text/html": [
       "<a href=http://www.cdep.ro/pls/steno/evot2015.nominal?idv=20340>Vot 20340</a>: scor -0.000 "
      ],
      "text/plain": [
       "<IPython.core.display.HTML object>"
      ]
     },
     "metadata": {},
     "output_type": "display_data"
    },
    {
     "data": {
      "text/html": [
       "<a href=http://www.cdep.ro/pls/steno/evot2015.nominal?idv=21083>Vot 21083</a>: scor -0.000 "
      ],
      "text/plain": [
       "<IPython.core.display.HTML object>"
      ]
     },
     "metadata": {},
     "output_type": "display_data"
    },
    {
     "data": {
      "text/html": [
       "<a href=http://www.cdep.ro/pls/steno/evot2015.nominal?idv=16306>Vot 16306</a>: scor -0.000 "
      ],
      "text/plain": [
       "<IPython.core.display.HTML object>"
      ]
     },
     "metadata": {},
     "output_type": "display_data"
    },
    {
     "data": {
      "text/html": [
       "<a href=http://www.cdep.ro/pls/steno/evot2015.nominal?idv=21086>Vot 21086</a>: scor -0.000 "
      ],
      "text/plain": [
       "<IPython.core.display.HTML object>"
      ]
     },
     "metadata": {},
     "output_type": "display_data"
    },
    {
     "data": {
      "text/html": [
       "<a href=http://www.cdep.ro/pls/steno/evot2015.nominal?idv=20317>Vot 20317</a>: scor -0.000 "
      ],
      "text/plain": [
       "<IPython.core.display.HTML object>"
      ]
     },
     "metadata": {},
     "output_type": "display_data"
    },
    {
     "data": {
      "text/html": [
       "<a href=http://www.cdep.ro/pls/steno/evot2015.nominal?idv=17225>Vot 17225</a>: scor -0.000 "
      ],
      "text/plain": [
       "<IPython.core.display.HTML object>"
      ]
     },
     "metadata": {},
     "output_type": "display_data"
    },
    {
     "data": {
      "text/html": [
       "<a href=http://www.cdep.ro/pls/steno/evot2015.nominal?idv=21093>Vot 21093</a>: scor -0.000 "
      ],
      "text/plain": [
       "<IPython.core.display.HTML object>"
      ]
     },
     "metadata": {},
     "output_type": "display_data"
    },
    {
     "data": {
      "text/html": [
       "<a href=http://www.cdep.ro/pls/steno/evot2015.nominal?idv=21094>Vot 21094</a>: scor -0.000 "
      ],
      "text/plain": [
       "<IPython.core.display.HTML object>"
      ]
     },
     "metadata": {},
     "output_type": "display_data"
    },
    {
     "data": {
      "text/html": [
       "<a href=http://www.cdep.ro/pls/steno/evot2015.nominal?idv=16325>Vot 16325</a>: scor -0.000 "
      ],
      "text/plain": [
       "<IPython.core.display.HTML object>"
      ]
     },
     "metadata": {},
     "output_type": "display_data"
    },
    {
     "data": {
      "text/html": [
       "<a href=http://www.cdep.ro/pls/steno/evot2015.nominal?idv=21104>Vot 21104</a>: scor -0.000 "
      ],
      "text/plain": [
       "<IPython.core.display.HTML object>"
      ]
     },
     "metadata": {},
     "output_type": "display_data"
    },
    {
     "data": {
      "text/html": [
       "<a href=http://www.cdep.ro/pls/steno/evot2015.nominal?idv=21105>Vot 21105</a>: scor -0.000 "
      ],
      "text/plain": [
       "<IPython.core.display.HTML object>"
      ]
     },
     "metadata": {},
     "output_type": "display_data"
    },
    {
     "data": {
      "text/html": [
       "<a href=http://www.cdep.ro/pls/steno/evot2015.nominal?idv=21106>Vot 21106</a>: scor -0.000 "
      ],
      "text/plain": [
       "<IPython.core.display.HTML object>"
      ]
     },
     "metadata": {},
     "output_type": "display_data"
    },
    {
     "data": {
      "text/html": [
       "<a href=http://www.cdep.ro/pls/steno/evot2015.nominal?idv=21107>Vot 21107</a>: scor -0.000 "
      ],
      "text/plain": [
       "<IPython.core.display.HTML object>"
      ]
     },
     "metadata": {},
     "output_type": "display_data"
    },
    {
     "data": {
      "text/html": [
       "<a href=http://www.cdep.ro/pls/steno/evot2015.nominal?idv=20437>Vot 20437</a>: scor -0.000 "
      ],
      "text/plain": [
       "<IPython.core.display.HTML object>"
      ]
     },
     "metadata": {},
     "output_type": "display_data"
    },
    {
     "data": {
      "text/html": [
       "<a href=http://www.cdep.ro/pls/steno/evot2015.nominal?idv=20442>Vot 20442</a>: scor -0.000 "
      ],
      "text/plain": [
       "<IPython.core.display.HTML object>"
      ]
     },
     "metadata": {},
     "output_type": "display_data"
    },
    {
     "data": {
      "text/html": [
       "<a href=http://www.cdep.ro/pls/steno/evot2015.nominal?idv=20522>Vot 20522</a>: scor -0.000 "
      ],
      "text/plain": [
       "<IPython.core.display.HTML object>"
      ]
     },
     "metadata": {},
     "output_type": "display_data"
    },
    {
     "data": {
      "text/html": [
       "<a href=http://www.cdep.ro/pls/steno/evot2015.nominal?idv=21036>Vot 21036</a>: scor -0.000 "
      ],
      "text/plain": [
       "<IPython.core.display.HTML object>"
      ]
     },
     "metadata": {},
     "output_type": "display_data"
    },
    {
     "data": {
      "text/html": [
       "<a href=http://www.cdep.ro/pls/steno/evot2015.nominal?idv=20521>Vot 20521</a>: scor -0.000 "
      ],
      "text/plain": [
       "<IPython.core.display.HTML object>"
      ]
     },
     "metadata": {},
     "output_type": "display_data"
    },
    {
     "data": {
      "text/html": [
       "<a href=http://www.cdep.ro/pls/steno/evot2015.nominal?idv=20499>Vot 20499</a>: scor -0.000 "
      ],
      "text/plain": [
       "<IPython.core.display.HTML object>"
      ]
     },
     "metadata": {},
     "output_type": "display_data"
    },
    {
     "data": {
      "text/html": [
       "<a href=http://www.cdep.ro/pls/steno/evot2015.nominal?idv=21030>Vot 21030</a>: scor -0.000 "
      ],
      "text/plain": [
       "<IPython.core.display.HTML object>"
      ]
     },
     "metadata": {},
     "output_type": "display_data"
    },
    {
     "data": {
      "text/html": [
       "<a href=http://www.cdep.ro/pls/steno/evot2015.nominal?idv=17000>Vot 17000</a>: scor -0.000 "
      ],
      "text/plain": [
       "<IPython.core.display.HTML object>"
      ]
     },
     "metadata": {},
     "output_type": "display_data"
    },
    {
     "data": {
      "text/html": [
       "<a href=http://www.cdep.ro/pls/steno/evot2015.nominal?idv=16997>Vot 16997</a>: scor -0.000 "
      ],
      "text/plain": [
       "<IPython.core.display.HTML object>"
      ]
     },
     "metadata": {},
     "output_type": "display_data"
    },
    {
     "data": {
      "text/html": [
       "<a href=http://www.cdep.ro/pls/steno/evot2015.nominal?idv=21034>Vot 21034</a>: scor -0.000 "
      ],
      "text/plain": [
       "<IPython.core.display.HTML object>"
      ]
     },
     "metadata": {},
     "output_type": "display_data"
    },
    {
     "data": {
      "text/html": [
       "<a href=http://www.cdep.ro/pls/steno/evot2015.nominal?idv=21035>Vot 21035</a>: scor -0.000 "
      ],
      "text/plain": [
       "<IPython.core.display.HTML object>"
      ]
     },
     "metadata": {},
     "output_type": "display_data"
    },
    {
     "data": {
      "text/html": [
       "<a href=http://www.cdep.ro/pls/steno/evot2015.nominal?idv=20474>Vot 20474</a>: scor -0.000 "
      ],
      "text/plain": [
       "<IPython.core.display.HTML object>"
      ]
     },
     "metadata": {},
     "output_type": "display_data"
    },
    {
     "data": {
      "text/html": [
       "<a href=http://www.cdep.ro/pls/steno/evot2015.nominal?idv=21047>Vot 21047</a>: scor -0.000 "
      ],
      "text/plain": [
       "<IPython.core.display.HTML object>"
      ]
     },
     "metadata": {},
     "output_type": "display_data"
    },
    {
     "data": {
      "text/html": [
       "<a href=http://www.cdep.ro/pls/steno/evot2015.nominal?idv=20473>Vot 20473</a>: scor -0.000 "
      ],
      "text/plain": [
       "<IPython.core.display.HTML object>"
      ]
     },
     "metadata": {},
     "output_type": "display_data"
    },
    {
     "data": {
      "text/html": [
       "<a href=http://www.cdep.ro/pls/steno/evot2015.nominal?idv=17223>Vot 17223</a>: scor -0.000 "
      ],
      "text/plain": [
       "<IPython.core.display.HTML object>"
      ]
     },
     "metadata": {},
     "output_type": "display_data"
    },
    {
     "data": {
      "text/html": [
       "<a href=http://www.cdep.ro/pls/steno/evot2015.nominal?idv=21041>Vot 21041</a>: scor -0.000 "
      ],
      "text/plain": [
       "<IPython.core.display.HTML object>"
      ]
     },
     "metadata": {},
     "output_type": "display_data"
    },
    {
     "data": {
      "text/html": [
       "<a href=http://www.cdep.ro/pls/steno/evot2015.nominal?idv=21042>Vot 21042</a>: scor -0.000 "
      ],
      "text/plain": [
       "<IPython.core.display.HTML object>"
      ]
     },
     "metadata": {},
     "output_type": "display_data"
    },
    {
     "data": {
      "text/html": [
       "<a href=http://www.cdep.ro/pls/steno/evot2015.nominal?idv=21043>Vot 21043</a>: scor -0.000 "
      ],
      "text/plain": [
       "<IPython.core.display.HTML object>"
      ]
     },
     "metadata": {},
     "output_type": "display_data"
    },
    {
     "data": {
      "text/html": [
       "<a href=http://www.cdep.ro/pls/steno/evot2015.nominal?idv=16227>Vot 16227</a>: scor -0.000 "
      ],
      "text/plain": [
       "<IPython.core.display.HTML object>"
      ]
     },
     "metadata": {},
     "output_type": "display_data"
    },
    {
     "data": {
      "text/html": [
       "<a href=http://www.cdep.ro/pls/steno/evot2015.nominal?idv=17224>Vot 17224</a>: scor -0.000 "
      ],
      "text/plain": [
       "<IPython.core.display.HTML object>"
      ]
     },
     "metadata": {},
     "output_type": "display_data"
    },
    {
     "data": {
      "text/html": [
       "<a href=http://www.cdep.ro/pls/steno/evot2015.nominal?idv=22315>Vot 22315</a>: scor -0.000 "
      ],
      "text/plain": [
       "<IPython.core.display.HTML object>"
      ]
     },
     "metadata": {},
     "output_type": "display_data"
    },
    {
     "data": {
      "text/html": [
       "<a href=http://www.cdep.ro/pls/steno/evot2015.nominal?idv=22197>Vot 22197</a>: scor -0.000 "
      ],
      "text/plain": [
       "<IPython.core.display.HTML object>"
      ]
     },
     "metadata": {},
     "output_type": "display_data"
    },
    {
     "data": {
      "text/html": [
       "<a href=http://www.cdep.ro/pls/steno/evot2015.nominal?idv=18892>Vot 18892</a>: scor -0.000 "
      ],
      "text/plain": [
       "<IPython.core.display.HTML object>"
      ]
     },
     "metadata": {},
     "output_type": "display_data"
    },
    {
     "data": {
      "text/html": [
       "<a href=http://www.cdep.ro/pls/steno/evot2015.nominal?idv=16783>Vot 16783</a>: scor -0.000 "
      ],
      "text/plain": [
       "<IPython.core.display.HTML object>"
      ]
     },
     "metadata": {},
     "output_type": "display_data"
    },
    {
     "data": {
      "text/html": [
       "<a href=http://www.cdep.ro/pls/steno/evot2015.nominal?idv=22734>Vot 22734</a>: scor -0.000 "
      ],
      "text/plain": [
       "<IPython.core.display.HTML object>"
      ]
     },
     "metadata": {},
     "output_type": "display_data"
    },
    {
     "data": {
      "text/html": [
       "<a href=http://www.cdep.ro/pls/steno/evot2015.nominal?idv=22717>Vot 22717</a>: scor -0.000 "
      ],
      "text/plain": [
       "<IPython.core.display.HTML object>"
      ]
     },
     "metadata": {},
     "output_type": "display_data"
    },
    {
     "data": {
      "text/html": [
       "<a href=http://www.cdep.ro/pls/steno/evot2015.nominal?idv=22711>Vot 22711</a>: scor -0.000 "
      ],
      "text/plain": [
       "<IPython.core.display.HTML object>"
      ]
     },
     "metadata": {},
     "output_type": "display_data"
    },
    {
     "data": {
      "text/html": [
       "<a href=http://www.cdep.ro/pls/steno/evot2015.nominal?idv=22707>Vot 22707</a>: scor -0.000 "
      ],
      "text/plain": [
       "<IPython.core.display.HTML object>"
      ]
     },
     "metadata": {},
     "output_type": "display_data"
    },
    {
     "data": {
      "text/html": [
       "<a href=http://www.cdep.ro/pls/steno/evot2015.nominal?idv=18634>Vot 18634</a>: scor -0.000 "
      ],
      "text/plain": [
       "<IPython.core.display.HTML object>"
      ]
     },
     "metadata": {},
     "output_type": "display_data"
    },
    {
     "data": {
      "text/html": [
       "<a href=http://www.cdep.ro/pls/steno/evot2015.nominal?idv=18635>Vot 18635</a>: scor -0.000 "
      ],
      "text/plain": [
       "<IPython.core.display.HTML object>"
      ]
     },
     "metadata": {},
     "output_type": "display_data"
    },
    {
     "data": {
      "text/html": [
       "<a href=http://www.cdep.ro/pls/steno/evot2015.nominal?idv=22664>Vot 22664</a>: scor -0.000 "
      ],
      "text/plain": [
       "<IPython.core.display.HTML object>"
      ]
     },
     "metadata": {},
     "output_type": "display_data"
    },
    {
     "data": {
      "text/html": [
       "<a href=http://www.cdep.ro/pls/steno/evot2015.nominal?idv=22660>Vot 22660</a>: scor -0.000 "
      ],
      "text/plain": [
       "<IPython.core.display.HTML object>"
      ]
     },
     "metadata": {},
     "output_type": "display_data"
    },
    {
     "data": {
      "text/html": [
       "<a href=http://www.cdep.ro/pls/steno/evot2015.nominal?idv=22659>Vot 22659</a>: scor -0.000 "
      ],
      "text/plain": [
       "<IPython.core.display.HTML object>"
      ]
     },
     "metadata": {},
     "output_type": "display_data"
    },
    {
     "data": {
      "text/html": [
       "<a href=http://www.cdep.ro/pls/steno/evot2015.nominal?idv=16674>Vot 16674</a>: scor -0.000 "
      ],
      "text/plain": [
       "<IPython.core.display.HTML object>"
      ]
     },
     "metadata": {},
     "output_type": "display_data"
    },
    {
     "data": {
      "text/html": [
       "<a href=http://www.cdep.ro/pls/steno/evot2015.nominal?idv=16675>Vot 16675</a>: scor -0.000 "
      ],
      "text/plain": [
       "<IPython.core.display.HTML object>"
      ]
     },
     "metadata": {},
     "output_type": "display_data"
    },
    {
     "data": {
      "text/html": [
       "<a href=http://www.cdep.ro/pls/steno/evot2015.nominal?idv=18657>Vot 18657</a>: scor -0.000 "
      ],
      "text/plain": [
       "<IPython.core.display.HTML object>"
      ]
     },
     "metadata": {},
     "output_type": "display_data"
    },
    {
     "data": {
      "text/html": [
       "<a href=http://www.cdep.ro/pls/steno/evot2015.nominal?idv=22641>Vot 22641</a>: scor -0.000 "
      ],
      "text/plain": [
       "<IPython.core.display.HTML object>"
      ]
     },
     "metadata": {},
     "output_type": "display_data"
    },
    {
     "data": {
      "text/html": [
       "<a href=http://www.cdep.ro/pls/steno/evot2015.nominal?idv=18658>Vot 18658</a>: scor -0.000 "
      ],
      "text/plain": [
       "<IPython.core.display.HTML object>"
      ]
     },
     "metadata": {},
     "output_type": "display_data"
    },
    {
     "data": {
      "text/html": [
       "<a href=http://www.cdep.ro/pls/steno/evot2015.nominal?idv=18660>Vot 18660</a>: scor -0.000 "
      ],
      "text/plain": [
       "<IPython.core.display.HTML object>"
      ]
     },
     "metadata": {},
     "output_type": "display_data"
    },
    {
     "data": {
      "text/html": [
       "<a href=http://www.cdep.ro/pls/steno/evot2015.nominal?idv=18661>Vot 18661</a>: scor -0.000 "
      ],
      "text/plain": [
       "<IPython.core.display.HTML object>"
      ]
     },
     "metadata": {},
     "output_type": "display_data"
    },
    {
     "data": {
      "text/html": [
       "<a href=http://www.cdep.ro/pls/steno/evot2015.nominal?idv=18662>Vot 18662</a>: scor -0.000 "
      ],
      "text/plain": [
       "<IPython.core.display.HTML object>"
      ]
     },
     "metadata": {},
     "output_type": "display_data"
    },
    {
     "data": {
      "text/html": [
       "<a href=http://www.cdep.ro/pls/steno/evot2015.nominal?idv=18665>Vot 18665</a>: scor -0.000 "
      ],
      "text/plain": [
       "<IPython.core.display.HTML object>"
      ]
     },
     "metadata": {},
     "output_type": "display_data"
    },
    {
     "data": {
      "text/html": [
       "<a href=http://www.cdep.ro/pls/steno/evot2015.nominal?idv=18666>Vot 18666</a>: scor -0.000 "
      ],
      "text/plain": [
       "<IPython.core.display.HTML object>"
      ]
     },
     "metadata": {},
     "output_type": "display_data"
    },
    {
     "data": {
      "text/html": [
       "<a href=http://www.cdep.ro/pls/steno/evot2015.nominal?idv=18668>Vot 18668</a>: scor -0.000 "
      ],
      "text/plain": [
       "<IPython.core.display.HTML object>"
      ]
     },
     "metadata": {},
     "output_type": "display_data"
    },
    {
     "data": {
      "text/html": [
       "<a href=http://www.cdep.ro/pls/steno/evot2015.nominal?idv=16535>Vot 16535</a>: scor -0.000 "
      ],
      "text/plain": [
       "<IPython.core.display.HTML object>"
      ]
     },
     "metadata": {},
     "output_type": "display_data"
    },
    {
     "data": {
      "text/html": [
       "<a href=http://www.cdep.ro/pls/steno/evot2015.nominal?idv=18703>Vot 18703</a>: scor -0.000 "
      ],
      "text/plain": [
       "<IPython.core.display.HTML object>"
      ]
     },
     "metadata": {},
     "output_type": "display_data"
    },
    {
     "data": {
      "text/html": [
       "<a href=http://www.cdep.ro/pls/steno/evot2015.nominal?idv=16533>Vot 16533</a>: scor -0.000 "
      ],
      "text/plain": [
       "<IPython.core.display.HTML object>"
      ]
     },
     "metadata": {},
     "output_type": "display_data"
    },
    {
     "data": {
      "text/html": [
       "<a href=http://www.cdep.ro/pls/steno/evot2015.nominal?idv=17361>Vot 17361</a>: scor -0.000 "
      ],
      "text/plain": [
       "<IPython.core.display.HTML object>"
      ]
     },
     "metadata": {},
     "output_type": "display_data"
    },
    {
     "data": {
      "text/html": [
       "<a href=http://www.cdep.ro/pls/steno/evot2015.nominal?idv=17359>Vot 17359</a>: scor -0.000 "
      ],
      "text/plain": [
       "<IPython.core.display.HTML object>"
      ]
     },
     "metadata": {},
     "output_type": "display_data"
    },
    {
     "data": {
      "text/html": [
       "<a href=http://www.cdep.ro/pls/steno/evot2015.nominal?idv=18769>Vot 18769</a>: scor -0.000 "
      ],
      "text/plain": [
       "<IPython.core.display.HTML object>"
      ]
     },
     "metadata": {},
     "output_type": "display_data"
    },
    {
     "data": {
      "text/html": [
       "<a href=http://www.cdep.ro/pls/steno/evot2015.nominal?idv=22524>Vot 22524</a>: scor -0.000 "
      ],
      "text/plain": [
       "<IPython.core.display.HTML object>"
      ]
     },
     "metadata": {},
     "output_type": "display_data"
    },
    {
     "data": {
      "text/html": [
       "<a href=http://www.cdep.ro/pls/steno/evot2015.nominal?idv=16531>Vot 16531</a>: scor -0.000 "
      ],
      "text/plain": [
       "<IPython.core.display.HTML object>"
      ]
     },
     "metadata": {},
     "output_type": "display_data"
    },
    {
     "data": {
      "text/html": [
       "<a href=http://www.cdep.ro/pls/steno/evot2015.nominal?idv=18784>Vot 18784</a>: scor -0.000 "
      ],
      "text/plain": [
       "<IPython.core.display.HTML object>"
      ]
     },
     "metadata": {},
     "output_type": "display_data"
    },
    {
     "data": {
      "text/html": [
       "<a href=http://www.cdep.ro/pls/steno/evot2015.nominal?idv=22735>Vot 22735</a>: scor -0.000 "
      ],
      "text/plain": [
       "<IPython.core.display.HTML object>"
      ]
     },
     "metadata": {},
     "output_type": "display_data"
    },
    {
     "data": {
      "text/html": [
       "<a href=http://www.cdep.ro/pls/steno/evot2015.nominal?idv=18577>Vot 18577</a>: scor -0.000 "
      ],
      "text/plain": [
       "<IPython.core.display.HTML object>"
      ]
     },
     "metadata": {},
     "output_type": "display_data"
    },
    {
     "data": {
      "text/html": [
       "<a href=http://www.cdep.ro/pls/steno/evot2015.nominal?idv=22737>Vot 22737</a>: scor -0.000 "
      ],
      "text/plain": [
       "<IPython.core.display.HTML object>"
      ]
     },
     "metadata": {},
     "output_type": "display_data"
    },
    {
     "data": {
      "text/html": [
       "<a href=http://www.cdep.ro/pls/steno/evot2015.nominal?idv=17471>Vot 17471</a>: scor -0.000 "
      ],
      "text/plain": [
       "<IPython.core.display.HTML object>"
      ]
     },
     "metadata": {},
     "output_type": "display_data"
    },
    {
     "data": {
      "text/html": [
       "<a href=http://www.cdep.ro/pls/steno/evot2015.nominal?idv=17403>Vot 17403</a>: scor -0.000 "
      ],
      "text/plain": [
       "<IPython.core.display.HTML object>"
      ]
     },
     "metadata": {},
     "output_type": "display_data"
    },
    {
     "data": {
      "text/html": [
       "<a href=http://www.cdep.ro/pls/steno/evot2015.nominal?idv=22897>Vot 22897</a>: scor -0.000 "
      ],
      "text/plain": [
       "<IPython.core.display.HTML object>"
      ]
     },
     "metadata": {},
     "output_type": "display_data"
    },
    {
     "data": {
      "text/html": [
       "<a href=http://www.cdep.ro/pls/steno/evot2015.nominal?idv=17414>Vot 17414</a>: scor -0.000 "
      ],
      "text/plain": [
       "<IPython.core.display.HTML object>"
      ]
     },
     "metadata": {},
     "output_type": "display_data"
    },
    {
     "data": {
      "text/html": [
       "<a href=http://www.cdep.ro/pls/steno/evot2015.nominal?idv=16571>Vot 16571</a>: scor -0.000 "
      ],
      "text/plain": [
       "<IPython.core.display.HTML object>"
      ]
     },
     "metadata": {},
     "output_type": "display_data"
    },
    {
     "data": {
      "text/html": [
       "<a href=http://www.cdep.ro/pls/steno/evot2015.nominal?idv=22893>Vot 22893</a>: scor -0.000 "
      ],
      "text/plain": [
       "<IPython.core.display.HTML object>"
      ]
     },
     "metadata": {},
     "output_type": "display_data"
    },
    {
     "data": {
      "text/html": [
       "<a href=http://www.cdep.ro/pls/steno/evot2015.nominal?idv=17398>Vot 17398</a>: scor -0.000 "
      ],
      "text/plain": [
       "<IPython.core.display.HTML object>"
      ]
     },
     "metadata": {},
     "output_type": "display_data"
    },
    {
     "data": {
      "text/html": [
       "<a href=http://www.cdep.ro/pls/steno/evot2015.nominal?idv=17451>Vot 17451</a>: scor -0.000 "
      ],
      "text/plain": [
       "<IPython.core.display.HTML object>"
      ]
     },
     "metadata": {},
     "output_type": "display_data"
    },
    {
     "data": {
      "text/html": [
       "<a href=http://www.cdep.ro/pls/steno/evot2015.nominal?idv=22870>Vot 22870</a>: scor -0.000 "
      ],
      "text/plain": [
       "<IPython.core.display.HTML object>"
      ]
     },
     "metadata": {},
     "output_type": "display_data"
    },
    {
     "data": {
      "text/html": [
       "<a href=http://www.cdep.ro/pls/steno/evot2015.nominal?idv=22869>Vot 22869</a>: scor -0.000 "
      ],
      "text/plain": [
       "<IPython.core.display.HTML object>"
      ]
     },
     "metadata": {},
     "output_type": "display_data"
    },
    {
     "data": {
      "text/html": [
       "<a href=http://www.cdep.ro/pls/steno/evot2015.nominal?idv=17397>Vot 17397</a>: scor -0.000 "
      ],
      "text/plain": [
       "<IPython.core.display.HTML object>"
      ]
     },
     "metadata": {},
     "output_type": "display_data"
    },
    {
     "data": {
      "text/html": [
       "<a href=http://www.cdep.ro/pls/steno/evot2015.nominal?idv=17470>Vot 17470</a>: scor -0.000 "
      ],
      "text/plain": [
       "<IPython.core.display.HTML object>"
      ]
     },
     "metadata": {},
     "output_type": "display_data"
    },
    {
     "data": {
      "text/html": [
       "<a href=http://www.cdep.ro/pls/steno/evot2015.nominal?idv=22866>Vot 22866</a>: scor -0.000 "
      ],
      "text/plain": [
       "<IPython.core.display.HTML object>"
      ]
     },
     "metadata": {},
     "output_type": "display_data"
    },
    {
     "data": {
      "text/html": [
       "<a href=http://www.cdep.ro/pls/steno/evot2015.nominal?idv=22865>Vot 22865</a>: scor -0.000 "
      ],
      "text/plain": [
       "<IPython.core.display.HTML object>"
      ]
     },
     "metadata": {},
     "output_type": "display_data"
    },
    {
     "data": {
      "text/html": [
       "<a href=http://www.cdep.ro/pls/steno/evot2015.nominal?idv=22862>Vot 22862</a>: scor -0.000 "
      ],
      "text/plain": [
       "<IPython.core.display.HTML object>"
      ]
     },
     "metadata": {},
     "output_type": "display_data"
    },
    {
     "data": {
      "text/html": [
       "<a href=http://www.cdep.ro/pls/steno/evot2015.nominal?idv=18576>Vot 18576</a>: scor -0.000 "
      ],
      "text/plain": [
       "<IPython.core.display.HTML object>"
      ]
     },
     "metadata": {},
     "output_type": "display_data"
    },
    {
     "data": {
      "text/html": [
       "<a href=http://www.cdep.ro/pls/steno/evot2015.nominal?idv=17396>Vot 17396</a>: scor -0.000 "
      ],
      "text/plain": [
       "<IPython.core.display.HTML object>"
      ]
     },
     "metadata": {},
     "output_type": "display_data"
    },
    {
     "data": {
      "text/html": [
       "<a href=http://www.cdep.ro/pls/steno/evot2015.nominal?idv=17392>Vot 17392</a>: scor -0.000 "
      ],
      "text/plain": [
       "<IPython.core.display.HTML object>"
      ]
     },
     "metadata": {},
     "output_type": "display_data"
    },
    {
     "data": {
      "text/html": [
       "<a href=http://www.cdep.ro/pls/steno/evot2015.nominal?idv=22857>Vot 22857</a>: scor -0.000 "
      ],
      "text/plain": [
       "<IPython.core.display.HTML object>"
      ]
     },
     "metadata": {},
     "output_type": "display_data"
    },
    {
     "data": {
      "text/html": [
       "<a href=http://www.cdep.ro/pls/steno/evot2015.nominal?idv=17479>Vot 17479</a>: scor -0.000 "
      ],
      "text/plain": [
       "<IPython.core.display.HTML object>"
      ]
     },
     "metadata": {},
     "output_type": "display_data"
    },
    {
     "data": {
      "text/html": [
       "<a href=http://www.cdep.ro/pls/steno/evot2015.nominal?idv=22855>Vot 22855</a>: scor -0.000 "
      ],
      "text/plain": [
       "<IPython.core.display.HTML object>"
      ]
     },
     "metadata": {},
     "output_type": "display_data"
    },
    {
     "data": {
      "text/html": [
       "<a href=http://www.cdep.ro/pls/steno/evot2015.nominal?idv=22854>Vot 22854</a>: scor -0.000 "
      ],
      "text/plain": [
       "<IPython.core.display.HTML object>"
      ]
     },
     "metadata": {},
     "output_type": "display_data"
    },
    {
     "data": {
      "text/html": [
       "<a href=http://www.cdep.ro/pls/steno/evot2015.nominal?idv=22853>Vot 22853</a>: scor -0.000 "
      ],
      "text/plain": [
       "<IPython.core.display.HTML object>"
      ]
     },
     "metadata": {},
     "output_type": "display_data"
    },
    {
     "data": {
      "text/html": [
       "<a href=http://www.cdep.ro/pls/steno/evot2015.nominal?idv=17481>Vot 17481</a>: scor -0.000 "
      ],
      "text/plain": [
       "<IPython.core.display.HTML object>"
      ]
     },
     "metadata": {},
     "output_type": "display_data"
    },
    {
     "data": {
      "text/html": [
       "<a href=http://www.cdep.ro/pls/steno/evot2015.nominal?idv=22848>Vot 22848</a>: scor -0.000 "
      ],
      "text/plain": [
       "<IPython.core.display.HTML object>"
      ]
     },
     "metadata": {},
     "output_type": "display_data"
    },
    {
     "data": {
      "text/html": [
       "<a href=http://www.cdep.ro/pls/steno/evot2015.nominal?idv=22847>Vot 22847</a>: scor -0.000 "
      ],
      "text/plain": [
       "<IPython.core.display.HTML object>"
      ]
     },
     "metadata": {},
     "output_type": "display_data"
    },
    {
     "data": {
      "text/html": [
       "<a href=http://www.cdep.ro/pls/steno/evot2015.nominal?idv=22846>Vot 22846</a>: scor -0.000 "
      ],
      "text/plain": [
       "<IPython.core.display.HTML object>"
      ]
     },
     "metadata": {},
     "output_type": "display_data"
    },
    {
     "data": {
      "text/html": [
       "<a href=http://www.cdep.ro/pls/steno/evot2015.nominal?idv=17483>Vot 17483</a>: scor -0.000 "
      ],
      "text/plain": [
       "<IPython.core.display.HTML object>"
      ]
     },
     "metadata": {},
     "output_type": "display_data"
    },
    {
     "data": {
      "text/html": [
       "<a href=http://www.cdep.ro/pls/steno/evot2015.nominal?idv=16667>Vot 16667</a>: scor -0.000 "
      ],
      "text/plain": [
       "<IPython.core.display.HTML object>"
      ]
     },
     "metadata": {},
     "output_type": "display_data"
    },
    {
     "data": {
      "text/html": [
       "<a href=http://www.cdep.ro/pls/steno/evot2015.nominal?idv=22520>Vot 22520</a>: scor -0.000 "
      ],
      "text/plain": [
       "<IPython.core.display.HTML object>"
      ]
     },
     "metadata": {},
     "output_type": "display_data"
    },
    {
     "data": {
      "text/html": [
       "<a href=http://www.cdep.ro/pls/steno/evot2015.nominal?idv=20735>Vot 20735</a>: scor -0.000 "
      ],
      "text/plain": [
       "<IPython.core.display.HTML object>"
      ]
     },
     "metadata": {},
     "output_type": "display_data"
    },
    {
     "data": {
      "text/html": [
       "<a href=http://www.cdep.ro/pls/steno/evot2015.nominal?idv=18785>Vot 18785</a>: scor -0.000 "
      ],
      "text/plain": [
       "<IPython.core.display.HTML object>"
      ]
     },
     "metadata": {},
     "output_type": "display_data"
    },
    {
     "data": {
      "text/html": [
       "<a href=http://www.cdep.ro/pls/steno/evot2015.nominal?idv=16802>Vot 16802</a>: scor -0.000 "
      ],
      "text/plain": [
       "<IPython.core.display.HTML object>"
      ]
     },
     "metadata": {},
     "output_type": "display_data"
    },
    {
     "data": {
      "text/html": [
       "<a href=http://www.cdep.ro/pls/steno/evot2015.nominal?idv=16791>Vot 16791</a>: scor -0.000 "
      ],
      "text/plain": [
       "<IPython.core.display.HTML object>"
      ]
     },
     "metadata": {},
     "output_type": "display_data"
    },
    {
     "data": {
      "text/html": [
       "<a href=http://www.cdep.ro/pls/steno/evot2015.nominal?idv=18831>Vot 18831</a>: scor -0.000 "
      ],
      "text/plain": [
       "<IPython.core.display.HTML object>"
      ]
     },
     "metadata": {},
     "output_type": "display_data"
    },
    {
     "data": {
      "text/html": [
       "<a href=http://www.cdep.ro/pls/steno/evot2015.nominal?idv=22470>Vot 22470</a>: scor -0.000 "
      ],
      "text/plain": [
       "<IPython.core.display.HTML object>"
      ]
     },
     "metadata": {},
     "output_type": "display_data"
    },
    {
     "data": {
      "text/html": [
       "<a href=http://www.cdep.ro/pls/steno/evot2015.nominal?idv=18833>Vot 18833</a>: scor -0.000 "
      ],
      "text/plain": [
       "<IPython.core.display.HTML object>"
      ]
     },
     "metadata": {},
     "output_type": "display_data"
    },
    {
     "data": {
      "text/html": [
       "<a href=http://www.cdep.ro/pls/steno/evot2015.nominal?idv=16796>Vot 16796</a>: scor -0.000 "
      ],
      "text/plain": [
       "<IPython.core.display.HTML object>"
      ]
     },
     "metadata": {},
     "output_type": "display_data"
    },
    {
     "data": {
      "text/html": [
       "<a href=http://www.cdep.ro/pls/steno/evot2015.nominal?idv=18834>Vot 18834</a>: scor -0.000 "
      ],
      "text/plain": [
       "<IPython.core.display.HTML object>"
      ]
     },
     "metadata": {},
     "output_type": "display_data"
    },
    {
     "data": {
      "text/html": [
       "<a href=http://www.cdep.ro/pls/steno/evot2015.nominal?idv=22423>Vot 22423</a>: scor -0.000 "
      ],
      "text/plain": [
       "<IPython.core.display.HTML object>"
      ]
     },
     "metadata": {},
     "output_type": "display_data"
    },
    {
     "data": {
      "text/html": [
       "<a href=http://www.cdep.ro/pls/steno/evot2015.nominal?idv=16528>Vot 16528</a>: scor -0.000 "
      ],
      "text/plain": [
       "<IPython.core.display.HTML object>"
      ]
     },
     "metadata": {},
     "output_type": "display_data"
    },
    {
     "data": {
      "text/html": [
       "<a href=http://www.cdep.ro/pls/steno/evot2015.nominal?idv=22419>Vot 22419</a>: scor -0.000 "
      ],
      "text/plain": [
       "<IPython.core.display.HTML object>"
      ]
     },
     "metadata": {},
     "output_type": "display_data"
    },
    {
     "data": {
      "text/html": [
       "<a href=http://www.cdep.ro/pls/steno/evot2015.nominal?idv=18793>Vot 18793</a>: scor -0.000 "
      ],
      "text/plain": [
       "<IPython.core.display.HTML object>"
      ]
     },
     "metadata": {},
     "output_type": "display_data"
    },
    {
     "data": {
      "text/html": [
       "<a href=http://www.cdep.ro/pls/steno/evot2015.nominal?idv=18872>Vot 18872</a>: scor -0.000 "
      ],
      "text/plain": [
       "<IPython.core.display.HTML object>"
      ]
     },
     "metadata": {},
     "output_type": "display_data"
    },
    {
     "data": {
      "text/html": [
       "<a href=http://www.cdep.ro/pls/steno/evot2015.nominal?idv=18875>Vot 18875</a>: scor -0.000 "
      ],
      "text/plain": [
       "<IPython.core.display.HTML object>"
      ]
     },
     "metadata": {},
     "output_type": "display_data"
    },
    {
     "data": {
      "text/html": [
       "<a href=http://www.cdep.ro/pls/steno/evot2015.nominal?idv=18843>Vot 18843</a>: scor -0.000 "
      ],
      "text/plain": [
       "<IPython.core.display.HTML object>"
      ]
     },
     "metadata": {},
     "output_type": "display_data"
    },
    {
     "data": {
      "text/html": [
       "<a href=http://www.cdep.ro/pls/steno/evot2015.nominal?idv=18888>Vot 18888</a>: scor -0.000 "
      ],
      "text/plain": [
       "<IPython.core.display.HTML object>"
      ]
     },
     "metadata": {},
     "output_type": "display_data"
    },
    {
     "data": {
      "text/html": [
       "<a href=http://www.cdep.ro/pls/steno/evot2015.nominal?idv=18789>Vot 18789</a>: scor -0.000 "
      ],
      "text/plain": [
       "<IPython.core.display.HTML object>"
      ]
     },
     "metadata": {},
     "output_type": "display_data"
    },
    {
     "data": {
      "text/html": [
       "<a href=http://www.cdep.ro/pls/steno/evot2015.nominal?idv=18890>Vot 18890</a>: scor -0.000 "
      ],
      "text/plain": [
       "<IPython.core.display.HTML object>"
      ]
     },
     "metadata": {},
     "output_type": "display_data"
    },
    {
     "data": {
      "text/html": [
       "<a href=http://www.cdep.ro/pls/steno/evot2015.nominal?idv=18889>Vot 18889</a>: scor -0.000 "
      ],
      "text/plain": [
       "<IPython.core.display.HTML object>"
      ]
     },
     "metadata": {},
     "output_type": "display_data"
    },
    {
     "data": {
      "text/html": [
       "<a href=http://www.cdep.ro/pls/steno/evot2015.nominal?idv=18788>Vot 18788</a>: scor -0.000 "
      ],
      "text/plain": [
       "<IPython.core.display.HTML object>"
      ]
     },
     "metadata": {},
     "output_type": "display_data"
    },
    {
     "data": {
      "text/html": [
       "<a href=http://www.cdep.ro/pls/steno/evot2015.nominal?idv=16589>Vot 16589</a>: scor -0.000 "
      ],
      "text/plain": [
       "<IPython.core.display.HTML object>"
      ]
     },
     "metadata": {},
     "output_type": "display_data"
    },
    {
     "data": {
      "text/html": [
       "<a href=http://www.cdep.ro/pls/steno/evot2015.nominal?idv=19989>Vot 19989</a>: scor -0.001 "
      ],
      "text/plain": [
       "<IPython.core.display.HTML object>"
      ]
     },
     "metadata": {},
     "output_type": "display_data"
    },
    {
     "data": {
      "text/html": [
       "<a href=http://www.cdep.ro/pls/steno/evot2015.nominal?idv=20133>Vot 20133</a>: scor -0.001 "
      ],
      "text/plain": [
       "<IPython.core.display.HTML object>"
      ]
     },
     "metadata": {},
     "output_type": "display_data"
    },
    {
     "data": {
      "text/html": [
       "<a href=http://www.cdep.ro/pls/steno/evot2015.nominal?idv=16275>Vot 16275</a>: scor -0.001 "
      ],
      "text/plain": [
       "<IPython.core.display.HTML object>"
      ]
     },
     "metadata": {},
     "output_type": "display_data"
    },
    {
     "data": {
      "text/html": [
       "<a href=http://www.cdep.ro/pls/steno/evot2015.nominal?idv=16282>Vot 16282</a>: scor -0.001 "
      ],
      "text/plain": [
       "<IPython.core.display.HTML object>"
      ]
     },
     "metadata": {},
     "output_type": "display_data"
    }
   ],
   "source": [
    "def normalize():\n",
    "    vot_relativ = grupate.copy()\n",
    "    sume = {}\n",
    "    for p in coloane_partide:\n",
    "        total_voturi = vot_relativ[p].sum(axis=1)\n",
    "        vot_relativ.loc[:, p] = vot_relativ.loc[:, p].divide(total_voturi, axis=0).values\n",
    "    return vot_relativ\n",
    "\n",
    "from IPython.core.display import display, HTML\n",
    "\n",
    "def detalii_vot(cod_cdep, scor):\n",
    "    display(HTML(f\"<a href=http://www.cdep.ro/pls/steno/evot2015.nominal?idv={cod_cdep}>Vot {cod_cdep}</a>: scor {scor:.3f} \"))\n",
    "\n",
    "def serie_link_cdep(serie, nr_top=10):\n",
    "    top = serie.sort_values(ascending=False).head(nr_top)\n",
    "    for cod, scor in zip(top.index, top):\n",
    "        detalii_vot(cod, scor)\n",
    "\n",
    "deviatie_medie = normalize().std(axis=1, level=1).mean(axis=1)\n",
    "        \n",
    "display(HTML('Voturi cu deviație mare'))\n",
    "serie_link_cdep(deviatie_medie, 20)\n",
    "\n",
    "display(HTML('Voturi cu deviație mică'))\n",
    "serie_link_cdep(-deviatie_medie, 250)\n"
   ]
  },
  {
   "cell_type": "markdown",
   "metadata": {},
   "source": [
    "# Similaritate între voturile partidelor\n",
    "\n",
    "Ce partide votează similar pentru aceleași subiecte?"
   ]
  },
  {
   "cell_type": "code",
   "execution_count": 6,
   "metadata": {},
   "outputs": [],
   "source": [
    "def diferente(p1, p2):\n",
    "    vot_relativ = normalize()\n",
    "    return abs(vot_relativ[p1] - vot_relativ[p2]).sum(axis=1)\n",
    "\n",
    "def sim(p1, p2):\n",
    "    return 1-(diferente(p1, p2)/2).mean()\n",
    "\n",
    "sim_mat = pd.DataFrame(0, index=coloane_partide, columns=coloane_partide)\n",
    "for p1 in coloane_partide:\n",
    "    for p2 in coloane_partide:\n",
    "        if not sim_mat.loc[p1, p2]:\n",
    "            s = sim(p1, p2)\n",
    "            sim_mat.loc[p1, p2] = s\n",
    "            sim_mat.loc[p2, p1] = s"
   ]
  },
  {
   "cell_type": "code",
   "execution_count": null,
   "metadata": {},
   "outputs": [],
   "source": [
    "import matplotlib.pyplot as plt\n",
    "plt.rcParams['figure.figsize'] = [6, 6]\n",
    "\n",
    "import seaborn as sns\n",
    "sns.set()\n",
    "ax = sns.heatmap(sim_mat, square=True)\n",
    "\n",
    "# https://stackoverflow.com/questions/56942670/matplotlib-seaborn-first-and-last-row-cut-in-half-of-heatmap-plot\n",
    "bottom, top = ax.get_ylim()\n",
    "ax.set_ylim(bottom + 0.5, top - 0.5)\n",
    "ax.set_title('Similaritate între voturile partidelor')"
   ]
  },
  {
   "cell_type": "markdown",
   "metadata": {},
   "source": [
    "# Ce înseamnă toate acestea?\n",
    "* Partidele sunt destul de similare (de exemplu, PSD și USR au votat similar la aprox. 70% din voturi).\n",
    "* Avem de unde alege (există diferențe importante în acele 30% rămase).\n",
    "* Urmăriți acest blog pentru partea a 2-a!"
   ]
  }
 ],
 "metadata": {
  "kernelspec": {
   "display_name": "Python 3",
   "language": "python",
   "name": "python3"
  },
  "language_info": {
   "codemirror_mode": {
    "name": "ipython",
    "version": 3
   },
   "file_extension": ".py",
   "mimetype": "text/x-python",
   "name": "python",
   "nbconvert_exporter": "python",
   "pygments_lexer": "ipython3",
   "version": "3.7.5rc1"
  },
  "widgets": {
   "state": {},
   "version": "1.1.2"
  }
 },
 "nbformat": 4,
 "nbformat_minor": 2
}
