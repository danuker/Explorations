{
 "cells": [
  {
   "cell_type": "code",
   "execution_count": 64,
   "metadata": {},
   "outputs": [],
   "source": [
    "import os\n",
    "import pandas as pd\n",
    "import surprise\n",
    "import yaml\n",
    "\n",
    "from matplotlib import pyplot as plt\n",
    "\n",
    "%matplotlib inline"
   ]
  },
  {
   "cell_type": "code",
   "execution_count": 65,
   "metadata": {},
   "outputs": [
    {
     "name": "stdout",
     "output_type": "stream",
     "text": [
      "Cloning and backing up repo...\n",
      "fatal: destination path 'RosettaCodeData' already exists and is not an empty directory.\n",
      "Compressing...\n",
      "Peeking into compressed files...\n",
      "Done!\n"
     ]
    }
   ],
   "source": [
    "# Clone the data repo (109 MiB as if 2019-11-17)\n",
    "# Will error out if you already have it\n",
    "!echo \"Cloning and backing up repo...\"\n",
    "!git clone https://github.com/acmeism/RosettaCodeData && cp -R RosettaCodeData RosettaCodeData-backup\n",
    "\n",
    "!echo \"Compressing...\"\n",
    "!rm RosettaCodeData.zip\n",
    "!zip -rq -9 RosettaCodeData.zip RosettaCodeData\n",
    "\n",
    "!echo \"Peeking into compressed files...\"\n",
    "!unzip -lv RosettaCodeData.zip > RosettaCodeData.txt\n",
    "\n",
    "!echo \"Done!\""
   ]
  },
  {
   "cell_type": "code",
   "execution_count": 71,
   "metadata": {},
   "outputs": [],
   "source": [
    "chosen_tasks = pd.read_csv('special-tasks.txt', header=None, sep='\\t')\n",
    "chosen_tasks.columns=['url']\n",
    "\n",
    "# Task selection: not so mathematical ones\n",
    "with open('RosettaCodeData/Meta/Task.yaml') as task_names:\n",
    "    names = pd.DataFrame(yaml.safe_load(task_names)).T\n",
    "    names.loc[:, 'url'] = names.loc[:, 'url'].map(lambda url: f'https://rosettacode.org/wiki/{url}')\n",
    "    \n",
    "tasks = set(chosen_tasks.merge(names, how='inner')['path'])"
   ]
  },
  {
   "cell_type": "code",
   "execution_count": 72,
   "metadata": {},
   "outputs": [],
   "source": [
    "languages = os.listdir(os.path.join('RosettaCodeData', 'Lang'))\n",
    "\n",
    "comp_sizes = {}\n",
    "\n",
    "with open('RosettaCodeData.txt') as f:\n",
    "    with open('dupes.txt', 'w') as g:\n",
    "        for line in f:\n",
    "            stats = line.split()\n",
    "            try:\n",
    "                if len(stats) == 8 and stats[1] != 'Stored':\n",
    "                    comp_size = int(stats[2])\n",
    "                    path = stats[7].split('/')\n",
    "                    task = path[2]\n",
    "                    lang = path[3]\n",
    "\n",
    "                    if (lang, task) in comp_sizes:\n",
    "                        print(f'!rm {stats[7]}', file=g)\n",
    "                        # Multiple implementations of same task and same language; \n",
    "                        # can't manually check which is right (too many)\n",
    "                        # so we completely drop duplicates \n",
    "                        \n",
    "                        # This is most important when dealing with the Rosetta Code dataset, \n",
    "                        # while the wiki format does not clarify alternative implementations\n",
    "                        comp_sizes[(lang, task)] = None\n",
    "                    elif task not in tasks:\n",
    "                        comp_sizes[(lang, task)] = None\n",
    "                    else:\n",
    "                        comp_sizes[(lang, task)] = comp_size\n",
    "            except ValueError:\n",
    "                pass\n",
    "            except IndexError:\n",
    "                pass\n",
    "            "
   ]
  },
  {
   "cell_type": "code",
   "execution_count": 73,
   "metadata": {},
   "outputs": [
    {
     "data": {
      "text/plain": [
       "94988"
      ]
     },
     "execution_count": 73,
     "metadata": {},
     "output_type": "execute_result"
    }
   ],
   "source": [
    "len(comp_sizes)"
   ]
  },
  {
   "cell_type": "code",
   "execution_count": 74,
   "metadata": {},
   "outputs": [],
   "source": [
    "def get_path(*deeper):\n",
    "    return os.path.join('RosettaCodeData', 'Task', *deeper)\n",
    "\n",
    "# Plain file size of evaluation, instead of zipped size; kept for reference\n",
    "# def measure(task, lang):\n",
    "#     files = os.listdir(get_path(task, lang))\n",
    "#     size = min(os.stat(get_path(task, lang, file)).st_size for file in files)\n",
    "#     return size\n",
    "\n",
    "def measure(task, lang):\n",
    "    res = comp_sizes[(lang, task)]\n",
    "    if res:\n",
    "        return res\n",
    "    else:\n",
    "        raise KeyError(f'Duplicate files for task {task} lang {lang}')\n",
    "    \n",
    "# measure('24-game', 'Python')"
   ]
  },
  {
   "cell_type": "code",
   "execution_count": 75,
   "metadata": {},
   "outputs": [],
   "source": [
    "votes_list = []\n",
    "\n",
    "for lang in languages:\n",
    "    for task in tasks:\n",
    "        try:\n",
    "            votes_list.append([task, lang, measure(task, lang)])\n",
    "        except KeyError:\n",
    "            pass"
   ]
  },
  {
   "cell_type": "code",
   "execution_count": 76,
   "metadata": {},
   "outputs": [
    {
     "data": {
      "text/plain": [
       "count    7419.000000\n",
       "mean        5.330114\n",
       "std         0.888025\n",
       "min         1.945910\n",
       "25%         4.727388\n",
       "50%         5.298317\n",
       "75%         5.924256\n",
       "max         8.842027\n",
       "Name: measure, dtype: float64"
      ]
     },
     "execution_count": 76,
     "metadata": {},
     "output_type": "execute_result"
    }
   ],
   "source": [
    "votes = pd.DataFrame(votes_list, columns=['task', 'lang', 'measure'])\n",
    "votes['measure'] = pd.np.log(votes['measure'])\n",
    "votes['measure'].describe()"
   ]
  },
  {
   "cell_type": "code",
   "execution_count": 77,
   "metadata": {},
   "outputs": [
    {
     "data": {
      "text/plain": [
       "{'test_rmse': array([0.54515647, 0.54196091]),\n",
       " 'test_mae': array([0.41771245, 0.41752889]),\n",
       " 'fit_time': (1.3932111263275146, 1.451622486114502),\n",
       " 'test_time': (0.15303540229797363, 0.14588046073913574)}"
      ]
     },
     "execution_count": 77,
     "metadata": {},
     "output_type": "execute_result"
    }
   ],
   "source": [
    "# Get an idea of the RMSE and MAE\n",
    "reader = surprise.Reader(rating_scale=(votes['measure'].min(), votes['measure'].max()))\n",
    "dataset = surprise.Dataset.load_from_df(votes, reader)\n",
    "algo = surprise.SVDpp()\n",
    "surprise.model_selection.cross_validate(algo, dataset, cv=2)"
   ]
  },
  {
   "cell_type": "code",
   "execution_count": 78,
   "metadata": {},
   "outputs": [
    {
     "data": {
      "text/plain": [
       "<surprise.prediction_algorithms.matrix_factorization.SVDpp at 0x7f2c886b6d10>"
      ]
     },
     "execution_count": 78,
     "metadata": {},
     "output_type": "execute_result"
    }
   ],
   "source": [
    "full_set = dataset.build_full_trainset()\n",
    "algo.fit(full_set)"
   ]
  },
  {
   "cell_type": "code",
   "execution_count": 79,
   "metadata": {},
   "outputs": [],
   "source": [
    "missing_set = full_set.build_anti_testset()\n",
    "preds = algo.test(missing_set)\n",
    "assert len(preds) > 0\n",
    "est_votes = pd.DataFrame(preds).loc[:, ['uid', 'iid', 'est']]\n",
    "est_votes.columns = ['task', 'lang', 'measure']"
   ]
  },
  {
   "cell_type": "code",
   "execution_count": 80,
   "metadata": {},
   "outputs": [
    {
     "data": {
      "text/html": [
       "<div>\n",
       "<style scoped>\n",
       "    .dataframe tbody tr th:only-of-type {\n",
       "        vertical-align: middle;\n",
       "    }\n",
       "\n",
       "    .dataframe tbody tr th {\n",
       "        vertical-align: top;\n",
       "    }\n",
       "\n",
       "    .dataframe thead th {\n",
       "        text-align: right;\n",
       "    }\n",
       "</style>\n",
       "<table border=\"1\" class=\"dataframe\">\n",
       "  <thead>\n",
       "    <tr style=\"text-align: right;\">\n",
       "      <th></th>\n",
       "      <th>measure</th>\n",
       "    </tr>\n",
       "    <tr>\n",
       "      <th>lang</th>\n",
       "      <th></th>\n",
       "    </tr>\n",
       "  </thead>\n",
       "  <tbody>\n",
       "    <tr>\n",
       "      <th>K</th>\n",
       "      <td>680.350055</td>\n",
       "    </tr>\n",
       "    <tr>\n",
       "      <th>Oforth</th>\n",
       "      <td>691.576779</td>\n",
       "    </tr>\n",
       "    <tr>\n",
       "      <th>Mathematica</th>\n",
       "      <td>696.499098</td>\n",
       "    </tr>\n",
       "    <tr>\n",
       "      <th>Wart</th>\n",
       "      <td>699.789780</td>\n",
       "    </tr>\n",
       "    <tr>\n",
       "      <th>PicoLisp</th>\n",
       "      <td>700.916194</td>\n",
       "    </tr>\n",
       "    <tr>\n",
       "      <th>...</th>\n",
       "      <td>...</td>\n",
       "    </tr>\n",
       "    <tr>\n",
       "      <th>MIPS-Assembly</th>\n",
       "      <td>897.052200</td>\n",
       "    </tr>\n",
       "    <tr>\n",
       "      <th>REXX</th>\n",
       "      <td>910.805058</td>\n",
       "    </tr>\n",
       "    <tr>\n",
       "      <th>LLVM</th>\n",
       "      <td>917.770035</td>\n",
       "    </tr>\n",
       "    <tr>\n",
       "      <th>360-Assembly</th>\n",
       "      <td>948.303639</td>\n",
       "    </tr>\n",
       "    <tr>\n",
       "      <th>ARM-Assembly</th>\n",
       "      <td>1074.323794</td>\n",
       "    </tr>\n",
       "  </tbody>\n",
       "</table>\n",
       "<p>387 rows × 1 columns</p>\n",
       "</div>"
      ],
      "text/plain": [
       "                   measure\n",
       "lang                      \n",
       "K               680.350055\n",
       "Oforth          691.576779\n",
       "Mathematica     696.499098\n",
       "Wart            699.789780\n",
       "PicoLisp        700.916194\n",
       "...                    ...\n",
       "MIPS-Assembly   897.052200\n",
       "REXX            910.805058\n",
       "LLVM            917.770035\n",
       "360-Assembly    948.303639\n",
       "ARM-Assembly   1074.323794\n",
       "\n",
       "[387 rows x 1 columns]"
      ]
     },
     "execution_count": 80,
     "metadata": {},
     "output_type": "execute_result"
    }
   ],
   "source": [
    "all_votes = pd.concat([votes, est_votes]).reset_index(drop=True).set_index(['task', 'lang'])\n",
    "all_votes.sum(level=1).sort_values('measure')"
   ]
  },
  {
   "cell_type": "markdown",
   "metadata": {},
   "source": [
    "# Most verbose languages"
   ]
  },
  {
   "cell_type": "code",
   "execution_count": 81,
   "metadata": {},
   "outputs": [
    {
     "data": {
      "text/html": [
       "<div>\n",
       "<style scoped>\n",
       "    .dataframe tbody tr th:only-of-type {\n",
       "        vertical-align: middle;\n",
       "    }\n",
       "\n",
       "    .dataframe tbody tr th {\n",
       "        vertical-align: top;\n",
       "    }\n",
       "\n",
       "    .dataframe thead th {\n",
       "        text-align: right;\n",
       "    }\n",
       "</style>\n",
       "<table border=\"1\" class=\"dataframe\">\n",
       "  <thead>\n",
       "    <tr style=\"text-align: right;\">\n",
       "      <th></th>\n",
       "      <th>measure</th>\n",
       "    </tr>\n",
       "    <tr>\n",
       "      <th>lang</th>\n",
       "      <th></th>\n",
       "    </tr>\n",
       "  </thead>\n",
       "  <tbody>\n",
       "    <tr>\n",
       "      <th>ARM-Assembly</th>\n",
       "      <td>2097.222652</td>\n",
       "    </tr>\n",
       "    <tr>\n",
       "      <th>360-Assembly</th>\n",
       "      <td>891.927842</td>\n",
       "    </tr>\n",
       "    <tr>\n",
       "      <th>REXX</th>\n",
       "      <td>714.958408</td>\n",
       "    </tr>\n",
       "    <tr>\n",
       "      <th>LLVM</th>\n",
       "      <td>714.533152</td>\n",
       "    </tr>\n",
       "    <tr>\n",
       "      <th>NetRexx</th>\n",
       "      <td>646.674256</td>\n",
       "    </tr>\n",
       "    <tr>\n",
       "      <th>ALGOL-W</th>\n",
       "      <td>639.356644</td>\n",
       "    </tr>\n",
       "    <tr>\n",
       "      <th>MIPS-Assembly</th>\n",
       "      <td>614.396258</td>\n",
       "    </tr>\n",
       "    <tr>\n",
       "      <th>COBOL</th>\n",
       "      <td>606.701939</td>\n",
       "    </tr>\n",
       "    <tr>\n",
       "      <th>Fortran</th>\n",
       "      <td>578.313628</td>\n",
       "    </tr>\n",
       "    <tr>\n",
       "      <th>ALGOL-68</th>\n",
       "      <td>562.665851</td>\n",
       "    </tr>\n",
       "  </tbody>\n",
       "</table>\n",
       "</div>"
      ],
      "text/plain": [
       "                   measure\n",
       "lang                      \n",
       "ARM-Assembly   2097.222652\n",
       "360-Assembly    891.927842\n",
       "REXX            714.958408\n",
       "LLVM            714.533152\n",
       "NetRexx         646.674256\n",
       "ALGOL-W         639.356644\n",
       "MIPS-Assembly   614.396258\n",
       "COBOL           606.701939\n",
       "Fortran         578.313628\n",
       "ALGOL-68        562.665851"
      ]
     },
     "execution_count": 81,
     "metadata": {},
     "output_type": "execute_result"
    }
   ],
   "source": [
    "pd.np.exp(all_votes).mean(level=1).sort_values('measure', ascending=False).head(10)"
   ]
  },
  {
   "cell_type": "markdown",
   "metadata": {},
   "source": [
    "# Tersest languages"
   ]
  },
  {
   "cell_type": "code",
   "execution_count": 82,
   "metadata": {},
   "outputs": [
    {
     "data": {
      "text/html": [
       "<div>\n",
       "<style scoped>\n",
       "    .dataframe tbody tr th:only-of-type {\n",
       "        vertical-align: middle;\n",
       "    }\n",
       "\n",
       "    .dataframe tbody tr th {\n",
       "        vertical-align: top;\n",
       "    }\n",
       "\n",
       "    .dataframe thead th {\n",
       "        text-align: right;\n",
       "    }\n",
       "</style>\n",
       "<table border=\"1\" class=\"dataframe\">\n",
       "  <thead>\n",
       "    <tr style=\"text-align: right;\">\n",
       "      <th></th>\n",
       "      <th>measure</th>\n",
       "    </tr>\n",
       "    <tr>\n",
       "      <th>lang</th>\n",
       "      <th></th>\n",
       "    </tr>\n",
       "  </thead>\n",
       "  <tbody>\n",
       "    <tr>\n",
       "      <th>K</th>\n",
       "      <td>146.459167</td>\n",
       "    </tr>\n",
       "    <tr>\n",
       "      <th>Oforth</th>\n",
       "      <td>152.974191</td>\n",
       "    </tr>\n",
       "    <tr>\n",
       "      <th>Wart</th>\n",
       "      <td>161.425676</td>\n",
       "    </tr>\n",
       "    <tr>\n",
       "      <th>Burlesque</th>\n",
       "      <td>164.421802</td>\n",
       "    </tr>\n",
       "    <tr>\n",
       "      <th>Frink</th>\n",
       "      <td>166.278762</td>\n",
       "    </tr>\n",
       "    <tr>\n",
       "      <th>PicoLisp</th>\n",
       "      <td>167.374493</td>\n",
       "    </tr>\n",
       "    <tr>\n",
       "      <th>Mathematica</th>\n",
       "      <td>167.429058</td>\n",
       "    </tr>\n",
       "    <tr>\n",
       "      <th>IDL</th>\n",
       "      <td>171.407698</td>\n",
       "    </tr>\n",
       "    <tr>\n",
       "      <th>MIRC-Scripting-Language</th>\n",
       "      <td>175.273914</td>\n",
       "    </tr>\n",
       "    <tr>\n",
       "      <th>Befunge</th>\n",
       "      <td>175.917795</td>\n",
       "    </tr>\n",
       "  </tbody>\n",
       "</table>\n",
       "</div>"
      ],
      "text/plain": [
       "                            measure\n",
       "lang                               \n",
       "K                        146.459167\n",
       "Oforth                   152.974191\n",
       "Wart                     161.425676\n",
       "Burlesque                164.421802\n",
       "Frink                    166.278762\n",
       "PicoLisp                 167.374493\n",
       "Mathematica              167.429058\n",
       "IDL                      171.407698\n",
       "MIRC-Scripting-Language  175.273914\n",
       "Befunge                  175.917795"
      ]
     },
     "execution_count": 82,
     "metadata": {},
     "output_type": "execute_result"
    }
   ],
   "source": [
    "tersest = pd.np.exp(all_votes).mean(level=1).sort_values('measure')\n",
    "tersest.to_csv('tersest.csv')\n",
    "tersest.head(10)"
   ]
  },
  {
   "cell_type": "code",
   "execution_count": 83,
   "metadata": {},
   "outputs": [],
   "source": [
    "lengths = tersest.reset_index()\n",
    "pops = pd.read_csv('pop-index.csv')\n",
    "paired = lengths.merge(pops, how='inner')\n",
    "paired.loc[:, 'Popularity'] = pd.np.log(paired.loc[:, 'Popularity'])\n",
    "df = paired.set_index('lang').loc[:, ['measure', 'Popularity']]\n",
    "df.columns=['Code length', 'Popularity (Tiobe, Github, Rosetta)']"
   ]
  },
  {
   "cell_type": "code",
   "execution_count": 84,
   "metadata": {},
   "outputs": [
    {
     "data": {
      "text/plain": [
       "0.1331287683031869"
      ]
     },
     "execution_count": 84,
     "metadata": {},
     "output_type": "execute_result"
    }
   ],
   "source": [
    "# Sparsity of data\n",
    "len(votes) / len(all_votes)"
   ]
  },
  {
   "cell_type": "code",
   "execution_count": 85,
   "metadata": {},
   "outputs": [
    {
     "data": {
      "image/png": "[encoded data removed]",
      "text/plain": [
       "<Figure size 1080x1080 with 1 Axes>"
      ]
     },
     "metadata": {
      "needs_background": "light"
     },
     "output_type": "display_data"
    }
   ],
   "source": [
    "fig, ax = plt.subplots()\n",
    "df.plot('Code length', 'Popularity (Tiobe, Github, Rosetta)', kind='scatter', ax=ax, figsize=(15, 15))\n",
    "\n",
    "for k, v in df.iterrows():\n",
    "    ax.annotate(k, v, xytext=(5,-5), textcoords='offset points')"
   ]
  },
  {
   "cell_type": "markdown",
   "metadata": {},
   "source": [
    "# Hardest problems"
   ]
  },
  {
   "cell_type": "code",
   "execution_count": 86,
   "metadata": {},
   "outputs": [
    {
     "data": {
      "text/html": [
       "<div>\n",
       "<style scoped>\n",
       "    .dataframe tbody tr th:only-of-type {\n",
       "        vertical-align: middle;\n",
       "    }\n",
       "\n",
       "    .dataframe tbody tr th {\n",
       "        vertical-align: top;\n",
       "    }\n",
       "\n",
       "    .dataframe thead th {\n",
       "        text-align: right;\n",
       "    }\n",
       "</style>\n",
       "<table border=\"1\" class=\"dataframe\">\n",
       "  <thead>\n",
       "    <tr style=\"text-align: right;\">\n",
       "      <th></th>\n",
       "      <th>measure</th>\n",
       "    </tr>\n",
       "    <tr>\n",
       "      <th>task</th>\n",
       "      <th></th>\n",
       "    </tr>\n",
       "  </thead>\n",
       "  <tbody>\n",
       "    <tr>\n",
       "      <th>Stable-marriage-problem</th>\n",
       "      <td>1189.479849</td>\n",
       "    </tr>\n",
       "    <tr>\n",
       "      <th>Zebra-puzzle</th>\n",
       "      <td>1001.772000</td>\n",
       "    </tr>\n",
       "    <tr>\n",
       "      <th>Maze-solving</th>\n",
       "      <td>839.074897</td>\n",
       "    </tr>\n",
       "    <tr>\n",
       "      <th>Arithmetic-evaluation</th>\n",
       "      <td>801.756176</td>\n",
       "    </tr>\n",
       "    <tr>\n",
       "      <th>Sudoku</th>\n",
       "      <td>800.007110</td>\n",
       "    </tr>\n",
       "    <tr>\n",
       "      <th>Chat-server</th>\n",
       "      <td>799.308157</td>\n",
       "    </tr>\n",
       "    <tr>\n",
       "      <th>Calendar</th>\n",
       "      <td>743.898418</td>\n",
       "    </tr>\n",
       "    <tr>\n",
       "      <th>Update-a-configuration-file</th>\n",
       "      <td>741.665156</td>\n",
       "    </tr>\n",
       "    <tr>\n",
       "      <th>Solve-a-Hidato-puzzle</th>\n",
       "      <td>718.412060</td>\n",
       "    </tr>\n",
       "    <tr>\n",
       "      <th>Textonyms</th>\n",
       "      <td>679.726468</td>\n",
       "    </tr>\n",
       "  </tbody>\n",
       "</table>\n",
       "</div>"
      ],
      "text/plain": [
       "                                 measure\n",
       "task                                    \n",
       "Stable-marriage-problem      1189.479849\n",
       "Zebra-puzzle                 1001.772000\n",
       "Maze-solving                  839.074897\n",
       "Arithmetic-evaluation         801.756176\n",
       "Sudoku                        800.007110\n",
       "Chat-server                   799.308157\n",
       "Calendar                      743.898418\n",
       "Update-a-configuration-file   741.665156\n",
       "Solve-a-Hidato-puzzle         718.412060\n",
       "Textonyms                     679.726468"
      ]
     },
     "execution_count": 86,
     "metadata": {},
     "output_type": "execute_result"
    }
   ],
   "source": [
    "pd.np.exp(all_votes).mean(level=0).sort_values('measure', ascending=False).head(10)"
   ]
  },
  {
   "cell_type": "code",
   "execution_count": null,
   "metadata": {},
   "outputs": [],
   "source": []
  }
 ],
 "metadata": {
  "kernelspec": {
   "display_name": "Python 3",
   "language": "python",
   "name": "python3"
  },
  "language_info": {
   "codemirror_mode": {
    "name": "ipython",
    "version": 3
   },
   "file_extension": ".py",
   "mimetype": "text/x-python",
   "name": "python",
   "nbconvert_exporter": "python",
   "pygments_lexer": "ipython3",
   "version": "3.7.5"
  }
 },
 "nbformat": 4,
 "nbformat_minor": 2
}
