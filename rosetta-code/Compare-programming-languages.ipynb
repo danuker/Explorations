{
 "cells": [
  {
   "cell_type": "code",
   "execution_count": 3,
   "metadata": {},
   "outputs": [],
   "source": [
    "import os\n",
    "import pandas as pd\n",
    "import surprise\n",
    "import yaml\n",
    "\n",
    "from matplotlib import pyplot as plt\n",
    "\n",
    "%matplotlib inline"
   ]
  },
  {
   "cell_type": "code",
   "execution_count": 4,
   "metadata": {},
   "outputs": [],
   "source": [
    "# Clone the data repo (109 MiB as if 2019-11-17)\n",
    "# Will error out if you already have it\n",
    "# !echo \"Cloning and backing up repo...\"\n",
    "# !git clone https://github.com/acmeism/RosettaCodeData && cp -R RosettaCodeData RosettaCodeData-backup\n",
    "\n",
    "# !echo \"Compressing...\"\n",
    "# !rm RosettaCodeData.zip\n",
    "# !zip -rq -9 RosettaCodeData.zip RosettaCodeData\n",
    "\n",
    "# !echo \"Peeking into compressed files...\"\n",
    "# !unzip -lv RosettaCodeData.zip > RosettaCodeData.txt\n",
    "\n",
    "# !echo \"Done!\""
   ]
  },
  {
   "cell_type": "code",
   "execution_count": 5,
   "metadata": {},
   "outputs": [],
   "source": [
    "chosen_tasks = pd.read_csv('special-tasks.txt', header=None, sep='\\t')\n",
    "chosen_tasks.columns=['url']\n",
    "\n",
    "# Task selection: not so mathematical ones\n",
    "with open('RosettaCodeData/Meta/Task.yaml') as task_names:\n",
    "    names = pd.DataFrame(yaml.safe_load(task_names)).T\n",
    "    names.loc[:, 'url'] = names.loc[:, 'url'].map(lambda url: f'https://rosettacode.org/wiki/{url}')\n",
    "    \n",
    "tasks = set(chosen_tasks.merge(names, how='inner')['path'])"
   ]
  },
  {
   "cell_type": "code",
   "execution_count": 6,
   "metadata": {},
   "outputs": [],
   "source": [
    "languages = os.listdir(os.path.join('RosettaCodeData', 'Lang'))\n",
    "\n",
    "comp_sizes = {}\n",
    "\n",
    "with open('RosettaCodeData.txt') as f:\n",
    "    with open('dupes.txt', 'w') as g:\n",
    "        for line in f:\n",
    "            stats = line.split()\n",
    "            try:\n",
    "                if len(stats) == 8 and stats[1] != 'Stored':\n",
    "                    comp_size = int(stats[2])\n",
    "                    path = stats[7].split('/')\n",
    "                    task = path[2]\n",
    "                    lang = path[3]\n",
    "\n",
    "                    if (lang, task) in comp_sizes:\n",
    "                        print(f'!rm {stats[7]}', file=g)\n",
    "                        # Multiple implementations of same task and same language; \n",
    "                        # can't manually check which is right (too many)\n",
    "                        # so we completely drop duplicates \n",
    "                        \n",
    "                        # This is most important when dealing with the Rosetta Code dataset, \n",
    "                        # while the wiki format does not clarify alternative implementations\n",
    "                        comp_sizes[(lang, task)] = None\n",
    "                    elif task not in tasks:\n",
    "                        comp_sizes[(lang, task)] = None\n",
    "                    else:\n",
    "                        comp_sizes[(lang, task)] = comp_size\n",
    "            except ValueError:\n",
    "                pass\n",
    "            except IndexError:\n",
    "                pass\n",
    "            "
   ]
  },
  {
   "cell_type": "code",
   "execution_count": 7,
   "metadata": {},
   "outputs": [
    {
     "data": {
      "text/plain": [
       "94988"
      ]
     },
     "execution_count": 7,
     "metadata": {},
     "output_type": "execute_result"
    }
   ],
   "source": [
    "len(comp_sizes)"
   ]
  },
  {
   "cell_type": "code",
   "execution_count": 40,
   "metadata": {},
   "outputs": [],
   "source": [
    "def get_path(*deeper):\n",
    "    return os.path.join('RosettaCodeData', 'Task', *deeper)\n",
    "\n",
    "# Plain file size of evaluation, instead of zipped size; kept for reference\n",
    "def measure(task, lang):\n",
    "    files = os.listdir(get_path(task, lang))\n",
    "    if len(files) == 1:\n",
    "        return os.stat(get_path(task, lang, files[0])).st_size\n",
    "    else:\n",
    "        raise KeyError(f'Duplicate files for task {task} lang {lang}')\n",
    "\n",
    "# def measure(task, lang):\n",
    "#     res = comp_sizes[(lang, task)]\n",
    "#     if res:\n",
    "#         return res\n",
    "#     else:\n",
    "#         raise KeyError(f'Duplicate files for task {task} lang {lang}')\n",
    "    \n",
    "# measure('24-game', 'Python')"
   ]
  },
  {
   "cell_type": "code",
   "execution_count": 41,
   "metadata": {},
   "outputs": [
    {
     "data": {
      "text/plain": [
       "729"
      ]
     },
     "execution_count": 41,
     "metadata": {},
     "output_type": "execute_result"
    }
   ],
   "source": [
    "measure('Greyscale-bars-Display', 'Python')"
   ]
  },
  {
   "cell_type": "code",
   "execution_count": 42,
   "metadata": {},
   "outputs": [],
   "source": [
    "votes_list = []\n",
    "\n",
    "for lang in languages:\n",
    "    for task in tasks:\n",
    "        try:\n",
    "            votes_list.append([task, lang, measure(task, lang)])\n",
    "        except KeyError:\n",
    "            pass\n",
    "        except FileNotFoundError:\n",
    "            pass"
   ]
  },
  {
   "cell_type": "code",
   "execution_count": 43,
   "metadata": {},
   "outputs": [
    {
     "data": {
      "text/plain": [
       "count    7766.000000\n",
       "mean        5.757733\n",
       "std         1.302263\n",
       "min         0.000000\n",
       "25%         4.882802\n",
       "50%         5.783825\n",
       "75%         6.639876\n",
       "max         9.995200\n",
       "Name: measure, dtype: float64"
      ]
     },
     "execution_count": 43,
     "metadata": {},
     "output_type": "execute_result"
    }
   ],
   "source": [
    "votes = pd.DataFrame(votes_list, columns=['task', 'lang', 'measure']).replace([pd.np.inf, -pd.np.inf], pd.np.nan).dropna()\n",
    "votes['measure'] = pd.np.log(votes['measure']+1)\n",
    "votes['measure'].describe()"
   ]
  },
  {
   "cell_type": "code",
   "execution_count": 44,
   "metadata": {},
   "outputs": [
    {
     "data": {
      "text/plain": [
       "{'test_rmse': array([0.76906677, 0.78847251]),\n",
       " 'test_mae': array([0.58661586, 0.59717175]),\n",
       " 'fit_time': (1.9821767807006836, 2.2045161724090576),\n",
       " 'test_time': (0.191849946975708, 0.2016744613647461)}"
      ]
     },
     "execution_count": 44,
     "metadata": {},
     "output_type": "execute_result"
    }
   ],
   "source": [
    "# Get an idea of the RMSE and MAE\n",
    "reader = surprise.Reader(rating_scale=(votes['measure'].min(), votes['measure'].max()))\n",
    "dataset = surprise.Dataset.load_from_df(votes, reader)\n",
    "algo = surprise.SVDpp()\n",
    "surprise.model_selection.cross_validate(algo, dataset, cv=2)"
   ]
  },
  {
   "cell_type": "code",
   "execution_count": 45,
   "metadata": {},
   "outputs": [
    {
     "data": {
      "text/plain": [
       "<surprise.prediction_algorithms.matrix_factorization.SVDpp at 0x7f51699efb90>"
      ]
     },
     "execution_count": 45,
     "metadata": {},
     "output_type": "execute_result"
    }
   ],
   "source": [
    "full_set = dataset.build_full_trainset()\n",
    "algo.fit(full_set)"
   ]
  },
  {
   "cell_type": "code",
   "execution_count": 46,
   "metadata": {},
   "outputs": [],
   "source": [
    "missing_set = full_set.build_anti_testset()\n",
    "preds = algo.test(missing_set)\n",
    "assert len(preds) > 0\n",
    "est_votes = pd.DataFrame(preds).loc[:, ['uid', 'iid', 'est']]\n",
    "est_votes.columns = ['task', 'lang', 'measure']"
   ]
  },
  {
   "cell_type": "code",
   "execution_count": 47,
   "metadata": {},
   "outputs": [
    {
     "data": {
      "text/html": [
       "<div>\n",
       "<style scoped>\n",
       "    .dataframe tbody tr th:only-of-type {\n",
       "        vertical-align: middle;\n",
       "    }\n",
       "\n",
       "    .dataframe tbody tr th {\n",
       "        vertical-align: top;\n",
       "    }\n",
       "\n",
       "    .dataframe thead th {\n",
       "        text-align: right;\n",
       "    }\n",
       "</style>\n",
       "<table border=\"1\" class=\"dataframe\">\n",
       "  <thead>\n",
       "    <tr style=\"text-align: right;\">\n",
       "      <th></th>\n",
       "      <th>measure</th>\n",
       "    </tr>\n",
       "    <tr>\n",
       "      <th>lang</th>\n",
       "      <th></th>\n",
       "    </tr>\n",
       "  </thead>\n",
       "  <tbody>\n",
       "    <tr>\n",
       "      <th>Burlesque</th>\n",
       "      <td>711.217501</td>\n",
       "    </tr>\n",
       "    <tr>\n",
       "      <th>K</th>\n",
       "      <td>728.364542</td>\n",
       "    </tr>\n",
       "    <tr>\n",
       "      <th>Wart</th>\n",
       "      <td>730.948324</td>\n",
       "    </tr>\n",
       "    <tr>\n",
       "      <th>Gnuplot</th>\n",
       "      <td>731.087152</td>\n",
       "    </tr>\n",
       "    <tr>\n",
       "      <th>Mathematica</th>\n",
       "      <td>732.288586</td>\n",
       "    </tr>\n",
       "    <tr>\n",
       "      <th>...</th>\n",
       "      <td>...</td>\n",
       "    </tr>\n",
       "    <tr>\n",
       "      <th>COBOL</th>\n",
       "      <td>1026.743148</td>\n",
       "    </tr>\n",
       "    <tr>\n",
       "      <th>LLVM</th>\n",
       "      <td>1042.581852</td>\n",
       "    </tr>\n",
       "    <tr>\n",
       "      <th>REXX</th>\n",
       "      <td>1047.504791</td>\n",
       "    </tr>\n",
       "    <tr>\n",
       "      <th>360-Assembly</th>\n",
       "      <td>1098.313370</td>\n",
       "    </tr>\n",
       "    <tr>\n",
       "      <th>ARM-Assembly</th>\n",
       "      <td>1257.336971</td>\n",
       "    </tr>\n",
       "  </tbody>\n",
       "</table>\n",
       "<p>396 rows × 1 columns</p>\n",
       "</div>"
      ],
      "text/plain": [
       "                  measure\n",
       "lang                     \n",
       "Burlesque      711.217501\n",
       "K              728.364542\n",
       "Wart           730.948324\n",
       "Gnuplot        731.087152\n",
       "Mathematica    732.288586\n",
       "...                   ...\n",
       "COBOL         1026.743148\n",
       "LLVM          1042.581852\n",
       "REXX          1047.504791\n",
       "360-Assembly  1098.313370\n",
       "ARM-Assembly  1257.336971\n",
       "\n",
       "[396 rows x 1 columns]"
      ]
     },
     "execution_count": 47,
     "metadata": {},
     "output_type": "execute_result"
    }
   ],
   "source": [
    "all_votes = pd.concat([votes, est_votes]).reset_index(drop=True).set_index(['task', 'lang'])\n",
    "all_votes.sum(level=1).sort_values('measure')"
   ]
  },
  {
   "cell_type": "markdown",
   "metadata": {},
   "source": [
    "# Most verbose languages"
   ]
  },
  {
   "cell_type": "code",
   "execution_count": 48,
   "metadata": {},
   "outputs": [
    {
     "data": {
      "text/html": [
       "<div>\n",
       "<style scoped>\n",
       "    .dataframe tbody tr th:only-of-type {\n",
       "        vertical-align: middle;\n",
       "    }\n",
       "\n",
       "    .dataframe tbody tr th {\n",
       "        vertical-align: top;\n",
       "    }\n",
       "\n",
       "    .dataframe thead th {\n",
       "        text-align: right;\n",
       "    }\n",
       "</style>\n",
       "<table border=\"1\" class=\"dataframe\">\n",
       "  <thead>\n",
       "    <tr style=\"text-align: right;\">\n",
       "      <th></th>\n",
       "      <th>measure</th>\n",
       "    </tr>\n",
       "    <tr>\n",
       "      <th>lang</th>\n",
       "      <th></th>\n",
       "    </tr>\n",
       "  </thead>\n",
       "  <tbody>\n",
       "    <tr>\n",
       "      <th>ARM-Assembly</th>\n",
       "      <td>8191.397456</td>\n",
       "    </tr>\n",
       "    <tr>\n",
       "      <th>360-Assembly</th>\n",
       "      <td>2908.322219</td>\n",
       "    </tr>\n",
       "    <tr>\n",
       "      <th>REXX</th>\n",
       "      <td>2200.823137</td>\n",
       "    </tr>\n",
       "    <tr>\n",
       "      <th>COBOL</th>\n",
       "      <td>1994.216574</td>\n",
       "    </tr>\n",
       "    <tr>\n",
       "      <th>LLVM</th>\n",
       "      <td>1950.484815</td>\n",
       "    </tr>\n",
       "    <tr>\n",
       "      <th>ALGOL-W</th>\n",
       "      <td>1803.802797</td>\n",
       "    </tr>\n",
       "    <tr>\n",
       "      <th>MIPS-Assembly</th>\n",
       "      <td>1721.492599</td>\n",
       "    </tr>\n",
       "    <tr>\n",
       "      <th>NetRexx</th>\n",
       "      <td>1627.770084</td>\n",
       "    </tr>\n",
       "    <tr>\n",
       "      <th>Simula</th>\n",
       "      <td>1566.650391</td>\n",
       "    </tr>\n",
       "    <tr>\n",
       "      <th>ALGOL-68</th>\n",
       "      <td>1503.376596</td>\n",
       "    </tr>\n",
       "  </tbody>\n",
       "</table>\n",
       "</div>"
      ],
      "text/plain": [
       "                   measure\n",
       "lang                      \n",
       "ARM-Assembly   8191.397456\n",
       "360-Assembly   2908.322219\n",
       "REXX           2200.823137\n",
       "COBOL          1994.216574\n",
       "LLVM           1950.484815\n",
       "ALGOL-W        1803.802797\n",
       "MIPS-Assembly  1721.492599\n",
       "NetRexx        1627.770084\n",
       "Simula         1566.650391\n",
       "ALGOL-68       1503.376596"
      ]
     },
     "execution_count": 48,
     "metadata": {},
     "output_type": "execute_result"
    }
   ],
   "source": [
    "pd.np.exp(all_votes).mean(level=1).sort_values('measure', ascending=False).head(10)"
   ]
  },
  {
   "cell_type": "markdown",
   "metadata": {},
   "source": [
    "# Tersest languages"
   ]
  },
  {
   "cell_type": "code",
   "execution_count": 49,
   "metadata": {},
   "outputs": [
    {
     "data": {
      "text/html": [
       "<div>\n",
       "<style scoped>\n",
       "    .dataframe tbody tr th:only-of-type {\n",
       "        vertical-align: middle;\n",
       "    }\n",
       "\n",
       "    .dataframe tbody tr th {\n",
       "        vertical-align: top;\n",
       "    }\n",
       "\n",
       "    .dataframe thead th {\n",
       "        text-align: right;\n",
       "    }\n",
       "</style>\n",
       "<table border=\"1\" class=\"dataframe\">\n",
       "  <thead>\n",
       "    <tr style=\"text-align: right;\">\n",
       "      <th></th>\n",
       "      <th>measure</th>\n",
       "    </tr>\n",
       "    <tr>\n",
       "      <th>lang</th>\n",
       "      <th></th>\n",
       "    </tr>\n",
       "  </thead>\n",
       "  <tbody>\n",
       "    <tr>\n",
       "      <th>Burlesque</th>\n",
       "      <td>227.470759</td>\n",
       "    </tr>\n",
       "    <tr>\n",
       "      <th>Wart</th>\n",
       "      <td>256.508851</td>\n",
       "    </tr>\n",
       "    <tr>\n",
       "      <th>K</th>\n",
       "      <td>261.634524</td>\n",
       "    </tr>\n",
       "    <tr>\n",
       "      <th>Gnuplot</th>\n",
       "      <td>262.049625</td>\n",
       "    </tr>\n",
       "    <tr>\n",
       "      <th>Oforth</th>\n",
       "      <td>271.478314</td>\n",
       "    </tr>\n",
       "    <tr>\n",
       "      <th>Befunge</th>\n",
       "      <td>284.436212</td>\n",
       "    </tr>\n",
       "    <tr>\n",
       "      <th>GUISS</th>\n",
       "      <td>284.856619</td>\n",
       "    </tr>\n",
       "    <tr>\n",
       "      <th>APL</th>\n",
       "      <td>291.859609</td>\n",
       "    </tr>\n",
       "    <tr>\n",
       "      <th>FALSE</th>\n",
       "      <td>295.873795</td>\n",
       "    </tr>\n",
       "    <tr>\n",
       "      <th>ML-I</th>\n",
       "      <td>300.566001</td>\n",
       "    </tr>\n",
       "  </tbody>\n",
       "</table>\n",
       "</div>"
      ],
      "text/plain": [
       "              measure\n",
       "lang                 \n",
       "Burlesque  227.470759\n",
       "Wart       256.508851\n",
       "K          261.634524\n",
       "Gnuplot    262.049625\n",
       "Oforth     271.478314\n",
       "Befunge    284.436212\n",
       "GUISS      284.856619\n",
       "APL        291.859609\n",
       "FALSE      295.873795\n",
       "ML-I       300.566001"
      ]
     },
     "execution_count": 49,
     "metadata": {},
     "output_type": "execute_result"
    }
   ],
   "source": [
    "tersest = pd.np.exp(all_votes).mean(level=1).sort_values('measure')\n",
    "tersest.to_csv('tersest-unzipped.csv')\n",
    "tersest.head(10)"
   ]
  },
  {
   "cell_type": "code",
   "execution_count": 50,
   "metadata": {},
   "outputs": [],
   "source": [
    "lengths = tersest.reset_index()\n",
    "pops = pd.read_csv('pop-index.csv')\n",
    "paired = lengths.merge(pops, how='inner')\n",
    "paired.loc[:, 'Popularity'] = pd.np.log(paired.loc[:, 'Popularity'])\n",
    "df = paired.set_index('lang').loc[:, ['measure', 'Popularity']]\n",
    "df.columns=['Code length', 'Popularity (Tiobe, Github, Rosetta)']"
   ]
  },
  {
   "cell_type": "code",
   "execution_count": 51,
   "metadata": {},
   "outputs": [
    {
     "data": {
      "text/plain": [
       "0.13618827160493827"
      ]
     },
     "execution_count": 51,
     "metadata": {},
     "output_type": "execute_result"
    }
   ],
   "source": [
    "# Sparsity of data\n",
    "len(votes) / len(all_votes)"
   ]
  },
  {
   "cell_type": "code",
   "execution_count": 52,
   "metadata": {},
   "outputs": [
    {
     "data": {
      "image/png": "[encoded data removed]",
      "text/plain": [
       "<Figure size 1080x1080 with 1 Axes>"
      ]
     },
     "metadata": {
      "needs_background": "light"
     },
     "output_type": "display_data"
    }
   ],
   "source": [
    "fig, ax = plt.subplots()\n",
    "df.plot('Code length', 'Popularity (Tiobe, Github, Rosetta)', kind='scatter', ax=ax, figsize=(15, 15))\n",
    "\n",
    "for k, v in df.iterrows():\n",
    "    ax.annotate(k, v, xytext=(5,-5), textcoords='offset points')"
   ]
  },
  {
   "cell_type": "markdown",
   "metadata": {},
   "source": [
    "# Hardest problems"
   ]
  },
  {
   "cell_type": "code",
   "execution_count": 53,
   "metadata": {},
   "outputs": [
    {
     "data": {
      "text/html": [
       "<div>\n",
       "<style scoped>\n",
       "    .dataframe tbody tr th:only-of-type {\n",
       "        vertical-align: middle;\n",
       "    }\n",
       "\n",
       "    .dataframe tbody tr th {\n",
       "        vertical-align: top;\n",
       "    }\n",
       "\n",
       "    .dataframe thead th {\n",
       "        text-align: right;\n",
       "    }\n",
       "</style>\n",
       "<table border=\"1\" class=\"dataframe\">\n",
       "  <thead>\n",
       "    <tr style=\"text-align: right;\">\n",
       "      <th></th>\n",
       "      <th>measure</th>\n",
       "    </tr>\n",
       "    <tr>\n",
       "      <th>task</th>\n",
       "      <th></th>\n",
       "    </tr>\n",
       "  </thead>\n",
       "  <tbody>\n",
       "    <tr>\n",
       "      <th>Stable-marriage-problem</th>\n",
       "      <td>3654.492272</td>\n",
       "    </tr>\n",
       "    <tr>\n",
       "      <th>Zebra-puzzle</th>\n",
       "      <td>3132.066954</td>\n",
       "    </tr>\n",
       "    <tr>\n",
       "      <th>Arithmetic-evaluation</th>\n",
       "      <td>2335.679698</td>\n",
       "    </tr>\n",
       "    <tr>\n",
       "      <th>Maze-solving</th>\n",
       "      <td>2225.958183</td>\n",
       "    </tr>\n",
       "    <tr>\n",
       "      <th>Sudoku</th>\n",
       "      <td>2197.956395</td>\n",
       "    </tr>\n",
       "    <tr>\n",
       "      <th>Chat-server</th>\n",
       "      <td>2113.688979</td>\n",
       "    </tr>\n",
       "    <tr>\n",
       "      <th>Update-a-configuration-file</th>\n",
       "      <td>2049.354877</td>\n",
       "    </tr>\n",
       "    <tr>\n",
       "      <th>Topological-sort</th>\n",
       "      <td>1865.331943</td>\n",
       "    </tr>\n",
       "    <tr>\n",
       "      <th>Solve-a-Hidato-puzzle</th>\n",
       "      <td>1765.407956</td>\n",
       "    </tr>\n",
       "    <tr>\n",
       "      <th>Calendar</th>\n",
       "      <td>1633.120661</td>\n",
       "    </tr>\n",
       "    <tr>\n",
       "      <th>Twelve-statements</th>\n",
       "      <td>1630.473209</td>\n",
       "    </tr>\n",
       "    <tr>\n",
       "      <th>Solve-a-Numbrix-puzzle</th>\n",
       "      <td>1555.425342</td>\n",
       "    </tr>\n",
       "    <tr>\n",
       "      <th>Align-columns</th>\n",
       "      <td>1554.297604</td>\n",
       "    </tr>\n",
       "    <tr>\n",
       "      <th>Text-processing-1</th>\n",
       "      <td>1544.053312</td>\n",
       "    </tr>\n",
       "    <tr>\n",
       "      <th>Append-a-record-to-the-end-of-a-text-file</th>\n",
       "      <td>1517.045273</td>\n",
       "    </tr>\n",
       "    <tr>\n",
       "      <th>Discordian-date</th>\n",
       "      <td>1492.448424</td>\n",
       "    </tr>\n",
       "    <tr>\n",
       "      <th>SQL-based-authentication</th>\n",
       "      <td>1487.070426</td>\n",
       "    </tr>\n",
       "    <tr>\n",
       "      <th>Textonyms</th>\n",
       "      <td>1433.726687</td>\n",
       "    </tr>\n",
       "    <tr>\n",
       "      <th>N-queens-problem</th>\n",
       "      <td>1312.292561</td>\n",
       "    </tr>\n",
       "    <tr>\n",
       "      <th>Read-a-configuration-file</th>\n",
       "      <td>1289.674800</td>\n",
       "    </tr>\n",
       "  </tbody>\n",
       "</table>\n",
       "</div>"
      ],
      "text/plain": [
       "                                               measure\n",
       "task                                                  \n",
       "Stable-marriage-problem                    3654.492272\n",
       "Zebra-puzzle                               3132.066954\n",
       "Arithmetic-evaluation                      2335.679698\n",
       "Maze-solving                               2225.958183\n",
       "Sudoku                                     2197.956395\n",
       "Chat-server                                2113.688979\n",
       "Update-a-configuration-file                2049.354877\n",
       "Topological-sort                           1865.331943\n",
       "Solve-a-Hidato-puzzle                      1765.407956\n",
       "Calendar                                   1633.120661\n",
       "Twelve-statements                          1630.473209\n",
       "Solve-a-Numbrix-puzzle                     1555.425342\n",
       "Align-columns                              1554.297604\n",
       "Text-processing-1                          1544.053312\n",
       "Append-a-record-to-the-end-of-a-text-file  1517.045273\n",
       "Discordian-date                            1492.448424\n",
       "SQL-based-authentication                   1487.070426\n",
       "Textonyms                                  1433.726687\n",
       "N-queens-problem                           1312.292561\n",
       "Read-a-configuration-file                  1289.674800"
      ]
     },
     "execution_count": 53,
     "metadata": {},
     "output_type": "execute_result"
    }
   ],
   "source": [
    "pd.np.exp(all_votes).mean(level=0).sort_values('measure', ascending=False).head(20)"
   ]
  },
  {
   "cell_type": "code",
   "execution_count": 76,
   "metadata": {},
   "outputs": [],
   "source": [
    "compare = pd.merge(pd.read_csv('tersest-zipped.csv'), pd.read_csv('tersest-unzipped.csv'), on='lang').set_index('lang')\n",
    "compare['compression-ratio'] = compare['measure_y'] / compare['measure_x']\n",
    "compare.sort_values('compression-ratio').to_csv('tersest-compare.csv')"
   ]
  }
 ],
 "metadata": {
  "kernelspec": {
   "display_name": "Python 3",
   "language": "python",
   "name": "python3"
  },
  "language_info": {
   "codemirror_mode": {
    "name": "ipython",
    "version": 3
   },
   "file_extension": ".py",
   "mimetype": "text/x-python",
   "name": "python",
   "nbconvert_exporter": "python",
   "pygments_lexer": "ipython3",
   "version": "3.7.5"
  }
 },
 "nbformat": 4,
 "nbformat_minor": 2
}
